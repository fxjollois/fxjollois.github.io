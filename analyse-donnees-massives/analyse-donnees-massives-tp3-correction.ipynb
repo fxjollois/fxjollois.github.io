{
 "cells": [
  {
   "cell_type": "markdown",
   "metadata": {},
   "source": [
    "# TP3 - Introduction à `Python` - *correction*\n",
    "\n",
    "### Analyse de Données Massives - Master 1ère année\n",
    "\n",
    "## Exercice\n",
    "\n",
    "Le fichier contient les informations de 150 iris, répartis en 3 espèces et décrits par 4 variables. Voici quelques informations sur ce fichier.\n",
    "\n",
    "#### 1. Télécharger le fichier et importer les lignes dans python comme ci-dessus"
   ]
  },
  {
   "cell_type": "code",
   "execution_count": 1,
   "metadata": {
    "collapsed": false,
    "deletable": true,
    "editable": true
   },
   "outputs": [
    {
     "data": {
      "text/plain": [
       "[\"'Sepal.Length';'Sepal.Width';'Petal.Length';'Petal.Width';'Species'\\n\",\n",
       " \"5.1;3.5;1.4;0.2;'setosa'\\n\",\n",
       " \"4.9;3;1.4;0.2;'setosa'\\n\",\n",
       " \"4.7;3.2;1.3;0.2;'setosa'\\n\",\n",
       " \"4.6;3.1;1.5;0.2;'setosa'\\n\",\n",
       " \"5;3.6;1.4;0.2;'setosa'\\n\",\n",
       " \"5.4;3.9;1.7;0.4;'setosa'\\n\",\n",
       " \"4.6;3.4;1.4;0.3;'setosa'\\n\",\n",
       " \"5;3.4;1.5;0.2;'setosa'\\n\",\n",
       " \"4.4;2.9;1.4;0.2;'setosa'\\n\",\n",
       " \"4.9;3.1;1.5;0.1;'setosa'\\n\",\n",
       " \"5.4;3.7;1.5;0.2;'setosa'\\n\",\n",
       " \"4.8;3.4;1.6;0.2;'setosa'\\n\",\n",
       " \"4.8;3;1.4;0.1;'setosa'\\n\",\n",
       " \"4.3;3;1.1;0.1;'setosa'\\n\",\n",
       " \"5.8;4;1.2;0.2;'setosa'\\n\",\n",
       " \"5.7;4.4;1.5;0.4;'setosa'\\n\",\n",
       " \"5.4;3.9;1.3;0.4;'setosa'\\n\",\n",
       " \"5.1;3.5;1.4;0.3;'setosa'\\n\",\n",
       " \"5.7;3.8;1.7;0.3;'setosa'\\n\",\n",
       " \"5.1;3.8;1.5;0.3;'setosa'\\n\",\n",
       " \"5.4;3.4;1.7;0.2;'setosa'\\n\",\n",
       " \"5.1;3.7;1.5;0.4;'setosa'\\n\",\n",
       " \"4.6;3.6;1;0.2;'setosa'\\n\",\n",
       " \"5.1;3.3;1.7;0.5;'setosa'\\n\",\n",
       " \"4.8;3.4;1.9;0.2;'setosa'\\n\",\n",
       " \"5;3;1.6;0.2;'setosa'\\n\",\n",
       " \"5;3.4;1.6;0.4;'setosa'\\n\",\n",
       " \"5.2;3.5;1.5;0.2;'setosa'\\n\",\n",
       " \"5.2;3.4;1.4;0.2;'setosa'\\n\",\n",
       " \"4.7;3.2;1.6;0.2;'setosa'\\n\",\n",
       " \"4.8;3.1;1.6;0.2;'setosa'\\n\",\n",
       " \"5.4;3.4;1.5;0.4;'setosa'\\n\",\n",
       " \"5.2;4.1;1.5;0.1;'setosa'\\n\",\n",
       " \"5.5;4.2;1.4;0.2;'setosa'\\n\",\n",
       " \"4.9;3.1;1.5;0.2;'setosa'\\n\",\n",
       " \"5;3.2;1.2;0.2;'setosa'\\n\",\n",
       " \"5.5;3.5;1.3;0.2;'setosa'\\n\",\n",
       " \"4.9;3.6;1.4;0.1;'setosa'\\n\",\n",
       " \"4.4;3;1.3;0.2;'setosa'\\n\",\n",
       " \"5.1;3.4;1.5;0.2;'setosa'\\n\",\n",
       " \"5;3.5;1.3;0.3;'setosa'\\n\",\n",
       " \"4.5;2.3;1.3;0.3;'setosa'\\n\",\n",
       " \"4.4;3.2;1.3;0.2;'setosa'\\n\",\n",
       " \"5;3.5;1.6;0.6;'setosa'\\n\",\n",
       " \"5.1;3.8;1.9;0.4;'setosa'\\n\",\n",
       " \"4.8;3;1.4;0.3;'setosa'\\n\",\n",
       " \"5.1;3.8;1.6;0.2;'setosa'\\n\",\n",
       " \"4.6;3.2;1.4;0.2;'setosa'\\n\",\n",
       " \"5.3;3.7;1.5;0.2;'setosa'\\n\",\n",
       " \"5;3.3;1.4;0.2;'setosa'\\n\",\n",
       " \"7;3.2;4.7;1.4;'versicolor'\\n\",\n",
       " \"6.4;3.2;4.5;1.5;'versicolor'\\n\",\n",
       " \"6.9;3.1;4.9;1.5;'versicolor'\\n\",\n",
       " \"5.5;2.3;4;1.3;'versicolor'\\n\",\n",
       " \"6.5;2.8;4.6;1.5;'versicolor'\\n\",\n",
       " \"5.7;2.8;4.5;1.3;'versicolor'\\n\",\n",
       " \"6.3;3.3;4.7;1.6;'versicolor'\\n\",\n",
       " \"4.9;2.4;3.3;1;'versicolor'\\n\",\n",
       " \"6.6;2.9;4.6;1.3;'versicolor'\\n\",\n",
       " \"5.2;2.7;3.9;1.4;'versicolor'\\n\",\n",
       " \"5;2;3.5;1;'versicolor'\\n\",\n",
       " \"5.9;3;4.2;1.5;'versicolor'\\n\",\n",
       " \"6;2.2;4;1;'versicolor'\\n\",\n",
       " \"6.1;2.9;4.7;1.4;'versicolor'\\n\",\n",
       " \"5.6;2.9;3.6;1.3;'versicolor'\\n\",\n",
       " \"6.7;3.1;4.4;1.4;'versicolor'\\n\",\n",
       " \"5.6;3;4.5;1.5;'versicolor'\\n\",\n",
       " \"5.8;2.7;4.1;1;'versicolor'\\n\",\n",
       " \"6.2;2.2;4.5;1.5;'versicolor'\\n\",\n",
       " \"5.6;2.5;3.9;1.1;'versicolor'\\n\",\n",
       " \"5.9;3.2;4.8;1.8;'versicolor'\\n\",\n",
       " \"6.1;2.8;4;1.3;'versicolor'\\n\",\n",
       " \"6.3;2.5;4.9;1.5;'versicolor'\\n\",\n",
       " \"6.1;2.8;4.7;1.2;'versicolor'\\n\",\n",
       " \"6.4;2.9;4.3;1.3;'versicolor'\\n\",\n",
       " \"6.6;3;4.4;1.4;'versicolor'\\n\",\n",
       " \"6.8;2.8;4.8;1.4;'versicolor'\\n\",\n",
       " \"6.7;3;5;1.7;'versicolor'\\n\",\n",
       " \"6;2.9;4.5;1.5;'versicolor'\\n\",\n",
       " \"5.7;2.6;3.5;1;'versicolor'\\n\",\n",
       " \"5.5;2.4;3.8;1.1;'versicolor'\\n\",\n",
       " \"5.5;2.4;3.7;1;'versicolor'\\n\",\n",
       " \"5.8;2.7;3.9;1.2;'versicolor'\\n\",\n",
       " \"6;2.7;5.1;1.6;'versicolor'\\n\",\n",
       " \"5.4;3;4.5;1.5;'versicolor'\\n\",\n",
       " \"6;3.4;4.5;1.6;'versicolor'\\n\",\n",
       " \"6.7;3.1;4.7;1.5;'versicolor'\\n\",\n",
       " \"6.3;2.3;4.4;1.3;'versicolor'\\n\",\n",
       " \"5.6;3;4.1;1.3;'versicolor'\\n\",\n",
       " \"5.5;2.5;4;1.3;'versicolor'\\n\",\n",
       " \"5.5;2.6;4.4;1.2;'versicolor'\\n\",\n",
       " \"6.1;3;4.6;1.4;'versicolor'\\n\",\n",
       " \"5.8;2.6;4;1.2;'versicolor'\\n\",\n",
       " \"5;2.3;3.3;1;'versicolor'\\n\",\n",
       " \"5.6;2.7;4.2;1.3;'versicolor'\\n\",\n",
       " \"5.7;3;4.2;1.2;'versicolor'\\n\",\n",
       " \"5.7;2.9;4.2;1.3;'versicolor'\\n\",\n",
       " \"6.2;2.9;4.3;1.3;'versicolor'\\n\",\n",
       " \"5.1;2.5;3;1.1;'versicolor'\\n\",\n",
       " \"5.7;2.8;4.1;1.3;'versicolor'\\n\",\n",
       " \"6.3;3.3;6;2.5;'virginica'\\n\",\n",
       " \"5.8;2.7;5.1;1.9;'virginica'\\n\",\n",
       " \"7.1;3;5.9;2.1;'virginica'\\n\",\n",
       " \"6.3;2.9;5.6;1.8;'virginica'\\n\",\n",
       " \"6.5;3;5.8;2.2;'virginica'\\n\",\n",
       " \"7.6;3;6.6;2.1;'virginica'\\n\",\n",
       " \"4.9;2.5;4.5;1.7;'virginica'\\n\",\n",
       " \"7.3;2.9;6.3;1.8;'virginica'\\n\",\n",
       " \"6.7;2.5;5.8;1.8;'virginica'\\n\",\n",
       " \"7.2;3.6;6.1;2.5;'virginica'\\n\",\n",
       " \"6.5;3.2;5.1;2;'virginica'\\n\",\n",
       " \"6.4;2.7;5.3;1.9;'virginica'\\n\",\n",
       " \"6.8;3;5.5;2.1;'virginica'\\n\",\n",
       " \"5.7;2.5;5;2;'virginica'\\n\",\n",
       " \"5.8;2.8;5.1;2.4;'virginica'\\n\",\n",
       " \"6.4;3.2;5.3;2.3;'virginica'\\n\",\n",
       " \"6.5;3;5.5;1.8;'virginica'\\n\",\n",
       " \"7.7;3.8;6.7;2.2;'virginica'\\n\",\n",
       " \"7.7;2.6;6.9;2.3;'virginica'\\n\",\n",
       " \"6;2.2;5;1.5;'virginica'\\n\",\n",
       " \"6.9;3.2;5.7;2.3;'virginica'\\n\",\n",
       " \"5.6;2.8;4.9;2;'virginica'\\n\",\n",
       " \"7.7;2.8;6.7;2;'virginica'\\n\",\n",
       " \"6.3;2.7;4.9;1.8;'virginica'\\n\",\n",
       " \"6.7;3.3;5.7;2.1;'virginica'\\n\",\n",
       " \"7.2;3.2;6;1.8;'virginica'\\n\",\n",
       " \"6.2;2.8;4.8;1.8;'virginica'\\n\",\n",
       " \"6.1;3;4.9;1.8;'virginica'\\n\",\n",
       " \"6.4;2.8;5.6;2.1;'virginica'\\n\",\n",
       " \"7.2;3;5.8;1.6;'virginica'\\n\",\n",
       " \"7.4;2.8;6.1;1.9;'virginica'\\n\",\n",
       " \"7.9;3.8;6.4;2;'virginica'\\n\",\n",
       " \"6.4;2.8;5.6;2.2;'virginica'\\n\",\n",
       " \"6.3;2.8;5.1;1.5;'virginica'\\n\",\n",
       " \"6.1;2.6;5.6;1.4;'virginica'\\n\",\n",
       " \"7.7;3;6.1;2.3;'virginica'\\n\",\n",
       " \"6.3;3.4;5.6;2.4;'virginica'\\n\",\n",
       " \"6.4;3.1;5.5;1.8;'virginica'\\n\",\n",
       " \"6;3;4.8;1.8;'virginica'\\n\",\n",
       " \"6.9;3.1;5.4;2.1;'virginica'\\n\",\n",
       " \"6.7;3.1;5.6;2.4;'virginica'\\n\",\n",
       " \"6.9;3.1;5.1;2.3;'virginica'\\n\",\n",
       " \"5.8;2.7;5.1;1.9;'virginica'\\n\",\n",
       " \"6.8;3.2;5.9;2.3;'virginica'\\n\",\n",
       " \"6.7;3.3;5.7;2.5;'virginica'\\n\",\n",
       " \"6.7;3;5.2;2.3;'virginica'\\n\",\n",
       " \"6.3;2.5;5;1.9;'virginica'\\n\",\n",
       " \"6.5;3;5.2;2;'virginica'\\n\",\n",
       " \"6.2;3.4;5.4;2.3;'virginica'\\n\",\n",
       " \"5.9;3;5.1;1.8;'virginica'\\n\"]"
      ]
     },
     "execution_count": 1,
     "metadata": {},
     "output_type": "execute_result"
    }
   ],
   "source": [
    "fichier = open(\"donnees/Iris.txt\")\n",
    "lignesBrutes = fichier.readlines()\n",
    "fichier.close()\n",
    "lignesBrutes"
   ]
  },
  {
   "cell_type": "markdown",
   "metadata": {},
   "source": [
    "#### 2. A partir de la liste de chaînes obtenue, créer une liste de 151 listes.\n",
    "\n",
    "Chaque sous-liste contiendra les 5 informations présentes sur chaque ligne (séparées par des `\";\"`). Supprimer les quotes (`\"'\"`) et le caractère de fin de ligne (`\"\\n\"`)."
   ]
  },
  {
   "cell_type": "code",
   "execution_count": 2,
   "metadata": {
    "collapsed": false,
    "deletable": true,
    "editable": true
   },
   "outputs": [
    {
     "data": {
      "text/plain": [
       "[['Sepal.Length', 'Sepal.Width', 'Petal.Length', 'Petal.Width', 'Species'],\n",
       " ['5.1', '3.5', '1.4', '0.2', 'setosa'],\n",
       " ['4.9', '3', '1.4', '0.2', 'setosa'],\n",
       " ['4.7', '3.2', '1.3', '0.2', 'setosa'],\n",
       " ['4.6', '3.1', '1.5', '0.2', 'setosa'],\n",
       " ['5', '3.6', '1.4', '0.2', 'setosa'],\n",
       " ['5.4', '3.9', '1.7', '0.4', 'setosa'],\n",
       " ['4.6', '3.4', '1.4', '0.3', 'setosa'],\n",
       " ['5', '3.4', '1.5', '0.2', 'setosa'],\n",
       " ['4.4', '2.9', '1.4', '0.2', 'setosa']]"
      ]
     },
     "execution_count": 2,
     "metadata": {},
     "output_type": "execute_result"
    }
   ],
   "source": [
    "lignes = [l.replace(\"'\", \"\").replace(\"\\n\", \"\").split(\";\") for l in lignesBrutes]\n",
    "lignes[:10]"
   ]
  },
  {
   "cell_type": "markdown",
   "metadata": {},
   "source": [
    "#### 3. Créer une fonction permettant de transformer une chaîne en réel\n",
    "\n",
    "- si cette chaîne n’est pas transformable, renvoyer la telle quelle\n",
    "- Exemple : `f(\"1.234\")` renverra `1.234`, mais `f(\"rien\")` renverra `\"rien\"`"
   ]
  },
  {
   "cell_type": "code",
   "execution_count": 6,
   "metadata": {
    "collapsed": false
   },
   "outputs": [
    {
     "name": "stdout",
     "output_type": "stream",
     "text": [
      "1.234\n",
      "setosa\n"
     ]
    }
   ],
   "source": [
    "def enReel(v):\n",
    "    try:\n",
    "        res = float(v)\n",
    "    except:\n",
    "        res = v\n",
    "    finally:\n",
    "        return res\n",
    "print(enReel(\"1.234\"))\n",
    "print(enReel(\"setosa\"))"
   ]
  },
  {
   "cell_type": "markdown",
   "metadata": {},
   "source": [
    "#### 4. Créer une liste de 150 dictionnaires, chaque dictionnaire sera un iris, avec des champs nommés.\n",
    "\n",
    "Les noms des variables sont sur la première ligne de la liste précédemment créée."
   ]
  },
  {
   "cell_type": "code",
   "execution_count": 8,
   "metadata": {
    "collapsed": false
   },
   "outputs": [
    {
     "data": {
      "text/plain": [
       "['Sepal.Length', 'Sepal.Width', 'Petal.Length', 'Petal.Width', 'Species']"
      ]
     },
     "execution_count": 8,
     "metadata": {},
     "output_type": "execute_result"
    }
   ],
   "source": [
    "lignes[0]"
   ]
  },
  {
   "cell_type": "markdown",
   "metadata": {},
   "source": [
    "Chaque ligne contient donc les informations d'un iris."
   ]
  },
  {
   "cell_type": "code",
   "execution_count": 9,
   "metadata": {
    "collapsed": false
   },
   "outputs": [
    {
     "data": {
      "text/plain": [
       "['5.1', '3.5', '1.4', '0.2', 'setosa']"
      ]
     },
     "execution_count": 9,
     "metadata": {},
     "output_type": "execute_result"
    }
   ],
   "source": [
    "lignes[1]"
   ]
  },
  {
   "cell_type": "markdown",
   "metadata": {},
   "source": [
    "Avec la fonction `zip()`, on peut donc créer un dictionnaire, via une *list comprehension*."
   ]
  },
  {
   "cell_type": "code",
   "execution_count": 11,
   "metadata": {
    "collapsed": false
   },
   "outputs": [
    {
     "name": "stdout",
     "output_type": "stream",
     "text": [
      "cle = Sepal.Length \t; valeur = 5.1\n",
      "cle = Sepal.Width \t; valeur = 3.5\n",
      "cle = Petal.Length \t; valeur = 1.4\n",
      "cle = Petal.Width \t; valeur = 0.2\n",
      "cle = Species \t; valeur = setosa\n"
     ]
    }
   ],
   "source": [
    "for cle, valeur in zip(lignes[0], lignes[1]):\n",
    "    print(\"cle =\", cle, \"\\t; valeur =\", valeur)"
   ]
  },
  {
   "cell_type": "code",
   "execution_count": 12,
   "metadata": {
    "collapsed": false
   },
   "outputs": [
    {
     "data": {
      "text/plain": [
       "{'Petal.Length': '1.4',\n",
       " 'Petal.Width': '0.2',\n",
       " 'Sepal.Length': '5.1',\n",
       " 'Sepal.Width': '3.5',\n",
       " 'Species': 'setosa'}"
      ]
     },
     "execution_count": 12,
     "metadata": {},
     "output_type": "execute_result"
    }
   ],
   "source": [
    "{cle:val for cle, val in zip(lignes[0], lignes[1])}"
   ]
  },
  {
   "cell_type": "markdown",
   "metadata": {},
   "source": [
    "En utilisant la fonction `enReel()` créée précédemment, nous arrivons à créer un objet tel que nous le souhaitons."
   ]
  },
  {
   "cell_type": "code",
   "execution_count": 13,
   "metadata": {
    "collapsed": false
   },
   "outputs": [
    {
     "data": {
      "text/plain": [
       "{'Petal.Length': 1.4,\n",
       " 'Petal.Width': 0.2,\n",
       " 'Sepal.Length': 5.1,\n",
       " 'Sepal.Width': 3.5,\n",
       " 'Species': 'setosa'}"
      ]
     },
     "execution_count": 13,
     "metadata": {},
     "output_type": "execute_result"
    }
   ],
   "source": [
    "{cle:enReel(val) for cle, val in zip(lignes[0], lignes[1])}"
   ]
  },
  {
   "cell_type": "markdown",
   "metadata": {},
   "source": [
    "Une boucle `for` sur chaque ligne permet de compléter un objet au fur et à mesure, comme ci-dessous."
   ]
  },
  {
   "cell_type": "code",
   "execution_count": 25,
   "metadata": {
    "collapsed": false
   },
   "outputs": [
    {
     "data": {
      "text/plain": [
       "[{'Petal.Length': 1.4,\n",
       "  'Petal.Width': 0.2,\n",
       "  'Sepal.Length': 5.1,\n",
       "  'Sepal.Width': 3.5,\n",
       "  'Species': 'setosa'},\n",
       " {'Petal.Length': 1.4,\n",
       "  'Petal.Width': 0.2,\n",
       "  'Sepal.Length': 4.9,\n",
       "  'Sepal.Width': 3.0,\n",
       "  'Species': 'setosa'},\n",
       " {'Petal.Length': 1.3,\n",
       "  'Petal.Width': 0.2,\n",
       "  'Sepal.Length': 4.7,\n",
       "  'Sepal.Width': 3.2,\n",
       "  'Species': 'setosa'}]"
      ]
     },
     "execution_count": 25,
     "metadata": {},
     "output_type": "execute_result"
    }
   ],
   "source": [
    "donnees = []\n",
    "for i, l in enumerate(lignes):\n",
    "    if i == 0:\n",
    "        var = l\n",
    "    else:\n",
    "        donnees.append({cle:enReel(val) for cle, val in zip(var, l)})\n",
    "donnees[:3]"
   ]
  },
  {
   "cell_type": "markdown",
   "metadata": {},
   "source": [
    "Mais la bonne façon de faire en `python` et d'utiliser une *list comprehension* pour naviguer sur chaque ligne de `lignes`."
   ]
  },
  {
   "cell_type": "code",
   "execution_count": 26,
   "metadata": {
    "collapsed": false,
    "deletable": true,
    "editable": true
   },
   "outputs": [
    {
     "data": {
      "text/plain": [
       "[{'Petal.Length': 1.4,\n",
       "  'Petal.Width': 0.2,\n",
       "  'Sepal.Length': 5.1,\n",
       "  'Sepal.Width': 3.5,\n",
       "  'Species': 'setosa'},\n",
       " {'Petal.Length': 1.4,\n",
       "  'Petal.Width': 0.2,\n",
       "  'Sepal.Length': 4.9,\n",
       "  'Sepal.Width': 3.0,\n",
       "  'Species': 'setosa'},\n",
       " {'Petal.Length': 1.3,\n",
       "  'Petal.Width': 0.2,\n",
       "  'Sepal.Length': 4.7,\n",
       "  'Sepal.Width': 3.2,\n",
       "  'Species': 'setosa'}]"
      ]
     },
     "execution_count": 26,
     "metadata": {},
     "output_type": "execute_result"
    }
   ],
   "source": [
    "iris = [{cle:enReel(val) for cle, val in zip(lignes[0], l)} for l in lignes[1:]]\n",
    "iris[:3]"
   ]
  },
  {
   "cell_type": "markdown",
   "metadata": {},
   "source": [
    "#### 5. Calculer pour chaque iris le rapport entre la surface d’un pétale et la surface d’un sépale.\n",
    "\n",
    "La surface de chaque dépend uniquement du produit de la largeur et de la longueur. On fera donc le rapport entre les deux produits."
   ]
  },
  {
   "cell_type": "code",
   "execution_count": 27,
   "metadata": {
    "collapsed": false
   },
   "outputs": [
    {
     "data": {
      "text/plain": [
       "[{'Petal.Length': 1.4,\n",
       "  'Petal.Surface': 0.27999999999999997,\n",
       "  'Petal.Width': 0.2,\n",
       "  'Ratio': 0.01568627450980392,\n",
       "  'Sepal.Length': 5.1,\n",
       "  'Sepal.Surface': 17.849999999999998,\n",
       "  'Sepal.Width': 3.5,\n",
       "  'Species': 'setosa'},\n",
       " {'Petal.Length': 1.4,\n",
       "  'Petal.Surface': 0.27999999999999997,\n",
       "  'Petal.Width': 0.2,\n",
       "  'Ratio': 0.019047619047619046,\n",
       "  'Sepal.Length': 4.9,\n",
       "  'Sepal.Surface': 14.700000000000001,\n",
       "  'Sepal.Width': 3.0,\n",
       "  'Species': 'setosa'},\n",
       " {'Petal.Length': 1.3,\n",
       "  'Petal.Surface': 0.26,\n",
       "  'Petal.Width': 0.2,\n",
       "  'Ratio': 0.017287234042553192,\n",
       "  'Sepal.Length': 4.7,\n",
       "  'Sepal.Surface': 15.040000000000001,\n",
       "  'Sepal.Width': 3.2,\n",
       "  'Species': 'setosa'}]"
      ]
     },
     "execution_count": 27,
     "metadata": {},
     "output_type": "execute_result"
    }
   ],
   "source": [
    "def surface(ir):\n",
    "    ir = ir.copy()\n",
    "    ir['Petal.Surface'] = ir['Petal.Length'] * ir['Petal.Width']\n",
    "    ir['Sepal.Surface'] = ir['Sepal.Length'] * ir['Sepal.Width']\n",
    "    ir['Ratio'] = ir['Petal.Surface'] / ir['Sepal.Surface']\n",
    "    return ir\n",
    "irisSurface = list(map(surface, iris))\n",
    "irisSurface[:3]"
   ]
  },
  {
   "cell_type": "markdown",
   "metadata": {},
   "source": [
    "#### 6. Créer une sous-liste ne contenant que les iris `\"setosa\"`."
   ]
  },
  {
   "cell_type": "code",
   "execution_count": 28,
   "metadata": {
    "collapsed": false
   },
   "outputs": [
    {
     "data": {
      "text/plain": [
       "50"
      ]
     },
     "execution_count": 28,
     "metadata": {},
     "output_type": "execute_result"
    }
   ],
   "source": [
    "irisSetosa = list(filter(lambda i: i['Species'] == 'setosa', irisSurface))\n",
    "len(irisSetosa)"
   ]
  },
  {
   "cell_type": "markdown",
   "metadata": {},
   "source": [
    "#### 7. Calculer la moyenne de chaque variable."
   ]
  },
  {
   "cell_type": "code",
   "execution_count": 50,
   "metadata": {
    "collapsed": false
   },
   "outputs": [
    {
     "data": {
      "text/plain": [
       "{'Petal.Length': 563.7000000000004,\n",
       " 'Petal.Width': 179.90000000000012,\n",
       " 'Sepal.Length': 876.5000000000002,\n",
       " 'Sepal.Width': 458.60000000000014}"
      ]
     },
     "execution_count": 50,
     "metadata": {},
     "output_type": "execute_result"
    }
   ],
   "source": [
    "def sommeVariable(irA, irB):\n",
    "    ir = irA.copy()\n",
    "    ir.pop(\"Species\", None)\n",
    "    for var in ['Petal.Length', 'Petal.Width', 'Sepal.Length', 'Sepal.Width']:\n",
    "        ir[var] = irA[var] + irB[var]\n",
    "    return ir\n",
    "\n",
    "import functools\n",
    "irisMoyenne = functools.reduce(sommeVariable, iris)\n",
    "irisMoyenne"
   ]
  },
  {
   "cell_type": "code",
   "execution_count": 30,
   "metadata": {
    "collapsed": false
   },
   "outputs": [
    {
     "data": {
      "text/plain": [
       "{'Petal.Length': 3.76,\n",
       " 'Petal.Width': 1.2,\n",
       " 'Sepal.Length': 5.84,\n",
       " 'Sepal.Width': 3.06}"
      ]
     },
     "execution_count": 30,
     "metadata": {},
     "output_type": "execute_result"
    }
   ],
   "source": [
    "{cle:(round(irisMoyenne[cle] / len(iris), 2)) for cle in irisMoyenne}"
   ]
  },
  {
   "cell_type": "markdown",
   "metadata": {},
   "source": [
    "#### 8. Calculer la moyenne de chaque variable pour chaque espèce."
   ]
  },
  {
   "cell_type": "code",
   "execution_count": 77,
   "metadata": {
    "collapsed": false
   },
   "outputs": [
    {
     "data": {
      "text/plain": [
       "[{'Petal.Length': 1.4620000000000002,\n",
       "  'Petal.Width': 0.2459999999999999,\n",
       "  'Sepal.Length': 5.005999999999999,\n",
       "  'Sepal.Width': 3.428000000000001},\n",
       " {'Petal.Length': 4.26,\n",
       "  'Petal.Width': 1.3259999999999998,\n",
       "  'Sepal.Length': 5.936,\n",
       "  'Sepal.Width': 2.7700000000000005},\n",
       " {'Petal.Length': 5.552,\n",
       "  'Petal.Width': 2.026,\n",
       "  'Sepal.Length': 6.587999999999998,\n",
       "  'Sepal.Width': 2.9739999999999998}]"
      ]
     },
     "execution_count": 77,
     "metadata": {},
     "output_type": "execute_result"
    }
   ],
   "source": [
    "especes = list(set([i['Species'] for i in iris]))\n",
    "groupes = [list(filter(lambda i: i['Species'] == s, iris)) for s in especes]\n",
    "sommes = [functools.reduce(sommeVariable, g) for g in groupes]\n",
    "tailles = [len(g) for g in groupes]\n",
    "\n",
    "[{cle:(sommes[i][cle] / tailles[i]) for cle in sommes[i]} for i in range(len(especes))]"
   ]
  },
  {
   "cell_type": "code",
   "execution_count": null,
   "metadata": {
    "collapsed": true
   },
   "outputs": [],
   "source": []
  }
 ],
 "metadata": {
  "kernelspec": {
   "display_name": "Python 3",
   "language": "python",
   "name": "python3"
  },
  "language_info": {
   "codemirror_mode": {
    "name": "ipython",
    "version": 3
   },
   "file_extension": ".py",
   "mimetype": "text/x-python",
   "name": "python",
   "nbconvert_exporter": "python",
   "pygments_lexer": "ipython3",
   "version": "3.6.0"
  }
 },
 "nbformat": 4,
 "nbformat_minor": 2
}
