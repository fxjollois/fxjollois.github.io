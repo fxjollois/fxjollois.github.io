{
 "cells": [
  {
   "cell_type": "markdown",
   "metadata": {
    "deletable": true,
    "editable": true,
    "run_control": {
     "frozen": false,
     "read_only": false
    }
   },
   "source": [
    "# TP5 - Visualisation sous `Python` - *correction*\n",
    "\n",
    "#### Analyse de Données Massives - Master 1ère année"
   ]
  },
  {
   "cell_type": "code",
   "execution_count": 2,
   "metadata": {
    "collapsed": false,
    "deletable": true,
    "editable": true,
    "run_control": {
     "frozen": false,
     "read_only": false
    }
   },
   "outputs": [
    {
     "data": {
      "text/html": [
       "\n",
       "    <div class=\"bk-root\">\n",
       "        <a href=\"http://bokeh.pydata.org\" target=\"_blank\" class=\"bk-logo bk-logo-small bk-logo-notebook\"></a>\n",
       "        <span id=\"dd84e922-724f-4068-b542-7fb383cdf156\">Loading BokehJS ...</span>\n",
       "    </div>"
      ]
     },
     "metadata": {},
     "output_type": "display_data"
    },
    {
     "data": {
      "application/javascript": [
       "\n",
       "(function(global) {\n",
       "  function now() {\n",
       "    return new Date();\n",
       "  }\n",
       "\n",
       "  var force = true;\n",
       "\n",
       "  if (typeof (window._bokeh_onload_callbacks) === \"undefined\" || force === true) {\n",
       "    window._bokeh_onload_callbacks = [];\n",
       "    window._bokeh_is_loading = undefined;\n",
       "  }\n",
       "\n",
       "\n",
       "  \n",
       "  if (typeof (window._bokeh_timeout) === \"undefined\" || force === true) {\n",
       "    window._bokeh_timeout = Date.now() + 5000;\n",
       "    window._bokeh_failed_load = false;\n",
       "  }\n",
       "\n",
       "  var NB_LOAD_WARNING = {'data': {'text/html':\n",
       "     \"<div style='background-color: #fdd'>\\n\"+\n",
       "     \"<p>\\n\"+\n",
       "     \"BokehJS does not appear to have successfully loaded. If loading BokehJS from CDN, this \\n\"+\n",
       "     \"may be due to a slow or bad network connection. Possible fixes:\\n\"+\n",
       "     \"</p>\\n\"+\n",
       "     \"<ul>\\n\"+\n",
       "     \"<li>re-rerun `output_notebook()` to attempt to load from CDN again, or</li>\\n\"+\n",
       "     \"<li>use INLINE resources instead, as so:</li>\\n\"+\n",
       "     \"</ul>\\n\"+\n",
       "     \"<code>\\n\"+\n",
       "     \"from bokeh.resources import INLINE\\n\"+\n",
       "     \"output_notebook(resources=INLINE)\\n\"+\n",
       "     \"</code>\\n\"+\n",
       "     \"</div>\"}};\n",
       "\n",
       "  function display_loaded() {\n",
       "    if (window.Bokeh !== undefined) {\n",
       "      document.getElementById(\"dd84e922-724f-4068-b542-7fb383cdf156\").textContent = \"BokehJS successfully loaded.\";\n",
       "    } else if (Date.now() < window._bokeh_timeout) {\n",
       "      setTimeout(display_loaded, 100)\n",
       "    }\n",
       "  }\n",
       "\n",
       "  function run_callbacks() {\n",
       "    window._bokeh_onload_callbacks.forEach(function(callback) { callback() });\n",
       "    delete window._bokeh_onload_callbacks\n",
       "    console.info(\"Bokeh: all callbacks have finished\");\n",
       "  }\n",
       "\n",
       "  function load_libs(js_urls, callback) {\n",
       "    window._bokeh_onload_callbacks.push(callback);\n",
       "    if (window._bokeh_is_loading > 0) {\n",
       "      console.log(\"Bokeh: BokehJS is being loaded, scheduling callback at\", now());\n",
       "      return null;\n",
       "    }\n",
       "    if (js_urls == null || js_urls.length === 0) {\n",
       "      run_callbacks();\n",
       "      return null;\n",
       "    }\n",
       "    console.log(\"Bokeh: BokehJS not loaded, scheduling load and callback at\", now());\n",
       "    window._bokeh_is_loading = js_urls.length;\n",
       "    for (var i = 0; i < js_urls.length; i++) {\n",
       "      var url = js_urls[i];\n",
       "      var s = document.createElement('script');\n",
       "      s.src = url;\n",
       "      s.async = false;\n",
       "      s.onreadystatechange = s.onload = function() {\n",
       "        window._bokeh_is_loading--;\n",
       "        if (window._bokeh_is_loading === 0) {\n",
       "          console.log(\"Bokeh: all BokehJS libraries loaded\");\n",
       "          run_callbacks()\n",
       "        }\n",
       "      };\n",
       "      s.onerror = function() {\n",
       "        console.warn(\"failed to load library \" + url);\n",
       "      };\n",
       "      console.log(\"Bokeh: injecting script tag for BokehJS library: \", url);\n",
       "      document.getElementsByTagName(\"head\")[0].appendChild(s);\n",
       "    }\n",
       "  };var element = document.getElementById(\"dd84e922-724f-4068-b542-7fb383cdf156\");\n",
       "  if (element == null) {\n",
       "    console.log(\"Bokeh: ERROR: autoload.js configured with elementid 'dd84e922-724f-4068-b542-7fb383cdf156' but no matching script tag was found. \")\n",
       "    return false;\n",
       "  }\n",
       "\n",
       "  var js_urls = [\"https://cdn.pydata.org/bokeh/release/bokeh-0.12.4.min.js\", \"https://cdn.pydata.org/bokeh/release/bokeh-widgets-0.12.4.min.js\"];\n",
       "\n",
       "  var inline_js = [\n",
       "    function(Bokeh) {\n",
       "      Bokeh.set_log_level(\"info\");\n",
       "    },\n",
       "    \n",
       "    function(Bokeh) {\n",
       "      \n",
       "      document.getElementById(\"dd84e922-724f-4068-b542-7fb383cdf156\").textContent = \"BokehJS is loading...\";\n",
       "    },\n",
       "    function(Bokeh) {\n",
       "      console.log(\"Bokeh: injecting CSS: https://cdn.pydata.org/bokeh/release/bokeh-0.12.4.min.css\");\n",
       "      Bokeh.embed.inject_css(\"https://cdn.pydata.org/bokeh/release/bokeh-0.12.4.min.css\");\n",
       "      console.log(\"Bokeh: injecting CSS: https://cdn.pydata.org/bokeh/release/bokeh-widgets-0.12.4.min.css\");\n",
       "      Bokeh.embed.inject_css(\"https://cdn.pydata.org/bokeh/release/bokeh-widgets-0.12.4.min.css\");\n",
       "    }\n",
       "  ];\n",
       "\n",
       "  function run_inline_js() {\n",
       "    \n",
       "    if ((window.Bokeh !== undefined) || (force === true)) {\n",
       "      for (var i = 0; i < inline_js.length; i++) {\n",
       "        inline_js[i](window.Bokeh);\n",
       "      }if (force === true) {\n",
       "        display_loaded();\n",
       "      }} else if (Date.now() < window._bokeh_timeout) {\n",
       "      setTimeout(run_inline_js, 100);\n",
       "    } else if (!window._bokeh_failed_load) {\n",
       "      console.log(\"Bokeh: BokehJS failed to load within specified timeout.\");\n",
       "      window._bokeh_failed_load = true;\n",
       "    } else if (force !== true) {\n",
       "      var cell = $(document.getElementById(\"dd84e922-724f-4068-b542-7fb383cdf156\")).parents('.cell').data().cell;\n",
       "      cell.output_area.append_execute_result(NB_LOAD_WARNING)\n",
       "    }\n",
       "\n",
       "  }\n",
       "\n",
       "  if (window._bokeh_is_loading === 0) {\n",
       "    console.log(\"Bokeh: BokehJS loaded, going straight to plotting\");\n",
       "    run_inline_js();\n",
       "  } else {\n",
       "    load_libs(js_urls, function() {\n",
       "      console.log(\"Bokeh: BokehJS plotting callback run at\", now());\n",
       "      run_inline_js();\n",
       "    });\n",
       "  }\n",
       "}(this));"
      ]
     },
     "metadata": {},
     "output_type": "display_data"
    }
   ],
   "source": [
    "from pydataset import data\n",
    "\n",
    "import numpy\n",
    "import pandas\n",
    "\n",
    "from bokeh.plotting import output_notebook, show\n",
    "from bokeh.charts import color, Histogram, BoxPlot, Bar, Donut, Scatter, HeatMap, bins\n",
    "from bokeh import layouts\n",
    "output_notebook()\n",
    "\n",
    "import seaborn\n",
    "\n",
    "%matplotlib inline"
   ]
  },
  {
   "cell_type": "markdown",
   "metadata": {
    "deletable": true,
    "editable": true,
    "run_control": {
     "frozen": false,
     "read_only": false
    }
   },
   "source": [
    "\n",
    "## A faire \n",
    "\n"
   ]
  },
  {
   "cell_type": "markdown",
   "metadata": {
    "deletable": true,
    "editable": true,
    "run_control": {
     "frozen": false,
     "read_only": false
    }
   },
   "source": [
    "A partir du jeu de données `Computers` présent dans le module `pydataset`, vous devez répondre aux questions suivantes, avec `bokeh` et `seaborn`. Vous pourrez trouver des informations sur ce jeu de données en exécutant `data(\"Computers\", show_doc = True)` dans le *notebook*."
   ]
  },
  {
   "cell_type": "code",
   "execution_count": 4,
   "metadata": {
    "collapsed": false,
    "deletable": true,
    "editable": true,
    "run_control": {
     "frozen": false,
     "read_only": false
    }
   },
   "outputs": [],
   "source": [
    "ordis = data(\"Computers\")"
   ]
  },
  {
   "cell_type": "markdown",
   "metadata": {
    "deletable": true,
    "editable": true,
    "run_control": {
     "frozen": false,
     "read_only": false
    }
   },
   "source": [
    "1. Représenter graphiquement la variable `price` (histogramme, boîte à moustaches, ...)\n",
    "1. Représenter le lien entre la variable `price` et les variables\n",
    "    - `speed`\n",
    "    - `hd`\n",
    "    - `ram`\n",
    "    - `cd`\n",
    "    - `premium`\n",
    "    - `screen`\n",
    "1. Représenter sur `price` l'impact de ces couples de variables\n",
    "    - `speed` et `hd`\n",
    "    - `hd` et `screen`\n",
    "    - `speed` et `premium`\n",
    "    - `hd` et `premium`\n",
    "1. Proposer des représentations graphiques, toujours pour décrire `price` en fonction d'autres variables, mais prenant en compte plus de trois variables"
   ]
  },
  {
   "cell_type": "markdown",
   "metadata": {
    "deletable": true,
    "editable": true,
    "run_control": {
     "frozen": false,
     "read_only": false
    }
   },
   "source": [
    "### `anscombe`\n",
    "\n",
    "Représenter sur un même graphique (avec un découpage donc) les quatre séries des données `anscombe`."
   ]
  },
  {
   "cell_type": "code",
   "execution_count": 3,
   "metadata": {
    "collapsed": false,
    "deletable": true,
    "editable": true,
    "run_control": {
     "frozen": false,
     "read_only": false
    }
   },
   "outputs": [],
   "source": [
    "anscombe = data(\"anscombe\")"
   ]
  },
  {
   "cell_type": "code",
   "execution_count": 4,
   "metadata": {
    "collapsed": false,
    "deletable": true,
    "editable": true,
    "hide_input": false,
    "run_control": {
     "frozen": false,
     "read_only": false
    }
   },
   "outputs": [],
   "source": [
    "from functools import reduce\n",
    "ans_bis = reduce(lambda a,b: pandas.concat([a, b]),\n",
    "                 [pandas.DataFrame({\"x\": anscombe[\"x\" + j], \n",
    "                                    \"y\": anscombe[\"y\" + j], \n",
    "                                    \"i\": j}) \n",
    "                  for j in [str(i) for i in range(1, 5)]]).reset_index()"
   ]
  },
  {
   "cell_type": "markdown",
   "metadata": {
    "deletable": true,
    "editable": true,
    "run_control": {
     "frozen": false,
     "read_only": false
    }
   },
   "source": [
    "#### Avec `bokeh`"
   ]
  },
  {
   "cell_type": "code",
   "execution_count": 5,
   "metadata": {
    "collapsed": false,
    "deletable": true,
    "editable": true,
    "hide_input": false,
    "run_control": {
     "frozen": false,
     "read_only": false
    }
   },
   "outputs": [
    {
     "data": {
      "text/html": [
       "\n",
       "\n",
       "    <div class=\"bk-root\">\n",
       "        <div class=\"bk-plotdiv\" id=\"706dc7a7-8f9f-43e7-8fb1-44fb5021ae01\"></div>\n",
       "    </div>\n",
       "<script type=\"text/javascript\">\n",
       "  \n",
       "  (function(global) {\n",
       "    function now() {\n",
       "      return new Date();\n",
       "    }\n",
       "  \n",
       "    var force = false;\n",
       "  \n",
       "    if (typeof (window._bokeh_onload_callbacks) === \"undefined\" || force === true) {\n",
       "      window._bokeh_onload_callbacks = [];\n",
       "      window._bokeh_is_loading = undefined;\n",
       "    }\n",
       "  \n",
       "  \n",
       "    \n",
       "    if (typeof (window._bokeh_timeout) === \"undefined\" || force === true) {\n",
       "      window._bokeh_timeout = Date.now() + 0;\n",
       "      window._bokeh_failed_load = false;\n",
       "    }\n",
       "  \n",
       "    var NB_LOAD_WARNING = {'data': {'text/html':\n",
       "       \"<div style='background-color: #fdd'>\\n\"+\n",
       "       \"<p>\\n\"+\n",
       "       \"BokehJS does not appear to have successfully loaded. If loading BokehJS from CDN, this \\n\"+\n",
       "       \"may be due to a slow or bad network connection. Possible fixes:\\n\"+\n",
       "       \"</p>\\n\"+\n",
       "       \"<ul>\\n\"+\n",
       "       \"<li>re-rerun `output_notebook()` to attempt to load from CDN again, or</li>\\n\"+\n",
       "       \"<li>use INLINE resources instead, as so:</li>\\n\"+\n",
       "       \"</ul>\\n\"+\n",
       "       \"<code>\\n\"+\n",
       "       \"from bokeh.resources import INLINE\\n\"+\n",
       "       \"output_notebook(resources=INLINE)\\n\"+\n",
       "       \"</code>\\n\"+\n",
       "       \"</div>\"}};\n",
       "  \n",
       "    function display_loaded() {\n",
       "      if (window.Bokeh !== undefined) {\n",
       "        document.getElementById(\"706dc7a7-8f9f-43e7-8fb1-44fb5021ae01\").textContent = \"BokehJS successfully loaded.\";\n",
       "      } else if (Date.now() < window._bokeh_timeout) {\n",
       "        setTimeout(display_loaded, 100)\n",
       "      }\n",
       "    }\n",
       "  \n",
       "    function run_callbacks() {\n",
       "      window._bokeh_onload_callbacks.forEach(function(callback) { callback() });\n",
       "      delete window._bokeh_onload_callbacks\n",
       "      console.info(\"Bokeh: all callbacks have finished\");\n",
       "    }\n",
       "  \n",
       "    function load_libs(js_urls, callback) {\n",
       "      window._bokeh_onload_callbacks.push(callback);\n",
       "      if (window._bokeh_is_loading > 0) {\n",
       "        console.log(\"Bokeh: BokehJS is being loaded, scheduling callback at\", now());\n",
       "        return null;\n",
       "      }\n",
       "      if (js_urls == null || js_urls.length === 0) {\n",
       "        run_callbacks();\n",
       "        return null;\n",
       "      }\n",
       "      console.log(\"Bokeh: BokehJS not loaded, scheduling load and callback at\", now());\n",
       "      window._bokeh_is_loading = js_urls.length;\n",
       "      for (var i = 0; i < js_urls.length; i++) {\n",
       "        var url = js_urls[i];\n",
       "        var s = document.createElement('script');\n",
       "        s.src = url;\n",
       "        s.async = false;\n",
       "        s.onreadystatechange = s.onload = function() {\n",
       "          window._bokeh_is_loading--;\n",
       "          if (window._bokeh_is_loading === 0) {\n",
       "            console.log(\"Bokeh: all BokehJS libraries loaded\");\n",
       "            run_callbacks()\n",
       "          }\n",
       "        };\n",
       "        s.onerror = function() {\n",
       "          console.warn(\"failed to load library \" + url);\n",
       "        };\n",
       "        console.log(\"Bokeh: injecting script tag for BokehJS library: \", url);\n",
       "        document.getElementsByTagName(\"head\")[0].appendChild(s);\n",
       "      }\n",
       "    };var element = document.getElementById(\"706dc7a7-8f9f-43e7-8fb1-44fb5021ae01\");\n",
       "    if (element == null) {\n",
       "      console.log(\"Bokeh: ERROR: autoload.js configured with elementid '706dc7a7-8f9f-43e7-8fb1-44fb5021ae01' but no matching script tag was found. \")\n",
       "      return false;\n",
       "    }\n",
       "  \n",
       "    var js_urls = [];\n",
       "  \n",
       "    var inline_js = [\n",
       "      function(Bokeh) {\n",
       "        (function() {\n",
       "          var fn = function() {\n",
       "            var docs_json = {\"5d3c4a5a-deff-4478-9b64-2051cac2c8a2\":{\"roots\":{\"references\":[{\"attributes\":{\"below\":[{\"id\":\"74ce8017-f29c-436f-9165-df9bbc2b3e4f\",\"type\":\"LinearAxis\"}],\"css_classes\":null,\"left\":[{\"id\":\"bf139ede-1362-4951-840f-93b0de7f4242\",\"type\":\"LinearAxis\"}],\"plot_height\":200,\"plot_width\":300,\"renderers\":[{\"id\":\"25807d82-a714-427c-88d4-2202265e5638\",\"type\":\"BoxAnnotation\"},{\"id\":\"ae009cfd-0893-47a0-a15e-b82f6f152d3c\",\"type\":\"GlyphRenderer\"},{\"id\":\"b2400840-551c-4e64-a756-7c534d98ab66\",\"type\":\"Legend\"},{\"id\":\"74ce8017-f29c-436f-9165-df9bbc2b3e4f\",\"type\":\"LinearAxis\"},{\"id\":\"bf139ede-1362-4951-840f-93b0de7f4242\",\"type\":\"LinearAxis\"},{\"id\":\"9e3abad2-e48b-4fbb-bde3-53ddc4ed4667\",\"type\":\"Grid\"},{\"id\":\"90a271ab-a467-403f-88da-0a4adf68c90c\",\"type\":\"Grid\"}],\"title\":{\"id\":\"8dd807ad-43f8-41d6-a17e-b2a93fe3ec77\",\"type\":\"Title\"},\"tool_events\":{\"id\":\"a1072879-d440-431e-a44d-2c99622c2336\",\"type\":\"ToolEvents\"},\"toolbar\":{\"id\":\"a03707eb-c14d-479b-b786-b5dba1897fda\",\"type\":\"Toolbar\"},\"toolbar_location\":null,\"x_mapper_type\":\"auto\",\"x_range\":{\"id\":\"365ab292-f2fb-4fc7-a9d7-2b14bd8c7e8b\",\"type\":\"Range1d\"},\"y_mapper_type\":\"auto\",\"y_range\":{\"id\":\"f4ae6c4e-9990-4bb8-b64d-179a6ce1a436\",\"type\":\"Range1d\"}},\"id\":\"ca927315-a278-4386-b631-f8751c19fcbf\",\"subtype\":\"Chart\",\"type\":\"Plot\"},{\"attributes\":{\"plot\":{\"id\":\"3e661565-c575-4cd1-95cb-98e6928cf5e6\",\"subtype\":\"Chart\",\"type\":\"Plot\"}},\"id\":\"fc2d464b-2448-4e81-87c1-7cd0046dbb95\",\"type\":\"PanTool\"},{\"attributes\":{},\"id\":\"a7964ae9-46b4-4c56-8732-1ac400711871\",\"type\":\"ToolEvents\"},{\"attributes\":{\"location\":\"top_left\",\"plot\":{\"id\":\"3e661565-c575-4cd1-95cb-98e6928cf5e6\",\"subtype\":\"Chart\",\"type\":\"Plot\"}},\"id\":\"2c736adb-6031-4429-885f-8a35704f8b8a\",\"type\":\"Legend\"},{\"attributes\":{\"plot\":null,\"text\":null},\"id\":\"1c586f6f-63dd-42ff-9bfb-3c68f779d96c\",\"type\":\"Title\"},{\"attributes\":{\"below\":[{\"id\":\"c06b166f-5595-4048-bc98-2a07ad04e6ef\",\"type\":\"LinearAxis\"}],\"css_classes\":null,\"left\":[{\"id\":\"b5845766-5be4-4239-becd-995f7dcc2ad4\",\"type\":\"LinearAxis\"}],\"plot_height\":200,\"plot_width\":300,\"renderers\":[{\"id\":\"b564939a-3e35-4325-9092-e162f824004e\",\"type\":\"BoxAnnotation\"},{\"id\":\"d1e67a98-6e44-475c-9b53-8a033c8d0686\",\"type\":\"GlyphRenderer\"},{\"id\":\"2c736adb-6031-4429-885f-8a35704f8b8a\",\"type\":\"Legend\"},{\"id\":\"c06b166f-5595-4048-bc98-2a07ad04e6ef\",\"type\":\"LinearAxis\"},{\"id\":\"b5845766-5be4-4239-becd-995f7dcc2ad4\",\"type\":\"LinearAxis\"},{\"id\":\"84d30405-8a75-424f-a24e-dc567e6be116\",\"type\":\"Grid\"},{\"id\":\"d5d14e57-a7f7-4a45-9316-f136c86f4bba\",\"type\":\"Grid\"}],\"title\":{\"id\":\"1c586f6f-63dd-42ff-9bfb-3c68f779d96c\",\"type\":\"Title\"},\"tool_events\":{\"id\":\"a7964ae9-46b4-4c56-8732-1ac400711871\",\"type\":\"ToolEvents\"},\"toolbar\":{\"id\":\"9b0b8b3c-df3c-4e24-bcfa-1bf54ad2a5ba\",\"type\":\"Toolbar\"},\"toolbar_location\":null,\"x_mapper_type\":\"auto\",\"x_range\":{\"id\":\"c39b9dd5-eb01-4bd0-9720-2623660126f6\",\"type\":\"Range1d\"},\"y_mapper_type\":\"auto\",\"y_range\":{\"id\":\"2cd844f7-a133-4ee4-8f02-1e4cadb3f462\",\"type\":\"Range1d\"}},\"id\":\"3e661565-c575-4cd1-95cb-98e6928cf5e6\",\"subtype\":\"Chart\",\"type\":\"Plot\"},{\"attributes\":{},\"id\":\"a1072879-d440-431e-a44d-2c99622c2336\",\"type\":\"ToolEvents\"},{\"attributes\":{\"plot\":null,\"text\":null},\"id\":\"8dd807ad-43f8-41d6-a17e-b2a93fe3ec77\",\"type\":\"Title\"},{\"attributes\":{\"active_drag\":\"auto\",\"active_scroll\":\"auto\",\"active_tap\":\"auto\",\"tools\":[{\"id\":\"e870ccac-c621-401a-bcba-82dc87381148\",\"type\":\"PanTool\"},{\"id\":\"71ad1420-0324-4124-951b-3350527ae1aa\",\"type\":\"WheelZoomTool\"},{\"id\":\"16117cb5-1f77-4285-8cbb-653c2c88a660\",\"type\":\"BoxZoomTool\"},{\"id\":\"4aa9317b-7104-4d56-82e6-5ffb178de74e\",\"type\":\"SaveTool\"},{\"id\":\"4939a8d5-ab63-428b-b0f4-e3ec3421ac9d\",\"type\":\"ResetTool\"},{\"id\":\"e1074788-2baf-49a7-a528-c9ea2a323087\",\"type\":\"HelpTool\"}]},\"id\":\"a03707eb-c14d-479b-b786-b5dba1897fda\",\"type\":\"Toolbar\"},{\"attributes\":{\"location\":\"top_left\",\"plot\":{\"id\":\"ca927315-a278-4386-b631-f8751c19fcbf\",\"subtype\":\"Chart\",\"type\":\"Plot\"}},\"id\":\"b2400840-551c-4e64-a756-7c534d98ab66\",\"type\":\"Legend\"},{\"attributes\":{\"bottom_units\":\"screen\",\"fill_alpha\":{\"value\":0.5},\"fill_color\":{\"value\":\"lightgrey\"},\"left_units\":\"screen\",\"level\":\"overlay\",\"line_alpha\":{\"value\":1.0},\"line_color\":{\"value\":\"black\"},\"line_dash\":[4,4],\"line_width\":{\"value\":2},\"plot\":null,\"render_mode\":\"css\",\"right_units\":\"screen\",\"top_units\":\"screen\"},\"id\":\"25807d82-a714-427c-88d4-2202265e5638\",\"type\":\"BoxAnnotation\"},{\"attributes\":{\"plot\":{\"id\":\"ca927315-a278-4386-b631-f8751c19fcbf\",\"subtype\":\"Chart\",\"type\":\"Plot\"}},\"id\":\"e870ccac-c621-401a-bcba-82dc87381148\",\"type\":\"PanTool\"},{\"attributes\":{},\"id\":\"321865aa-e599-4db2-9d78-b79f8254a562\",\"type\":\"BasicTickFormatter\"},{\"attributes\":{\"plot\":{\"id\":\"ca927315-a278-4386-b631-f8751c19fcbf\",\"subtype\":\"Chart\",\"type\":\"Plot\"}},\"id\":\"71ad1420-0324-4124-951b-3350527ae1aa\",\"type\":\"WheelZoomTool\"},{\"attributes\":{\"overlay\":{\"id\":\"25807d82-a714-427c-88d4-2202265e5638\",\"type\":\"BoxAnnotation\"},\"plot\":{\"id\":\"ca927315-a278-4386-b631-f8751c19fcbf\",\"subtype\":\"Chart\",\"type\":\"Plot\"}},\"id\":\"16117cb5-1f77-4285-8cbb-653c2c88a660\",\"type\":\"BoxZoomTool\"},{\"attributes\":{\"plot\":{\"id\":\"ca927315-a278-4386-b631-f8751c19fcbf\",\"subtype\":\"Chart\",\"type\":\"Plot\"}},\"id\":\"4aa9317b-7104-4d56-82e6-5ffb178de74e\",\"type\":\"SaveTool\"},{\"attributes\":{\"plot\":{\"id\":\"ca927315-a278-4386-b631-f8751c19fcbf\",\"subtype\":\"Chart\",\"type\":\"Plot\"}},\"id\":\"4939a8d5-ab63-428b-b0f4-e3ec3421ac9d\",\"type\":\"ResetTool\"},{\"attributes\":{\"plot\":{\"id\":\"ca927315-a278-4386-b631-f8751c19fcbf\",\"subtype\":\"Chart\",\"type\":\"Plot\"}},\"id\":\"e1074788-2baf-49a7-a528-c9ea2a323087\",\"type\":\"HelpTool\"},{\"attributes\":{},\"id\":\"48fbeba1-2387-4010-8c6d-93ee1bdc1a63\",\"type\":\"BasicTickFormatter\"},{\"attributes\":{\"children\":[{\"id\":\"6fc2c2a4-a213-497b-b962-56425e091f62\",\"type\":\"Row\"},{\"id\":\"7acefa02-bf02-463e-9c70-36183fe44844\",\"type\":\"Row\"}]},\"id\":\"ed81958a-5d61-4596-882d-fd0e1bb17d01\",\"type\":\"Column\"},{\"attributes\":{\"axis_label\":\"x\",\"formatter\":{\"id\":\"5172c4ed-035d-4385-9290-334c6878b2cd\",\"type\":\"BasicTickFormatter\"},\"plot\":{\"id\":\"761b9040-9389-4c95-91cb-21fa23c1c2b3\",\"subtype\":\"Chart\",\"type\":\"Plot\"},\"ticker\":{\"id\":\"ab44c1b7-a506-4ce7-beb7-5097e6e3c7ba\",\"type\":\"BasicTicker\"}},\"id\":\"f06afd3d-dde7-4287-be3b-d7264c7f37aa\",\"type\":\"LinearAxis\"},{\"attributes\":{\"callback\":null,\"column_names\":[\"x_values\",\"y_values\"],\"data\":{\"chart_index\":[null,null,null,null,null,null,null,null,null,null,null],\"x_values\":[10,8,13,9,11,14,6,4,12,7,5],\"y_values\":{\"__ndarray__\":\"16NwPQrXHUAUrkfhehQbQHsUrkfheilAcT0K16NwHEA9CtejcD0fQK5H4XoUriFAUrgehetRGECPwvUoXI8VQM3MzMzMTCBArkfhehSuGUDsUbgehesWQA==\",\"dtype\":\"float64\",\"shape\":[11]}}},\"id\":\"7db8c5ea-f957-42a0-a1a8-a90f74e12057\",\"type\":\"ColumnDataSource\"},{\"attributes\":{},\"id\":\"489f2b94-6c56-4e9b-86ac-b95b1e7b0ffe\",\"type\":\"BasicTicker\"},{\"attributes\":{\"plot\":{\"id\":\"761b9040-9389-4c95-91cb-21fa23c1c2b3\",\"subtype\":\"Chart\",\"type\":\"Plot\"}},\"id\":\"cc30a275-c7e1-425d-951d-13ae2df87d86\",\"type\":\"SaveTool\"},{\"attributes\":{\"plot\":{\"id\":\"761b9040-9389-4c95-91cb-21fa23c1c2b3\",\"subtype\":\"Chart\",\"type\":\"Plot\"}},\"id\":\"d612aeb0-8a93-4c60-87dd-800548f20958\",\"type\":\"WheelZoomTool\"},{\"attributes\":{\"plot\":{\"id\":\"761b9040-9389-4c95-91cb-21fa23c1c2b3\",\"subtype\":\"Chart\",\"type\":\"Plot\"}},\"id\":\"44e77881-0345-44da-a457-f6dc9e8b85a6\",\"type\":\"ResetTool\"},{\"attributes\":{\"axis_label\":\"x\",\"formatter\":{\"id\":\"321865aa-e599-4db2-9d78-b79f8254a562\",\"type\":\"BasicTickFormatter\"},\"plot\":{\"id\":\"ca927315-a278-4386-b631-f8751c19fcbf\",\"subtype\":\"Chart\",\"type\":\"Plot\"},\"ticker\":{\"id\":\"f726da5e-a523-49a0-b450-353d49dc7a09\",\"type\":\"BasicTicker\"}},\"id\":\"74ce8017-f29c-436f-9165-df9bbc2b3e4f\",\"type\":\"LinearAxis\"},{\"attributes\":{\"data_source\":{\"id\":\"7db8c5ea-f957-42a0-a1a8-a90f74e12057\",\"type\":\"ColumnDataSource\"},\"glyph\":{\"id\":\"af911d4a-9a51-45fc-bb33-7a78ae3fab3b\",\"type\":\"Circle\"},\"hover_glyph\":null,\"nonselection_glyph\":null,\"selection_glyph\":null},\"id\":\"ae009cfd-0893-47a0-a15e-b82f6f152d3c\",\"type\":\"GlyphRenderer\"},{\"attributes\":{\"fill_alpha\":{\"value\":0.7},\"fill_color\":{\"value\":\"#f22c40\"},\"line_color\":{\"value\":\"#f22c40\"},\"size\":{\"units\":\"screen\",\"value\":8},\"x\":{\"field\":\"x_values\"},\"y\":{\"field\":\"y_values\"}},\"id\":\"af911d4a-9a51-45fc-bb33-7a78ae3fab3b\",\"type\":\"Circle\"},{\"attributes\":{\"bottom_units\":\"screen\",\"fill_alpha\":{\"value\":0.5},\"fill_color\":{\"value\":\"lightgrey\"},\"left_units\":\"screen\",\"level\":\"overlay\",\"line_alpha\":{\"value\":1.0},\"line_color\":{\"value\":\"black\"},\"line_dash\":[4,4],\"line_width\":{\"value\":2},\"plot\":null,\"render_mode\":\"css\",\"right_units\":\"screen\",\"top_units\":\"screen\"},\"id\":\"c6607eda-5662-4356-b0b4-2cf4f9ffcca3\",\"type\":\"BoxAnnotation\"},{\"attributes\":{\"dimension\":1,\"plot\":{\"id\":\"ca927315-a278-4386-b631-f8751c19fcbf\",\"subtype\":\"Chart\",\"type\":\"Plot\"},\"ticker\":{\"id\":\"489f2b94-6c56-4e9b-86ac-b95b1e7b0ffe\",\"type\":\"BasicTicker\"}},\"id\":\"90a271ab-a467-403f-88da-0a4adf68c90c\",\"type\":\"Grid\"},{\"attributes\":{\"callback\":null,\"end\":11.498,\"start\":3.602},\"id\":\"2cd844f7-a133-4ee4-8f02-1e4cadb3f462\",\"type\":\"Range1d\"},{\"attributes\":{\"plot\":{\"id\":\"3e661565-c575-4cd1-95cb-98e6928cf5e6\",\"subtype\":\"Chart\",\"type\":\"Plot\"}},\"id\":\"027df804-60c3-4870-90d0-f3854c17a283\",\"type\":\"WheelZoomTool\"},{\"attributes\":{\"plot\":null,\"text\":null},\"id\":\"1e6c0662-5fb7-4858-9c4f-21697ec60c85\",\"type\":\"Title\"},{\"attributes\":{},\"id\":\"75191436-5def-476a-bffd-c9b596a80934\",\"type\":\"ToolEvents\"},{\"attributes\":{\"location\":\"top_left\",\"plot\":{\"id\":\"761b9040-9389-4c95-91cb-21fa23c1c2b3\",\"subtype\":\"Chart\",\"type\":\"Plot\"}},\"id\":\"01e656ff-7c54-41c1-9d4d-512c1905439d\",\"type\":\"Legend\"},{\"attributes\":{\"axis_label\":\"y\",\"formatter\":{\"id\":\"48fbeba1-2387-4010-8c6d-93ee1bdc1a63\",\"type\":\"BasicTickFormatter\"},\"plot\":{\"id\":\"ca927315-a278-4386-b631-f8751c19fcbf\",\"subtype\":\"Chart\",\"type\":\"Plot\"},\"ticker\":{\"id\":\"489f2b94-6c56-4e9b-86ac-b95b1e7b0ffe\",\"type\":\"BasicTicker\"}},\"id\":\"bf139ede-1362-4951-840f-93b0de7f4242\",\"type\":\"LinearAxis\"},{\"attributes\":{\"active_drag\":\"auto\",\"active_scroll\":\"auto\",\"active_tap\":\"auto\",\"tools\":[{\"id\":\"180889b3-5bb9-40dc-85a5-d380251a7246\",\"type\":\"PanTool\"},{\"id\":\"d612aeb0-8a93-4c60-87dd-800548f20958\",\"type\":\"WheelZoomTool\"},{\"id\":\"f4ff2994-a795-40bf-b86b-38a8218337aa\",\"type\":\"BoxZoomTool\"},{\"id\":\"cc30a275-c7e1-425d-951d-13ae2df87d86\",\"type\":\"SaveTool\"},{\"id\":\"44e77881-0345-44da-a457-f6dc9e8b85a6\",\"type\":\"ResetTool\"},{\"id\":\"53cf9c2c-e008-4bde-8a67-72992094010d\",\"type\":\"HelpTool\"}]},\"id\":\"9a650140-54a8-4508-bb7c-44755dca46c2\",\"type\":\"Toolbar\"},{\"attributes\":{\"callback\":null,\"column_names\":[\"x_values\",\"y_values\"],\"data\":{\"chart_index\":[null,null,null,null,null,null,null,null,null,null,null],\"x_values\":[10,8,13,9,11,14,6,4,12,7,5],\"y_values\":{\"__ndarray__\":\"FK5H4XoUIEDNzMzMzMwbQFK4HoXrUR5AH4XrUbieIUApXI/C9aggQOxRuB6F6yNA9ihcj8L1HEAK16NwPQoRQK5H4XoUriVASOF6FK5HE0C4HoXrUbgWQA==\",\"dtype\":\"float64\",\"shape\":[11]}}},\"id\":\"82425495-dc3d-4bf4-81d0-7fcc6ee7ad28\",\"type\":\"ColumnDataSource\"},{\"attributes\":{\"plot\":{\"id\":\"761b9040-9389-4c95-91cb-21fa23c1c2b3\",\"subtype\":\"Chart\",\"type\":\"Plot\"}},\"id\":\"180889b3-5bb9-40dc-85a5-d380251a7246\",\"type\":\"PanTool\"},{\"attributes\":{\"plot\":{\"id\":\"3e661565-c575-4cd1-95cb-98e6928cf5e6\",\"subtype\":\"Chart\",\"type\":\"Plot\"}},\"id\":\"b7daf611-5b1b-4d62-aa75-0750f3d552cb\",\"type\":\"ResetTool\"},{\"attributes\":{\"below\":[{\"id\":\"f06afd3d-dde7-4287-be3b-d7264c7f37aa\",\"type\":\"LinearAxis\"}],\"css_classes\":null,\"left\":[{\"id\":\"80beb965-f47a-4b0d-9473-05a5604a8438\",\"type\":\"LinearAxis\"}],\"plot_height\":200,\"plot_width\":300,\"renderers\":[{\"id\":\"c6607eda-5662-4356-b0b4-2cf4f9ffcca3\",\"type\":\"BoxAnnotation\"},{\"id\":\"37879530-93d5-42e7-95a3-3472a6eddb2b\",\"type\":\"GlyphRenderer\"},{\"id\":\"01e656ff-7c54-41c1-9d4d-512c1905439d\",\"type\":\"Legend\"},{\"id\":\"f06afd3d-dde7-4287-be3b-d7264c7f37aa\",\"type\":\"LinearAxis\"},{\"id\":\"80beb965-f47a-4b0d-9473-05a5604a8438\",\"type\":\"LinearAxis\"},{\"id\":\"ba381e91-bb9b-4a23-98f7-a31336d60de3\",\"type\":\"Grid\"},{\"id\":\"2615567d-3256-43a2-8f41-1400f9f0739f\",\"type\":\"Grid\"}],\"title\":{\"id\":\"1e6c0662-5fb7-4858-9c4f-21697ec60c85\",\"type\":\"Title\"},\"tool_events\":{\"id\":\"75191436-5def-476a-bffd-c9b596a80934\",\"type\":\"ToolEvents\"},\"toolbar\":{\"id\":\"9a650140-54a8-4508-bb7c-44755dca46c2\",\"type\":\"Toolbar\"},\"toolbar_location\":null,\"x_mapper_type\":\"auto\",\"x_range\":{\"id\":\"2092867c-b90d-42a6-a739-f65d32311d73\",\"type\":\"Range1d\"},\"y_mapper_type\":\"auto\",\"y_range\":{\"id\":\"0e5cb2bc-2e49-4fab-a5cf-c46ab2602658\",\"type\":\"Range1d\"}},\"id\":\"761b9040-9389-4c95-91cb-21fa23c1c2b3\",\"subtype\":\"Chart\",\"type\":\"Plot\"},{\"attributes\":{\"overlay\":{\"id\":\"b564939a-3e35-4325-9092-e162f824004e\",\"type\":\"BoxAnnotation\"},\"plot\":{\"id\":\"3e661565-c575-4cd1-95cb-98e6928cf5e6\",\"subtype\":\"Chart\",\"type\":\"Plot\"}},\"id\":\"d6e9ac34-8122-426b-af66-ce4af38ee6ec\",\"type\":\"BoxZoomTool\"},{\"attributes\":{\"callback\":null,\"end\":20.1,\"start\":6.9},\"id\":\"2092867c-b90d-42a6-a739-f65d32311d73\",\"type\":\"Range1d\"},{\"attributes\":{},\"id\":\"f726da5e-a523-49a0-b450-353d49dc7a09\",\"type\":\"BasicTicker\"},{\"attributes\":{\"callback\":null,\"end\":15.0,\"start\":3.0},\"id\":\"77262ee1-54a5-47af-b762-c26e35ef8185\",\"type\":\"Range1d\"},{\"attributes\":{\"plot\":{\"id\":\"ca927315-a278-4386-b631-f8751c19fcbf\",\"subtype\":\"Chart\",\"type\":\"Plot\"},\"ticker\":{\"id\":\"f726da5e-a523-49a0-b450-353d49dc7a09\",\"type\":\"BasicTicker\"}},\"id\":\"9e3abad2-e48b-4fbb-bde3-53ddc4ed4667\",\"type\":\"Grid\"},{\"attributes\":{\"callback\":null,\"end\":15.0,\"start\":3.0},\"id\":\"c39b9dd5-eb01-4bd0-9720-2623660126f6\",\"type\":\"Range1d\"},{\"attributes\":{\"overlay\":{\"id\":\"c6607eda-5662-4356-b0b4-2cf4f9ffcca3\",\"type\":\"BoxAnnotation\"},\"plot\":{\"id\":\"761b9040-9389-4c95-91cb-21fa23c1c2b3\",\"subtype\":\"Chart\",\"type\":\"Plot\"}},\"id\":\"f4ff2994-a795-40bf-b86b-38a8218337aa\",\"type\":\"BoxZoomTool\"},{\"attributes\":{\"plot\":{\"id\":\"761b9040-9389-4c95-91cb-21fa23c1c2b3\",\"subtype\":\"Chart\",\"type\":\"Plot\"}},\"id\":\"53cf9c2c-e008-4bde-8a67-72992094010d\",\"type\":\"HelpTool\"},{\"attributes\":{\"bottom_units\":\"screen\",\"fill_alpha\":{\"value\":0.5},\"fill_color\":{\"value\":\"lightgrey\"},\"left_units\":\"screen\",\"level\":\"overlay\",\"line_alpha\":{\"value\":1.0},\"line_color\":{\"value\":\"black\"},\"line_dash\":[4,4],\"line_width\":{\"value\":2},\"plot\":null,\"render_mode\":\"css\",\"right_units\":\"screen\",\"top_units\":\"screen\"},\"id\":\"b564939a-3e35-4325-9092-e162f824004e\",\"type\":\"BoxAnnotation\"},{\"attributes\":{\"callback\":null,\"column_names\":[\"x_values\",\"y_values\"],\"data\":{\"chart_index\":[null,null,null,null,null,null,null,null,null,null,null],\"x_values\":[8,8,8,8,8,8,8,19,8,8,8],\"y_values\":{\"__ndarray__\":\"UrgehetRGkAK16NwPQoXQNejcD0K1x5ArkfhehSuIUBxPQrXo/AgQClcj8L1KBxAAAAAAAAAFUAAAAAAAAApQD0K16NwPRZApHA9CtejH0CPwvUoXI8bQA==\",\"dtype\":\"float64\",\"shape\":[11]}}},\"id\":\"0bace955-0830-42de-b9c4-53f2554ed569\",\"type\":\"ColumnDataSource\"},{\"attributes\":{\"plot\":{\"id\":\"3e661565-c575-4cd1-95cb-98e6928cf5e6\",\"subtype\":\"Chart\",\"type\":\"Plot\"}},\"id\":\"fdddd695-392b-4bde-a7b0-1a5fd7d91a33\",\"type\":\"HelpTool\"},{\"attributes\":{\"callback\":null,\"end\":13.225,\"start\":4.525},\"id\":\"0e5cb2bc-2e49-4fab-a5cf-c46ab2602658\",\"type\":\"Range1d\"},{\"attributes\":{\"plot\":{\"id\":\"3e661565-c575-4cd1-95cb-98e6928cf5e6\",\"subtype\":\"Chart\",\"type\":\"Plot\"}},\"id\":\"d0262a1c-f6e5-4952-8ac1-0fae98d91378\",\"type\":\"SaveTool\"},{\"attributes\":{\"fill_alpha\":{\"value\":0.7},\"fill_color\":{\"value\":\"#f22c40\"},\"line_color\":{\"value\":\"#f22c40\"},\"size\":{\"units\":\"screen\",\"value\":8},\"x\":{\"field\":\"x_values\"},\"y\":{\"field\":\"y_values\"}},\"id\":\"d56e6bdf-9a07-47a0-b16d-c12f9d8558e8\",\"type\":\"Circle\"},{\"attributes\":{\"data_source\":{\"id\":\"0bace955-0830-42de-b9c4-53f2554ed569\",\"type\":\"ColumnDataSource\"},\"glyph\":{\"id\":\"d56e6bdf-9a07-47a0-b16d-c12f9d8558e8\",\"type\":\"Circle\"},\"hover_glyph\":null,\"nonselection_glyph\":null,\"selection_glyph\":null},\"id\":\"37879530-93d5-42e7-95a3-3472a6eddb2b\",\"type\":\"GlyphRenderer\"},{\"attributes\":{\"active_drag\":\"auto\",\"active_scroll\":\"auto\",\"active_tap\":\"auto\",\"tools\":[{\"id\":\"fc2d464b-2448-4e81-87c1-7cd0046dbb95\",\"type\":\"PanTool\"},{\"id\":\"027df804-60c3-4870-90d0-f3854c17a283\",\"type\":\"WheelZoomTool\"},{\"id\":\"d6e9ac34-8122-426b-af66-ce4af38ee6ec\",\"type\":\"BoxZoomTool\"},{\"id\":\"d0262a1c-f6e5-4952-8ac1-0fae98d91378\",\"type\":\"SaveTool\"},{\"id\":\"b7daf611-5b1b-4d62-aa75-0750f3d552cb\",\"type\":\"ResetTool\"},{\"id\":\"fdddd695-392b-4bde-a7b0-1a5fd7d91a33\",\"type\":\"HelpTool\"}]},\"id\":\"9b0b8b3c-df3c-4e24-bcfa-1bf54ad2a5ba\",\"type\":\"Toolbar\"},{\"attributes\":{\"axis_label\":\"y\",\"formatter\":{\"id\":\"57b1b6e1-b099-40e0-88e1-5dea018ffb63\",\"type\":\"BasicTickFormatter\"},\"plot\":{\"id\":\"761b9040-9389-4c95-91cb-21fa23c1c2b3\",\"subtype\":\"Chart\",\"type\":\"Plot\"},\"ticker\":{\"id\":\"ab1a6b38-f627-4db7-ac49-3e776f08c82e\",\"type\":\"BasicTicker\"}},\"id\":\"80beb965-f47a-4b0d-9473-05a5604a8438\",\"type\":\"LinearAxis\"},{\"attributes\":{},\"id\":\"ab44c1b7-a506-4ce7-beb7-5097e6e3c7ba\",\"type\":\"BasicTicker\"},{\"attributes\":{},\"id\":\"2ee1a9b5-a01b-4771-b6d9-b13e3f10fefa\",\"type\":\"BasicTickFormatter\"},{\"attributes\":{\"plot\":{\"id\":\"761b9040-9389-4c95-91cb-21fa23c1c2b3\",\"subtype\":\"Chart\",\"type\":\"Plot\"},\"ticker\":{\"id\":\"ab44c1b7-a506-4ce7-beb7-5097e6e3c7ba\",\"type\":\"BasicTicker\"}},\"id\":\"ba381e91-bb9b-4a23-98f7-a31336d60de3\",\"type\":\"Grid\"},{\"attributes\":{},\"id\":\"ab1a6b38-f627-4db7-ac49-3e776f08c82e\",\"type\":\"BasicTicker\"},{\"attributes\":{\"dimension\":1,\"plot\":{\"id\":\"761b9040-9389-4c95-91cb-21fa23c1c2b3\",\"subtype\":\"Chart\",\"type\":\"Plot\"},\"ticker\":{\"id\":\"ab1a6b38-f627-4db7-ac49-3e776f08c82e\",\"type\":\"BasicTicker\"}},\"id\":\"2615567d-3256-43a2-8f41-1400f9f0739f\",\"type\":\"Grid\"},{\"attributes\":{\"children\":[{\"id\":\"3e661565-c575-4cd1-95cb-98e6928cf5e6\",\"subtype\":\"Chart\",\"type\":\"Plot\"},{\"id\":\"81dde85b-2089-4ddc-adbf-b0f85f8659c9\",\"subtype\":\"Chart\",\"type\":\"Plot\"}]},\"id\":\"6fc2c2a4-a213-497b-b962-56425e091f62\",\"type\":\"Row\"},{\"attributes\":{},\"id\":\"5e07a109-672c-45df-b75f-832434f55bf9\",\"type\":\"BasicTickFormatter\"},{\"attributes\":{},\"id\":\"fb986bc6-6215-4325-8721-bff03f7cce71\",\"type\":\"BasicTickFormatter\"},{\"attributes\":{\"fill_alpha\":{\"value\":0.7},\"fill_color\":{\"value\":\"#f22c40\"},\"line_color\":{\"value\":\"#f22c40\"},\"size\":{\"units\":\"screen\",\"value\":8},\"x\":{\"field\":\"x_values\"},\"y\":{\"field\":\"y_values\"}},\"id\":\"c0b5de47-d8a4-4998-9611-78d693c37971\",\"type\":\"Circle\"},{\"attributes\":{},\"id\":\"db147c25-13b4-4623-bde9-40dd2f844a23\",\"type\":\"BasicTickFormatter\"},{\"attributes\":{\"sizing_mode\":\"scale_width\",\"toolbar_location\":\"above\",\"tools\":[{\"id\":\"fc2d464b-2448-4e81-87c1-7cd0046dbb95\",\"type\":\"PanTool\"},{\"id\":\"027df804-60c3-4870-90d0-f3854c17a283\",\"type\":\"WheelZoomTool\"},{\"id\":\"d6e9ac34-8122-426b-af66-ce4af38ee6ec\",\"type\":\"BoxZoomTool\"},{\"id\":\"d0262a1c-f6e5-4952-8ac1-0fae98d91378\",\"type\":\"SaveTool\"},{\"id\":\"b7daf611-5b1b-4d62-aa75-0750f3d552cb\",\"type\":\"ResetTool\"},{\"id\":\"fdddd695-392b-4bde-a7b0-1a5fd7d91a33\",\"type\":\"HelpTool\"},{\"id\":\"1b5ea512-371c-43d3-9254-dc5b05ef8865\",\"type\":\"PanTool\"},{\"id\":\"83e52746-35c9-4dc9-b49a-80da3c3da8c2\",\"type\":\"WheelZoomTool\"},{\"id\":\"377d1d6d-bdee-4dc5-9339-108bb25f3dcf\",\"type\":\"BoxZoomTool\"},{\"id\":\"81fe9431-4140-494e-84f2-78a9cc1f439f\",\"type\":\"SaveTool\"},{\"id\":\"8af8d1f4-2863-42c4-951a-155b6c0f5694\",\"type\":\"ResetTool\"},{\"id\":\"21a57bed-4929-4656-aad3-d28218ca3aea\",\"type\":\"HelpTool\"},{\"id\":\"e870ccac-c621-401a-bcba-82dc87381148\",\"type\":\"PanTool\"},{\"id\":\"71ad1420-0324-4124-951b-3350527ae1aa\",\"type\":\"WheelZoomTool\"},{\"id\":\"16117cb5-1f77-4285-8cbb-653c2c88a660\",\"type\":\"BoxZoomTool\"},{\"id\":\"4aa9317b-7104-4d56-82e6-5ffb178de74e\",\"type\":\"SaveTool\"},{\"id\":\"4939a8d5-ab63-428b-b0f4-e3ec3421ac9d\",\"type\":\"ResetTool\"},{\"id\":\"e1074788-2baf-49a7-a528-c9ea2a323087\",\"type\":\"HelpTool\"},{\"id\":\"180889b3-5bb9-40dc-85a5-d380251a7246\",\"type\":\"PanTool\"},{\"id\":\"d612aeb0-8a93-4c60-87dd-800548f20958\",\"type\":\"WheelZoomTool\"},{\"id\":\"f4ff2994-a795-40bf-b86b-38a8218337aa\",\"type\":\"BoxZoomTool\"},{\"id\":\"cc30a275-c7e1-425d-951d-13ae2df87d86\",\"type\":\"SaveTool\"},{\"id\":\"44e77881-0345-44da-a457-f6dc9e8b85a6\",\"type\":\"ResetTool\"},{\"id\":\"53cf9c2c-e008-4bde-8a67-72992094010d\",\"type\":\"HelpTool\"}]},\"id\":\"7a2a32fe-51bd-41cd-984b-530629d519b5\",\"type\":\"ToolbarBox\"},{\"attributes\":{},\"id\":\"57b1b6e1-b099-40e0-88e1-5dea018ffb63\",\"type\":\"BasicTickFormatter\"},{\"attributes\":{},\"id\":\"5172c4ed-035d-4385-9290-334c6878b2cd\",\"type\":\"BasicTickFormatter\"},{\"attributes\":{\"children\":[{\"id\":\"ca927315-a278-4386-b631-f8751c19fcbf\",\"subtype\":\"Chart\",\"type\":\"Plot\"},{\"id\":\"761b9040-9389-4c95-91cb-21fa23c1c2b3\",\"subtype\":\"Chart\",\"type\":\"Plot\"}]},\"id\":\"7acefa02-bf02-463e-9c70-36183fe44844\",\"type\":\"Row\"},{\"attributes\":{\"children\":[{\"id\":\"7a2a32fe-51bd-41cd-984b-530629d519b5\",\"type\":\"ToolbarBox\"},{\"id\":\"ed81958a-5d61-4596-882d-fd0e1bb17d01\",\"type\":\"Column\"}]},\"id\":\"94341921-d08c-4e46-ae9e-340673e7f800\",\"type\":\"Column\"},{\"attributes\":{\"data_source\":{\"id\":\"82425495-dc3d-4bf4-81d0-7fcc6ee7ad28\",\"type\":\"ColumnDataSource\"},\"glyph\":{\"id\":\"c0b5de47-d8a4-4998-9611-78d693c37971\",\"type\":\"Circle\"},\"hover_glyph\":null,\"nonselection_glyph\":null,\"selection_glyph\":null},\"id\":\"d1e67a98-6e44-475c-9b53-8a033c8d0686\",\"type\":\"GlyphRenderer\"},{\"attributes\":{\"axis_label\":\"y\",\"formatter\":{\"id\":\"2ee1a9b5-a01b-4771-b6d9-b13e3f10fefa\",\"type\":\"BasicTickFormatter\"},\"plot\":{\"id\":\"3e661565-c575-4cd1-95cb-98e6928cf5e6\",\"subtype\":\"Chart\",\"type\":\"Plot\"},\"ticker\":{\"id\":\"2402fe62-0038-4b73-b685-dde0831ee7af\",\"type\":\"BasicTicker\"}},\"id\":\"b5845766-5be4-4239-becd-995f7dcc2ad4\",\"type\":\"LinearAxis\"},{\"attributes\":{\"below\":[{\"id\":\"7a5e3546-1fe1-4a08-9062-ed846d9318f9\",\"type\":\"LinearAxis\"}],\"css_classes\":null,\"left\":[{\"id\":\"84046d54-0354-4400-959a-fcdef8a9da0d\",\"type\":\"LinearAxis\"}],\"plot_height\":200,\"plot_width\":300,\"renderers\":[{\"id\":\"4fa3fb6a-7019-49b9-9253-c95bb1c0fc8e\",\"type\":\"BoxAnnotation\"},{\"id\":\"96334ed4-5806-4c6e-bdee-6e213261a3be\",\"type\":\"GlyphRenderer\"},{\"id\":\"22c9caea-8289-4259-9328-ca2354289785\",\"type\":\"Legend\"},{\"id\":\"7a5e3546-1fe1-4a08-9062-ed846d9318f9\",\"type\":\"LinearAxis\"},{\"id\":\"84046d54-0354-4400-959a-fcdef8a9da0d\",\"type\":\"LinearAxis\"},{\"id\":\"57d7e7d8-2765-4eb1-8409-753533ae6d86\",\"type\":\"Grid\"},{\"id\":\"9581d63a-d0ea-48ef-b380-87f5777292c8\",\"type\":\"Grid\"}],\"title\":{\"id\":\"1e8868a0-73ca-4bf8-b9c3-398f15b5398b\",\"type\":\"Title\"},\"tool_events\":{\"id\":\"d5d3af17-89d0-4b23-b511-3902bbf95de5\",\"type\":\"ToolEvents\"},\"toolbar\":{\"id\":\"97ba623d-998a-4ccb-8b3c-24a2e4a5db0b\",\"type\":\"Toolbar\"},\"toolbar_location\":null,\"x_mapper_type\":\"auto\",\"x_range\":{\"id\":\"77262ee1-54a5-47af-b762-c26e35ef8185\",\"type\":\"Range1d\"},\"y_mapper_type\":\"auto\",\"y_range\":{\"id\":\"828f80d3-a400-4505-9941-823888ab851c\",\"type\":\"Range1d\"}},\"id\":\"81dde85b-2089-4ddc-adbf-b0f85f8659c9\",\"subtype\":\"Chart\",\"type\":\"Plot\"},{\"attributes\":{\"plot\":null,\"text\":null},\"id\":\"1e8868a0-73ca-4bf8-b9c3-398f15b5398b\",\"type\":\"Title\"},{\"attributes\":{\"bottom_units\":\"screen\",\"fill_alpha\":{\"value\":0.5},\"fill_color\":{\"value\":\"lightgrey\"},\"left_units\":\"screen\",\"level\":\"overlay\",\"line_alpha\":{\"value\":1.0},\"line_color\":{\"value\":\"black\"},\"line_dash\":[4,4],\"line_width\":{\"value\":2},\"plot\":null,\"render_mode\":\"css\",\"right_units\":\"screen\",\"top_units\":\"screen\"},\"id\":\"4fa3fb6a-7019-49b9-9253-c95bb1c0fc8e\",\"type\":\"BoxAnnotation\"},{\"attributes\":{},\"id\":\"d5d3af17-89d0-4b23-b511-3902bbf95de5\",\"type\":\"ToolEvents\"},{\"attributes\":{\"active_drag\":\"auto\",\"active_scroll\":\"auto\",\"active_tap\":\"auto\",\"tools\":[{\"id\":\"1b5ea512-371c-43d3-9254-dc5b05ef8865\",\"type\":\"PanTool\"},{\"id\":\"83e52746-35c9-4dc9-b49a-80da3c3da8c2\",\"type\":\"WheelZoomTool\"},{\"id\":\"377d1d6d-bdee-4dc5-9339-108bb25f3dcf\",\"type\":\"BoxZoomTool\"},{\"id\":\"81fe9431-4140-494e-84f2-78a9cc1f439f\",\"type\":\"SaveTool\"},{\"id\":\"8af8d1f4-2863-42c4-951a-155b6c0f5694\",\"type\":\"ResetTool\"},{\"id\":\"21a57bed-4929-4656-aad3-d28218ca3aea\",\"type\":\"HelpTool\"}]},\"id\":\"97ba623d-998a-4ccb-8b3c-24a2e4a5db0b\",\"type\":\"Toolbar\"},{\"attributes\":{\"axis_label\":\"x\",\"formatter\":{\"id\":\"db147c25-13b4-4623-bde9-40dd2f844a23\",\"type\":\"BasicTickFormatter\"},\"plot\":{\"id\":\"81dde85b-2089-4ddc-adbf-b0f85f8659c9\",\"subtype\":\"Chart\",\"type\":\"Plot\"},\"ticker\":{\"id\":\"73ce5ef9-e51a-4329-825f-65c2a9645a47\",\"type\":\"BasicTicker\"}},\"id\":\"7a5e3546-1fe1-4a08-9062-ed846d9318f9\",\"type\":\"LinearAxis\"},{\"attributes\":{\"plot\":{\"id\":\"81dde85b-2089-4ddc-adbf-b0f85f8659c9\",\"subtype\":\"Chart\",\"type\":\"Plot\"}},\"id\":\"1b5ea512-371c-43d3-9254-dc5b05ef8865\",\"type\":\"PanTool\"},{\"attributes\":{\"location\":\"top_left\",\"plot\":{\"id\":\"81dde85b-2089-4ddc-adbf-b0f85f8659c9\",\"subtype\":\"Chart\",\"type\":\"Plot\"}},\"id\":\"22c9caea-8289-4259-9328-ca2354289785\",\"type\":\"Legend\"},{\"attributes\":{\"dimension\":1,\"plot\":{\"id\":\"3e661565-c575-4cd1-95cb-98e6928cf5e6\",\"subtype\":\"Chart\",\"type\":\"Plot\"},\"ticker\":{\"id\":\"2402fe62-0038-4b73-b685-dde0831ee7af\",\"type\":\"BasicTicker\"}},\"id\":\"d5d14e57-a7f7-4a45-9316-f136c86f4bba\",\"type\":\"Grid\"},{\"attributes\":{\"axis_label\":\"x\",\"formatter\":{\"id\":\"fb986bc6-6215-4325-8721-bff03f7cce71\",\"type\":\"BasicTickFormatter\"},\"plot\":{\"id\":\"3e661565-c575-4cd1-95cb-98e6928cf5e6\",\"subtype\":\"Chart\",\"type\":\"Plot\"},\"ticker\":{\"id\":\"e27fdcdb-e09c-42c4-94ef-524d3d87a626\",\"type\":\"BasicTicker\"}},\"id\":\"c06b166f-5595-4048-bc98-2a07ad04e6ef\",\"type\":\"LinearAxis\"},{\"attributes\":{},\"id\":\"e27fdcdb-e09c-42c4-94ef-524d3d87a626\",\"type\":\"BasicTicker\"},{\"attributes\":{\"plot\":{\"id\":\"3e661565-c575-4cd1-95cb-98e6928cf5e6\",\"subtype\":\"Chart\",\"type\":\"Plot\"},\"ticker\":{\"id\":\"e27fdcdb-e09c-42c4-94ef-524d3d87a626\",\"type\":\"BasicTicker\"}},\"id\":\"84d30405-8a75-424f-a24e-dc567e6be116\",\"type\":\"Grid\"},{\"attributes\":{},\"id\":\"2402fe62-0038-4b73-b685-dde0831ee7af\",\"type\":\"BasicTicker\"},{\"attributes\":{\"plot\":{\"id\":\"81dde85b-2089-4ddc-adbf-b0f85f8659c9\",\"subtype\":\"Chart\",\"type\":\"Plot\"}},\"id\":\"83e52746-35c9-4dc9-b49a-80da3c3da8c2\",\"type\":\"WheelZoomTool\"},{\"attributes\":{\"overlay\":{\"id\":\"4fa3fb6a-7019-49b9-9253-c95bb1c0fc8e\",\"type\":\"BoxAnnotation\"},\"plot\":{\"id\":\"81dde85b-2089-4ddc-adbf-b0f85f8659c9\",\"subtype\":\"Chart\",\"type\":\"Plot\"}},\"id\":\"377d1d6d-bdee-4dc5-9339-108bb25f3dcf\",\"type\":\"BoxZoomTool\"},{\"attributes\":{\"plot\":{\"id\":\"81dde85b-2089-4ddc-adbf-b0f85f8659c9\",\"subtype\":\"Chart\",\"type\":\"Plot\"}},\"id\":\"81fe9431-4140-494e-84f2-78a9cc1f439f\",\"type\":\"SaveTool\"},{\"attributes\":{\"plot\":{\"id\":\"81dde85b-2089-4ddc-adbf-b0f85f8659c9\",\"subtype\":\"Chart\",\"type\":\"Plot\"}},\"id\":\"8af8d1f4-2863-42c4-951a-155b6c0f5694\",\"type\":\"ResetTool\"},{\"attributes\":{\"plot\":{\"id\":\"81dde85b-2089-4ddc-adbf-b0f85f8659c9\",\"subtype\":\"Chart\",\"type\":\"Plot\"}},\"id\":\"21a57bed-4929-4656-aad3-d28218ca3aea\",\"type\":\"HelpTool\"},{\"attributes\":{\"axis_label\":\"y\",\"formatter\":{\"id\":\"5e07a109-672c-45df-b75f-832434f55bf9\",\"type\":\"BasicTickFormatter\"},\"plot\":{\"id\":\"81dde85b-2089-4ddc-adbf-b0f85f8659c9\",\"subtype\":\"Chart\",\"type\":\"Plot\"},\"ticker\":{\"id\":\"9eaa70de-73fc-4125-9f52-f78489dc95e3\",\"type\":\"BasicTicker\"}},\"id\":\"84046d54-0354-4400-959a-fcdef8a9da0d\",\"type\":\"LinearAxis\"},{\"attributes\":{\"callback\":null,\"end\":15.0,\"start\":3.0},\"id\":\"365ab292-f2fb-4fc7-a9d7-2b14bd8c7e8b\",\"type\":\"Range1d\"},{\"attributes\":{\"data_source\":{\"id\":\"a86937ee-0f0d-4e4b-92c9-1b6cd7227baf\",\"type\":\"ColumnDataSource\"},\"glyph\":{\"id\":\"9dff6d60-c2f5-4f20-b400-93cf4012e7c7\",\"type\":\"Circle\"},\"hover_glyph\":null,\"nonselection_glyph\":null,\"selection_glyph\":null},\"id\":\"96334ed4-5806-4c6e-bdee-6e213261a3be\",\"type\":\"GlyphRenderer\"},{\"attributes\":{\"plot\":{\"id\":\"81dde85b-2089-4ddc-adbf-b0f85f8659c9\",\"subtype\":\"Chart\",\"type\":\"Plot\"},\"ticker\":{\"id\":\"73ce5ef9-e51a-4329-825f-65c2a9645a47\",\"type\":\"BasicTicker\"}},\"id\":\"57d7e7d8-2765-4eb1-8409-753533ae6d86\",\"type\":\"Grid\"},{\"attributes\":{\"dimension\":1,\"plot\":{\"id\":\"81dde85b-2089-4ddc-adbf-b0f85f8659c9\",\"subtype\":\"Chart\",\"type\":\"Plot\"},\"ticker\":{\"id\":\"9eaa70de-73fc-4125-9f52-f78489dc95e3\",\"type\":\"BasicTicker\"}},\"id\":\"9581d63a-d0ea-48ef-b380-87f5777292c8\",\"type\":\"Grid\"},{\"attributes\":{\"callback\":null,\"column_names\":[\"x_values\",\"y_values\"],\"data\":{\"chart_index\":[null,null,null,null,null,null,null,null,null,null,null],\"x_values\":[10,8,13,9,11,14,6,4,12,7,5],\"y_values\":{\"__ndarray__\":\"SOF6FK5HIkBI4XoUrkcgQHsUrkfheiFACtejcD2KIUCF61G4HoUiQDMzMzMzMyBAhetRuB6FGEDNzMzMzMwIQMP1KFyPQiJACtejcD0KHUD2KFyPwvUSQA==\",\"dtype\":\"float64\",\"shape\":[11]}}},\"id\":\"a86937ee-0f0d-4e4b-92c9-1b6cd7227baf\",\"type\":\"ColumnDataSource\"},{\"attributes\":{\"callback\":null,\"end\":9.876,\"start\":2.484},\"id\":\"828f80d3-a400-4505-9941-823888ab851c\",\"type\":\"Range1d\"},{\"attributes\":{\"callback\":null,\"end\":13.475,\"start\":4.654999999999999},\"id\":\"f4ae6c4e-9990-4bb8-b64d-179a6ce1a436\",\"type\":\"Range1d\"},{\"attributes\":{},\"id\":\"9eaa70de-73fc-4125-9f52-f78489dc95e3\",\"type\":\"BasicTicker\"},{\"attributes\":{},\"id\":\"73ce5ef9-e51a-4329-825f-65c2a9645a47\",\"type\":\"BasicTicker\"},{\"attributes\":{\"fill_alpha\":{\"value\":0.7},\"fill_color\":{\"value\":\"#f22c40\"},\"line_color\":{\"value\":\"#f22c40\"},\"size\":{\"units\":\"screen\",\"value\":8},\"x\":{\"field\":\"x_values\"},\"y\":{\"field\":\"y_values\"}},\"id\":\"9dff6d60-c2f5-4f20-b400-93cf4012e7c7\",\"type\":\"Circle\"}],\"root_ids\":[\"94341921-d08c-4e46-ae9e-340673e7f800\"]},\"title\":\"Bokeh Application\",\"version\":\"0.12.4\"}};\n",
       "            var render_items = [{\"docid\":\"5d3c4a5a-deff-4478-9b64-2051cac2c8a2\",\"elementid\":\"706dc7a7-8f9f-43e7-8fb1-44fb5021ae01\",\"modelid\":\"94341921-d08c-4e46-ae9e-340673e7f800\"}];\n",
       "            \n",
       "            Bokeh.embed.embed_items(docs_json, render_items);\n",
       "          };\n",
       "          if (document.readyState != \"loading\") fn();\n",
       "          else document.addEventListener(\"DOMContentLoaded\", fn);\n",
       "        })();\n",
       "      },\n",
       "      function(Bokeh) {\n",
       "      }\n",
       "    ];\n",
       "  \n",
       "    function run_inline_js() {\n",
       "      \n",
       "      if ((window.Bokeh !== undefined) || (force === true)) {\n",
       "        for (var i = 0; i < inline_js.length; i++) {\n",
       "          inline_js[i](window.Bokeh);\n",
       "        }if (force === true) {\n",
       "          display_loaded();\n",
       "        }} else if (Date.now() < window._bokeh_timeout) {\n",
       "        setTimeout(run_inline_js, 100);\n",
       "      } else if (!window._bokeh_failed_load) {\n",
       "        console.log(\"Bokeh: BokehJS failed to load within specified timeout.\");\n",
       "        window._bokeh_failed_load = true;\n",
       "      } else if (force !== true) {\n",
       "        var cell = $(document.getElementById(\"706dc7a7-8f9f-43e7-8fb1-44fb5021ae01\")).parents('.cell').data().cell;\n",
       "        cell.output_area.append_execute_result(NB_LOAD_WARNING)\n",
       "      }\n",
       "  \n",
       "    }\n",
       "  \n",
       "    if (window._bokeh_is_loading === 0) {\n",
       "      console.log(\"Bokeh: BokehJS loaded, going straight to plotting\");\n",
       "      run_inline_js();\n",
       "    } else {\n",
       "      load_libs(js_urls, function() {\n",
       "        console.log(\"Bokeh: BokehJS plotting callback run at\", now());\n",
       "        run_inline_js();\n",
       "      });\n",
       "    }\n",
       "  }(this));\n",
       "</script>"
      ]
     },
     "metadata": {},
     "output_type": "display_data"
    }
   ],
   "source": [
    "p = layouts.gridplot(*[Scatter(ans_bis.query(\"i == '\" + str(i+1) + \"'\"), \"x\", \"y\") \n",
    "                       for i in range(4)], ncols=2,\n",
    "                     plot_width = 300, plot_height = 200)\n",
    "show(p)"
   ]
  },
  {
   "cell_type": "markdown",
   "metadata": {
    "deletable": true,
    "editable": true,
    "run_control": {
     "frozen": false,
     "read_only": false
    }
   },
   "source": [
    "#### Avec `seaborn`"
   ]
  },
  {
   "cell_type": "code",
   "execution_count": 8,
   "metadata": {
    "collapsed": false,
    "deletable": true,
    "editable": true,
    "hide_input": false,
    "run_control": {
     "frozen": false,
     "read_only": false
    }
   },
   "outputs": [
    {
     "data": {
      "text/plain": [
       "<seaborn.axisgrid.FacetGrid at 0x1094e56d8>"
      ]
     },
     "execution_count": 8,
     "metadata": {},
     "output_type": "execute_result"
    },
    {
     "data": {
      "image/png": "[encoded data removed]",
      "text/plain": [
       "<matplotlib.figure.Figure at 0x10954eb70>"
      ]
     },
     "metadata": {},
     "output_type": "display_data"
    }
   ],
   "source": [
    "p = seaborn.FacetGrid(ans_bis, col = \"i\", col_wrap = 2)\n",
    "p.set(xlim = (ans_bis.x.min() - 1, ans_bis.x.max() + 1))\n",
    "p.map(seaborn.regplot, \"x\", \"y\", ci = False)"
   ]
  }
 ],
 "metadata": {
  "kernelspec": {
   "display_name": "Python 3",
   "language": "python",
   "name": "python3"
  },
  "language_info": {
   "codemirror_mode": {
    "name": "ipython",
    "version": 3
   },
   "file_extension": ".py",
   "mimetype": "text/x-python",
   "name": "python",
   "nbconvert_exporter": "python",
   "pygments_lexer": "ipython3",
   "version": "3.6.0"
  }
 },
 "nbformat": 4,
 "nbformat_minor": 2
}
