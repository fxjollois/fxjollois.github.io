{
 "cells": [
  {
   "cell_type": "markdown",
   "metadata": {
    "deletable": true,
    "editable": true
   },
   "source": [
    "# TP8 - Données du projet\n",
    "\n",
    "#### Analyse de Données Massives - Master 1ère année\n",
    "\n",
    "Nous allons découvrir dans ce TP les [données utilisées](https://opendata.paris.fr/explore/dataset/horodateurs-transactions-de-paiement/) dans le projet à rendre, qui sont l'ensemble des **transactions sur les horodateurs dans la ville de Paris** sur l'année 2014. Celles-ci proviennent du site [Open Data Paris](https://opendata.paris.fr), répertoire des donées ouvertes de la ville de Paris. Elles sont stockées sur le serveur *MongoDB* déjà utilisé, dans la base `horodateurs`.\n",
    "\n",
    "Elle contient deux collections principales :\n",
    "\n",
    "- `transactions` : ensemble des paiements\n",
    "- `mobiliers`: liste de tous les horodateurs\n"
   ]
  },
  {
   "cell_type": "code",
   "execution_count": 1,
   "metadata": {
    "collapsed": false,
    "deletable": true,
    "editable": true
   },
   "outputs": [
    {
     "data": {
      "text/plain": [
       "['transactions_small', 'transactions', 'mobiliers']"
      ]
     },
     "execution_count": 1,
     "metadata": {},
     "output_type": "execute_result"
    }
   ],
   "source": [
    "import pymongo\n",
    "import pandas\n",
    "from pprint import pprint\n",
    "\n",
    "con = pymongo.MongoClient(\"mongodb://193.51.82.104:2343/\")\n",
    "\n",
    "horo = con.horodateurs\n",
    "horo.collection_names()"
   ]
  },
  {
   "cell_type": "markdown",
   "metadata": {
    "deletable": true,
    "editable": true
   },
   "source": [
    "## Taille des données\n",
    "\n",
    "Il y a un grand nombre de transactions stockées dans la base (plus de 24 millions - cf ci-dessous)."
   ]
  },
  {
   "cell_type": "code",
   "execution_count": 2,
   "metadata": {
    "collapsed": false,
    "deletable": true,
    "editable": true
   },
   "outputs": [
    {
     "data": {
      "text/plain": [
       "24448030"
      ]
     },
     "execution_count": 2,
     "metadata": {},
     "output_type": "execute_result"
    }
   ],
   "source": [
    "horo.transactions.count()"
   ]
  },
  {
   "cell_type": "markdown",
   "metadata": {
    "deletable": true,
    "editable": true
   },
   "source": [
    "Nous disposons d'un échantillon réduit de transactions (1%) permettant de tester rapidement le code qu'on ouhaite exécuter (plutôt que de lancer un code erroné ou trop lourd sur l'ensemble des données)."
   ]
  },
  {
   "cell_type": "code",
   "execution_count": 3,
   "metadata": {
    "collapsed": false,
    "deletable": true,
    "editable": true
   },
   "outputs": [
    {
     "data": {
      "text/plain": [
       "244480"
      ]
     },
     "execution_count": 3,
     "metadata": {},
     "output_type": "execute_result"
    }
   ],
   "source": [
    "horo.transactions_small.count()"
   ]
  },
  {
   "cell_type": "markdown",
   "metadata": {
    "deletable": true,
    "editable": true
   },
   "source": [
    "Nous disposons aussi de la liste des mobiliers, c'est-à-dire des horodateurs de la ville de Paris."
   ]
  },
  {
   "cell_type": "code",
   "execution_count": 4,
   "metadata": {
    "collapsed": false,
    "deletable": true,
    "editable": true
   },
   "outputs": [
    {
     "data": {
      "text/plain": [
       "7810"
      ]
     },
     "execution_count": 4,
     "metadata": {},
     "output_type": "execute_result"
    }
   ],
   "source": [
    "horo.mobiliers.count()"
   ]
  },
  {
   "cell_type": "markdown",
   "metadata": {
    "deletable": true,
    "editable": true
   },
   "source": [
    "Pour avoir une estimation de la taille des données, nous récupérons l'ensemble des transactions de l'échantillon réduit dans un `DataFrame`."
   ]
  },
  {
   "cell_type": "code",
   "execution_count": 5,
   "metadata": {
    "collapsed": false,
    "deletable": true,
    "editable": true
   },
   "outputs": [],
   "source": [
    "trans_small = pandas.DataFrame(list(horo.transactions_small.find()))"
   ]
  },
  {
   "cell_type": "markdown",
   "metadata": {
    "deletable": true,
    "editable": true
   },
   "source": [
    "Il est maintenant possible de connaître la taille des données grâce à l'objet `values.nbytes` du `DataFrame` créé."
   ]
  },
  {
   "cell_type": "code",
   "execution_count": 6,
   "metadata": {
    "collapsed": false,
    "deletable": true,
    "editable": true
   },
   "outputs": [
    {
     "name": "stdout",
     "output_type": "stream",
     "text": [
      "17602560\n"
     ]
    }
   ],
   "source": [
    "print(trans_small.values.nbytes)"
   ]
  },
  {
   "cell_type": "markdown",
   "metadata": {
    "deletable": true,
    "editable": true
   },
   "source": [
    "L'objet finalement obtenu a donc une taille de presque 17 Mo (cf calcul ci-dessous)."
   ]
  },
  {
   "cell_type": "code",
   "execution_count": 7,
   "metadata": {
    "collapsed": false,
    "deletable": true,
    "editable": true
   },
   "outputs": [
    {
     "data": {
      "text/plain": [
       "16.787109375"
      ]
     },
     "execution_count": 7,
     "metadata": {},
     "output_type": "execute_result"
    }
   ],
   "source": [
    "trans_small.values.nbytes / (1024 * 1024) # En Mo"
   ]
  },
  {
   "cell_type": "markdown",
   "metadata": {
    "deletable": true,
    "editable": true
   },
   "source": [
    "Une rapide estimation pour la totalité (grâce à une règle de trois) nous permet de voir que l'objet final contenant les transactions sur toute l'année (sans pré-calcul dans *MongoDB*) aurait une taille de plus de 1.6 Go. Il va donc falloir faire attention aux calculs que l'on va lancer, et aux choix de récupération de données qu'on va faire."
   ]
  },
  {
   "cell_type": "code",
   "execution_count": 8,
   "metadata": {
    "collapsed": false,
    "deletable": true,
    "editable": true,
    "scrolled": true
   },
   "outputs": [
    {
     "data": {
      "text/plain": [
       "1678.7129974365234"
      ]
     },
     "execution_count": 8,
     "metadata": {},
     "output_type": "execute_result"
    }
   ],
   "source": [
    "trans_small.values.nbytes / (1024 * 1024) * (horo.transactions.count() / horo.transactions_small.count())"
   ]
  },
  {
   "cell_type": "markdown",
   "metadata": {
    "collapsed": true,
    "deletable": true,
    "editable": true
   },
   "source": [
    "## Contenu des données\n",
    "\n",
    "Afin de mieux comprendre les données, nous affichons le premier document de chaque collection.\n",
    "\n",
    "Pour les transactions, nous avons les informations présentées dans le fichier PDF joint avec les données (cf lien au début du TP). On a en particulier le numéro de l'horodateur dans l'item `horodateur`. Celui-ci nous permettra de faire le lien avec l'autre collection."
   ]
  },
  {
   "cell_type": "code",
   "execution_count": 24,
   "metadata": {
    "collapsed": false,
    "deletable": true,
    "editable": true
   },
   "outputs": [
    {
     "name": "stdout",
     "output_type": "stream",
     "text": [
      "{'_id': ObjectId('56eaa8279fae0d71f77ea2bd'),\n",
      " 'date horodateur': datetime.datetime(2014, 1, 9, 14, 9, 47),\n",
      " 'durée payée (h)': 0.5,\n",
      " 'début stationnement': datetime.datetime(2014, 1, 9, 14, 9, 47),\n",
      " 'fin stationnement': datetime.datetime(2014, 1, 9, 14, 39, 47),\n",
      " 'horodateur': 1050,\n",
      " 'montant carte': 1.8,\n",
      " 'moyen de paiement': 'Paris Carte',\n",
      " 'usager': 'Rotatif'}\n"
     ]
    }
   ],
   "source": [
    "pprint(horo.transactions.find_one())"
   ]
  },
  {
   "cell_type": "markdown",
   "metadata": {
    "deletable": true,
    "editable": true
   },
   "source": [
    "Dans la collection `mobiliers`, nous avons plusieurs informations (à voir aussi dans le PD joint sur [cette page](https://opendata.paris.fr/explore/dataset/horodateurs-mobiliers/information/)). On dispose bien évidemment du numéro d'horodateurs (avec l'attribut `numhoro`), mais aussi de la localisation géographique de l'horodateur (sous différents formats, permettant leur utilisation de plusieurs façons)."
   ]
  },
  {
   "cell_type": "code",
   "execution_count": 23,
   "metadata": {
    "collapsed": false,
    "deletable": true,
    "editable": true
   },
   "outputs": [
    {
     "name": "stdout",
     "output_type": "stream",
     "text": [
      "{'_id': ObjectId('56eaa4552d7eb34e4432e0fb'),\n",
      " 'datasetid': 'horodateurs-mobiliers',\n",
      " 'fields': {'adresse': '48 vis-à-vis RUE DE LISBONNE',\n",
      "            'alim': 'SOLAIRE',\n",
      "            'arrondt': 8,\n",
      "            'geo_point_2d': [48.877489999731374, 2.311394999713242],\n",
      "            'geo_shape': {'coordinates': [2.311394999713242,\n",
      "                                          48.877489999731374],\n",
      "                          'type': 'Point'},\n",
      "            'modele': 'SAB3',\n",
      "            'numhoro': 57080603,\n",
      "            'objectid': 4383,\n",
      "            'regime': 'MIX',\n",
      "            'tarif': '4,00 E MIX 2U',\n",
      "            'tarifhor': 4.0,\n",
      "            'zoneres': '8J'},\n",
      " 'geometry': {'coordinates': [2.311394999713242, 48.877489999731374],\n",
      "              'type': 'Point'},\n",
      " 'record_timestamp': '2015-12-02T17:49:46+00:00',\n",
      " 'recordid': '698c75a21ba4f4c34e72f32ea1ecd94f9de8b88c'}\n"
     ]
    }
   ],
   "source": [
    "pprint(horo.mobiliers.find_one())"
   ]
  },
  {
   "cell_type": "markdown",
   "metadata": {
    "deletable": true,
    "editable": true
   },
   "source": [
    "## A Faire\n",
    "\n",
    "Cette première partie à faire vous permettra de vous familariser avec les données.\n",
    "\n",
    "### Mobiliers\n",
    "\n",
    "1. Donner les différents types d'alimentation possible (`alim`) et le nombre d'horodateurs pour chaque. \n",
    "1. Donner le nombre de mobiliers pour chaque arrondissement (`arrondt`)\n",
    "1. Lister l'ensemble des modèles existants (`modele`)\n",
    "1. Croiser le régime (`regime`) et les arrondissements pour voir s'il y a des différences notables\n",
    "1. Idem avec le tarif horaire (`tarifhor`)\n",
    "\n",
    "### Transactions\n",
    "\n",
    "1. Donner la distribution des montants payés (`montant carte`) et des durées payées (`durée payée (h)`)\n",
    "1. Lister les différents moyens de paiements utilisés (`moyen de paiement`) et le type d'usager (`usager`), en ordonnant chaque table résultat par ordre décroissant du nombre de paiements\n",
    "1. Déterminer s'il existe un lien entre le moyen de paiement, et le montant d'une part et la durée d'autre part"
   ]
  },
  {
   "cell_type": "markdown",
   "metadata": {
    "deletable": true,
    "editable": true
   },
   "source": [
    "## Jointure entre collections\n",
    "\n",
    "Il est possible de réaliser une jointure entre deux collections, dans un aggrégat, avec l'opérateur `$lookup`.\n",
    "\n",
    "Ci-dessous, nous nous restreignons aux transactions de l'horodateur `57080603`. Ensuite, nous récupérons les informations de celui-ci dans l'autre collection (indiquée dans le `from`), via la jointure avec `$lookup`. L'attribut `localField` indique l'attribut à prendre dans la collection en cours et `foreignField` l'attribut à prendre dans la collection indiquée dans le `from`. La liste des mobiliers correspondants (1 seul normalement ici) est retournée dans un `array` nommé via le `as`. Ensuite, nous nous limitons aux 5 premiers résultats pour ne pas alourdir l'affichage."
   ]
  },
  {
   "cell_type": "code",
   "execution_count": 44,
   "metadata": {
    "collapsed": false,
    "deletable": true,
    "editable": true
   },
   "outputs": [
    {
     "name": "stdout",
     "output_type": "stream",
     "text": [
      "[{'_id': ObjectId('56eaa9ef9fae0d71f74ec333'),\n",
      "  'date horodateur': datetime.datetime(2014, 7, 10, 12, 27, 33),\n",
      "  'durée payée (h)': 1.75,\n",
      "  'début stationnement': datetime.datetime(2014, 7, 10, 12, 27, 33),\n",
      "  'fin stationnement': datetime.datetime(2014, 7, 10, 14, 12, 33),\n",
      "  'horodateur': 57080603,\n",
      "  'mobilier': [{'_id': ObjectId('56eaa4552d7eb34e4432e0fb'),\n",
      "                'datasetid': 'horodateurs-mobiliers',\n",
      "                'fields': {'adresse': '48 vis-à-vis RUE DE LISBONNE',\n",
      "                           'alim': 'SOLAIRE',\n",
      "                           'arrondt': 8,\n",
      "                           'geo_point_2d': [48.877489999731374,\n",
      "                                            2.311394999713242],\n",
      "                           'geo_shape': {'coordinates': [2.311394999713242,\n",
      "                                                         48.877489999731374],\n",
      "                                         'type': 'Point'},\n",
      "                           'modele': 'SAB3',\n",
      "                           'numhoro': 57080603,\n",
      "                           'objectid': 4383,\n",
      "                           'regime': 'MIX',\n",
      "                           'tarif': '4,00 E MIX 2U',\n",
      "                           'tarifhor': 4.0,\n",
      "                           'zoneres': '8J'},\n",
      "                'geometry': {'coordinates': [2.311394999713242,\n",
      "                                             48.877489999731374],\n",
      "                             'type': 'Point'},\n",
      "                'record_timestamp': '2015-12-02T17:49:46+00:00',\n",
      "                'recordid': '698c75a21ba4f4c34e72f32ea1ecd94f9de8b88c'}],\n",
      "  'montant carte': 4.2,\n",
      "  'moyen de paiement': 'CB',\n",
      "  'usager': 'Rotatif'},\n",
      " {'_id': ObjectId('56eaa9a19fae0d71f72c07b9'),\n",
      "  'date horodateur': datetime.datetime(2014, 6, 2, 14, 2, 1),\n",
      "  'durée payée (h)': 1.0,\n",
      "  'début stationnement': datetime.datetime(2014, 6, 2, 14, 2, 1),\n",
      "  'fin stationnement': datetime.datetime(2014, 6, 2, 15, 2, 1),\n",
      "  'horodateur': 57080603,\n",
      "  'mobilier': [{'_id': ObjectId('56eaa4552d7eb34e4432e0fb'),\n",
      "                'datasetid': 'horodateurs-mobiliers',\n",
      "                'fields': {'adresse': '48 vis-à-vis RUE DE LISBONNE',\n",
      "                           'alim': 'SOLAIRE',\n",
      "                           'arrondt': 8,\n",
      "                           'geo_point_2d': [48.877489999731374,\n",
      "                                            2.311394999713242],\n",
      "                           'geo_shape': {'coordinates': [2.311394999713242,\n",
      "                                                         48.877489999731374],\n",
      "                                         'type': 'Point'},\n",
      "                           'modele': 'SAB3',\n",
      "                           'numhoro': 57080603,\n",
      "                           'objectid': 4383,\n",
      "                           'regime': 'MIX',\n",
      "                           'tarif': '4,00 E MIX 2U',\n",
      "                           'tarifhor': 4.0,\n",
      "                           'zoneres': '8J'},\n",
      "                'geometry': {'coordinates': [2.311394999713242,\n",
      "                                             48.877489999731374],\n",
      "                             'type': 'Point'},\n",
      "                'record_timestamp': '2015-12-02T17:49:46+00:00',\n",
      "                'recordid': '698c75a21ba4f4c34e72f32ea1ecd94f9de8b88c'}],\n",
      "  'montant carte': 2.4,\n",
      "  'moyen de paiement': 'CB',\n",
      "  'usager': 'Rotatif'},\n",
      " {'_id': ObjectId('56eaaa8f9fae0d71f79740f9'),\n",
      "  'date horodateur': datetime.datetime(2014, 10, 1, 20, 28, 57),\n",
      "  'durée payée (h)': 10.0,\n",
      "  'début stationnement': datetime.datetime(2014, 10, 1, 20, 28, 57),\n",
      "  'fin stationnement': datetime.datetime(2014, 10, 2, 19, 0),\n",
      "  'horodateur': 57080603,\n",
      "  'mobilier': [{'_id': ObjectId('56eaa4552d7eb34e4432e0fb'),\n",
      "                'datasetid': 'horodateurs-mobiliers',\n",
      "                'fields': {'adresse': '48 vis-à-vis RUE DE LISBONNE',\n",
      "                           'alim': 'SOLAIRE',\n",
      "                           'arrondt': 8,\n",
      "                           'geo_point_2d': [48.877489999731374,\n",
      "                                            2.311394999713242],\n",
      "                           'geo_shape': {'coordinates': [2.311394999713242,\n",
      "                                                         48.877489999731374],\n",
      "                                         'type': 'Point'},\n",
      "                           'modele': 'SAB3',\n",
      "                           'numhoro': 57080603,\n",
      "                           'objectid': 4383,\n",
      "                           'regime': 'MIX',\n",
      "                           'tarif': '4,00 E MIX 2U',\n",
      "                           'tarifhor': 4.0,\n",
      "                           'zoneres': '8J'},\n",
      "                'geometry': {'coordinates': [2.311394999713242,\n",
      "                                             48.877489999731374],\n",
      "                             'type': 'Point'},\n",
      "                'record_timestamp': '2015-12-02T17:49:46+00:00',\n",
      "                'recordid': '698c75a21ba4f4c34e72f32ea1ecd94f9de8b88c'}],\n",
      "  'montant carte': 0.65,\n",
      "  'moyen de paiement': 'Paris Carte',\n",
      "  'usager': 'Résident'},\n",
      " {'_id': ObjectId('56eaa8989fae0d71f7b31129'),\n",
      "  'date horodateur': datetime.datetime(2014, 2, 14, 17, 25, 53),\n",
      "  'durée payée (h)': 0.75,\n",
      "  'début stationnement': datetime.datetime(2014, 2, 14, 17, 25, 53),\n",
      "  'fin stationnement': datetime.datetime(2014, 2, 14, 18, 10, 53),\n",
      "  'horodateur': 57080603,\n",
      "  'mobilier': [{'_id': ObjectId('56eaa4552d7eb34e4432e0fb'),\n",
      "                'datasetid': 'horodateurs-mobiliers',\n",
      "                'fields': {'adresse': '48 vis-à-vis RUE DE LISBONNE',\n",
      "                           'alim': 'SOLAIRE',\n",
      "                           'arrondt': 8,\n",
      "                           'geo_point_2d': [48.877489999731374,\n",
      "                                            2.311394999713242],\n",
      "                           'geo_shape': {'coordinates': [2.311394999713242,\n",
      "                                                         48.877489999731374],\n",
      "                                         'type': 'Point'},\n",
      "                           'modele': 'SAB3',\n",
      "                           'numhoro': 57080603,\n",
      "                           'objectid': 4383,\n",
      "                           'regime': 'MIX',\n",
      "                           'tarif': '4,00 E MIX 2U',\n",
      "                           'tarifhor': 4.0,\n",
      "                           'zoneres': '8J'},\n",
      "                'geometry': {'coordinates': [2.311394999713242,\n",
      "                                             48.877489999731374],\n",
      "                             'type': 'Point'},\n",
      "                'record_timestamp': '2015-12-02T17:49:46+00:00',\n",
      "                'recordid': '698c75a21ba4f4c34e72f32ea1ecd94f9de8b88c'}],\n",
      "  'montant carte': 1.8,\n",
      "  'moyen de paiement': 'Paris Carte',\n",
      "  'usager': 'Rotatif'},\n",
      " {'_id': ObjectId('56eaaa039fae0d71f7589f71'),\n",
      "  'date horodateur': datetime.datetime(2014, 7, 15, 12, 32, 34),\n",
      "  'durée payée (h)': 1.0,\n",
      "  'début stationnement': datetime.datetime(2014, 7, 15, 12, 32, 34),\n",
      "  'fin stationnement': datetime.datetime(2014, 7, 15, 13, 32, 34),\n",
      "  'horodateur': 57080603,\n",
      "  'mobilier': [{'_id': ObjectId('56eaa4552d7eb34e4432e0fb'),\n",
      "                'datasetid': 'horodateurs-mobiliers',\n",
      "                'fields': {'adresse': '48 vis-à-vis RUE DE LISBONNE',\n",
      "                           'alim': 'SOLAIRE',\n",
      "                           'arrondt': 8,\n",
      "                           'geo_point_2d': [48.877489999731374,\n",
      "                                            2.311394999713242],\n",
      "                           'geo_shape': {'coordinates': [2.311394999713242,\n",
      "                                                         48.877489999731374],\n",
      "                                         'type': 'Point'},\n",
      "                           'modele': 'SAB3',\n",
      "                           'numhoro': 57080603,\n",
      "                           'objectid': 4383,\n",
      "                           'regime': 'MIX',\n",
      "                           'tarif': '4,00 E MIX 2U',\n",
      "                           'tarifhor': 4.0,\n",
      "                           'zoneres': '8J'},\n",
      "                'geometry': {'coordinates': [2.311394999713242,\n",
      "                                             48.877489999731374],\n",
      "                             'type': 'Point'},\n",
      "                'record_timestamp': '2015-12-02T17:49:46+00:00',\n",
      "                'recordid': '698c75a21ba4f4c34e72f32ea1ecd94f9de8b88c'}],\n",
      "  'montant carte': 2.4,\n",
      "  'moyen de paiement': 'CB',\n",
      "  'usager': 'Rotatif'}]\n"
     ]
    }
   ],
   "source": [
    "res = horo.transactions_small.aggregate([\n",
    "    { \"$match\": { \"horodateur\": 57080603}},\n",
    "    { \"$lookup\": {\n",
    "        \"from\": \"mobiliers\",\n",
    "        \"localField\": \"horodateur\",\n",
    "        \"foreignField\": \"fields.numhoro\",\n",
    "        \"as\": \"mobilier\"\n",
    "    }},\n",
    "    { \"$limit\": 5}\n",
    "])\n",
    "liste = list(res)\n",
    "pprint(liste)"
   ]
  },
  {
   "cell_type": "markdown",
   "metadata": {
    "deletable": true,
    "editable": true
   },
   "source": [
    "### A faire\n",
    "\n",
    "1. Calculer le nombre de transactions par arrondissement\n",
    "1. Calculer la répartition du type d'alimentation par arrondissement"
   ]
  },
  {
   "cell_type": "code",
   "execution_count": null,
   "metadata": {
    "collapsed": true,
    "deletable": true,
    "editable": true
   },
   "outputs": [],
   "source": []
  }
 ],
 "metadata": {
  "kernelspec": {
   "display_name": "Python 3",
   "language": "python",
   "name": "python3"
  },
  "language_info": {
   "codemirror_mode": {
    "name": "ipython",
    "version": 3
   },
   "file_extension": ".py",
   "mimetype": "text/x-python",
   "name": "python",
   "nbconvert_exporter": "python",
   "pygments_lexer": "ipython3",
   "version": "3.6.0"
  }
 },
 "nbformat": 4,
 "nbformat_minor": 2
}
