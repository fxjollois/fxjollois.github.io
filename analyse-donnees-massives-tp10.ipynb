{
 "cells": [
  {
   "cell_type": "markdown",
   "metadata": {
    "deletable": true,
    "editable": true
   },
   "source": [
    "# Sujet du projet\n",
    "\n",
    "#### Analyse de Données Massives - Master 1ère année\n",
    "\n",
    "L'évaluation finale de ce cours est sous la forme d'un mini-projet, dont voici les contraintes :\n",
    "\n",
    "- Travail seul ou en binôme\n",
    "- Rendu par mail à l'adresse `francois-xavier.jollois@parisdescartes.fr`\n",
    "- Fichier zip contenant :\n",
    "    - le *notebook* (fichier avec extension `.ipynb`)\n",
    "    - le fichier `geojson`\n",
    "    - le fichier `html` produit (obtenable en cliquant sur *File* -> *Download as* -> *HTML*\n",
    "    - tout autre fichier que vous trouverez nécessaire\n",
    "- **Date limite** : **15 mai à 8h00** (du matin)\n",
    "\n",
    "Vous devez utiliser tous les outils vus dans ce cours pour explorer ces données et proposer une analyse des données `horodateurs`, en choississant l'angle d'analyse. Voici quelques pistes :\n",
    "\n",
    "- Nombres de transactions par arrondissement\n",
    "- Montant total ou moyen par arrondissement\n",
    "- Cartes multiples de type [*small mutiples*](http://www.juiceanalytics.com/writing/better-know-visualization-small-multiples)\n",
    "    - répartition des différents types de mobilier\n",
    "    - idem pour les types d'alimentation\n",
    "- Evolution du montant total des transactions au cours de l'année\n",
    "    - globalement\n",
    "    - par mobilier\n",
    "    - par arrondissement\n",
    "- Regroupement des mobiliers dans des classes\n",
    "- ..."
   ]
  }
 ],
 "metadata": {
  "kernelspec": {
   "display_name": "Python 3",
   "language": "python",
   "name": "python3"
  },
  "language_info": {
   "codemirror_mode": {
    "name": "ipython",
    "version": 3
   },
   "file_extension": ".py",
   "mimetype": "text/x-python",
   "name": "python",
   "nbconvert_exporter": "python",
   "pygments_lexer": "ipython3",
   "version": "3.6.0"
  }
 },
 "nbformat": 4,
 "nbformat_minor": 2
}
