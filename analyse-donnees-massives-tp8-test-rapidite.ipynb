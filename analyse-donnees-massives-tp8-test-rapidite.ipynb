{
 "cells": [
  {
   "cell_type": "markdown",
   "metadata": {
    "deletable": true,
    "editable": true
   },
   "source": [
    "# TP8 - Données du projet - *correction*\n",
    "\n",
    "#### Analyse de Données Massives - Master 1ère année\n"
   ]
  },
  {
   "cell_type": "code",
   "execution_count": 6,
   "metadata": {
    "collapsed": true,
    "deletable": true,
    "editable": true
   },
   "outputs": [],
   "source": [
    "import pymongo\n",
    "import pandas\n",
    "from pprint import pprint\n",
    "import seaborn\n",
    "%matplotlib inline"
   ]
  },
  {
   "cell_type": "code",
   "execution_count": 7,
   "metadata": {
    "collapsed": false,
    "deletable": true,
    "editable": true
   },
   "outputs": [],
   "source": [
    "con = pymongo.MongoClient(\"mongodb://193.51.82.104:2343/\")\n",
    "horo = con.horodateurs"
   ]
  },
  {
   "cell_type": "markdown",
   "metadata": {
    "deletable": true,
    "editable": true
   },
   "source": [
    "## Jointures\n",
    "\n",
    "### 1. Calculer le nombre de transactions par arrondissement"
   ]
  },
  {
   "cell_type": "code",
   "execution_count": 9,
   "metadata": {
    "collapsed": false
   },
   "outputs": [
    {
     "name": "stdout",
     "output_type": "stream",
     "text": [
      "2.005208969116211\n"
     ]
    }
   ],
   "source": [
    "import time\n",
    "debut = time.time()\n",
    "time.sleep(2)\n",
    "fin = time.time()\n",
    "print(fin - debut)"
   ]
  },
  {
   "cell_type": "code",
   "execution_count": 11,
   "metadata": {
    "collapsed": false,
    "deletable": true,
    "editable": true
   },
   "outputs": [
    {
     "name": "stdout",
     "output_type": "stream",
     "text": [
      "46.50318098068237\n"
     ]
    }
   ],
   "source": [
    "debut = time.time()\n",
    "res = horo.mobiliers.aggregate([\n",
    "    { \"$limit\" : 100 },\n",
    "    { \"$lookup\": {\n",
    "        \"from\": \"transactions_small\",\n",
    "        \"localField\": \"fields.numhoro\",\n",
    "        \"foreignField\": \"horodateur\",\n",
    "        \"as\": \"transactions\"\n",
    "    }},\n",
    "    { \"$project\" : { \"Arrondissement\" : \"$fields.arrondt\", \"Nb\" : { \"$size\" : \"$transactions\" }, \"_id\" : 0}},\n",
    "    { \"$group\" : { \"_id\" : \"$Arrondissement\", \"nb\" : { \"$sum\" : \"$Nb\" }}}\n",
    "])\n",
    "fin = time.time()\n",
    "print(fin - debut)"
   ]
  },
  {
   "cell_type": "code",
   "execution_count": 12,
   "metadata": {
    "collapsed": false,
    "deletable": true,
    "editable": true
   },
   "outputs": [
    {
     "name": "stdout",
     "output_type": "stream",
     "text": [
      "46.76261901855469\n"
     ]
    }
   ],
   "source": [
    "debut = time.time()\n",
    "res = horo.mobiliers.aggregate([\n",
    "    { \"$limit\" : 100 },\n",
    "    { \"$lookup\": {\n",
    "        \"from\": \"transactions_small\",\n",
    "        \"localField\": \"fields.numhoro\",\n",
    "        \"foreignField\": \"horodateur\",\n",
    "        \"as\": \"transactions\"\n",
    "    }},\n",
    "    { \"$unwind\" : \"$transactions\" },\n",
    "    { \"$group\" : { \"_id\" : \"$fields.arrondt\", \"nb\" : { \"$sum\" : 1 }}}\n",
    "])\n",
    "fin = time.time()\n",
    "print(fin - debut)"
   ]
  }
 ],
 "metadata": {
  "kernelspec": {
   "display_name": "Python 3",
   "language": "python",
   "name": "python3"
  },
  "language_info": {
   "codemirror_mode": {
    "name": "ipython",
    "version": 3
   },
   "file_extension": ".py",
   "mimetype": "text/x-python",
   "name": "python",
   "nbconvert_exporter": "python",
   "pygments_lexer": "ipython3",
   "version": "3.6.0"
  }
 },
 "nbformat": 4,
 "nbformat_minor": 2
}
