{
 "cells": [
  {
   "cell_type": "markdown",
   "metadata": {
    "deletable": true,
    "editable": true
   },
   "source": [
    "# TP7 - Connexion à MongoDB sous `Python`\n",
    "\n",
    "#### Analyse de Données Massives - Master 1ère année\n",
    "\n",
    "On utilise dans ce *notebook* les modules `pymongo`, `pandas` et `pprint`."
   ]
  },
  {
   "cell_type": "code",
   "execution_count": null,
   "metadata": {
    "collapsed": true
   },
   "outputs": [],
   "source": [
    "import pymongo\n",
    "import pandas\n",
    "import pprint"
   ]
  },
  {
   "cell_type": "markdown",
   "metadata": {},
   "source": [
    "On créé ensuite la connexion vers *MongoDB*. Et on vérifie que la base `test` contient bien la collection `restaurants`."
   ]
  },
  {
   "cell_type": "code",
   "execution_count": 46,
   "metadata": {
    "collapsed": false
   },
   "outputs": [
    {
     "data": {
      "text/plain": [
       "['restaurants']"
      ]
     },
     "execution_count": 46,
     "metadata": {},
     "output_type": "execute_result"
    }
   ],
   "source": [
    "con = pymongo.MongoClient(\"mongodb://193.51.82.104:2343/\")\n",
    "con.test.collection_names()"
   ]
  },
  {
   "cell_type": "markdown",
   "metadata": {},
   "source": [
    "On va aussi utiliser ici la fonction `affiche()` créée dans le TP pour améliorer la lisibilité de l'affichage des résultats."
   ]
  },
  {
   "cell_type": "code",
   "execution_count": 1,
   "metadata": {
    "collapsed": true,
    "deletable": true,
    "editable": true
   },
   "outputs": [],
   "source": [
    "def affiche(res):\n",
    "    for r in res:\n",
    "        pprint.pprint(r)"
   ]
  },
  {
   "cell_type": "markdown",
   "metadata": {
    "deletable": true,
    "editable": true
   },
   "source": [
    "## Exercices\n",
    "\n",
    "Nous allons utiliser la base de données `test`, dans laquelle se trouve la collection `restaurants`. Celle-ci est composée de plus de 25000 retaurants new-yorkais, avec des évaluations de ceux-ci.\n",
    "\n",
    "### 1. Créer une connexion vers cette collection\n",
    "\n",
    "On put simplfier l'écriture des requêtes à suivre en faisant la connexion directement avec la collection `restaurants`."
   ]
  },
  {
   "cell_type": "code",
   "execution_count": 2,
   "metadata": {
    "collapsed": true,
    "deletable": true,
    "editable": true
   },
   "outputs": [],
   "source": [
    "db = con.test.restaurants"
   ]
  },
  {
   "cell_type": "markdown",
   "metadata": {
    "deletable": true,
    "editable": true
   },
   "source": [
    "### 2. Déterminer le nombre exact de restaurants.\n",
    "\n",
    "Un simple dénombrement est à faire ici."
   ]
  },
  {
   "cell_type": "code",
   "execution_count": 3,
   "metadata": {
    "collapsed": false,
    "deletable": true,
    "editable": true
   },
   "outputs": [
    {
     "data": {
      "text/plain": [
       "25359"
      ]
     },
     "execution_count": 3,
     "metadata": {},
     "output_type": "execute_result"
    }
   ],
   "source": [
    "db.count()"
   ]
  },
  {
   "cell_type": "markdown",
   "metadata": {
    "deletable": true,
    "editable": true
   },
   "source": [
    "### 3. Lister les différents quartiers représentés (*borough*) ainsi que les différents types de  cuisine (*cuisine*).\n",
    "\n",
    "On utilse la fonction `distinct()` ici pour lister les différentes valeurs de `borough`. On remarque que pour certains restaurants le quartier n'est pas connu."
   ]
  },
  {
   "cell_type": "code",
   "execution_count": 4,
   "metadata": {
    "collapsed": false,
    "deletable": true,
    "editable": true
   },
   "outputs": [
    {
     "data": {
      "text/plain": [
       "['Bronx', 'Brooklyn', 'Manhattan', 'Queens', 'Staten Island', 'Missing']"
      ]
     },
     "execution_count": 4,
     "metadata": {},
     "output_type": "execute_result"
    }
   ],
   "source": [
    "db.distinct(\"borough\")"
   ]
  },
  {
   "cell_type": "markdown",
   "metadata": {},
   "source": [
    "Idem pour lister les (nombreux) différents types de cuisine. On stocke le résultat dans une variable pour dénombrer les styles (`85`). Et nous n'affichons que les 10 premiers pour exemple."
   ]
  },
  {
   "cell_type": "code",
   "execution_count": 49,
   "metadata": {
    "collapsed": false,
    "deletable": true,
    "editable": true
   },
   "outputs": [
    {
     "data": {
      "text/plain": [
       "85"
      ]
     },
     "execution_count": 49,
     "metadata": {},
     "output_type": "execute_result"
    }
   ],
   "source": [
    "type_cuisine = db.distinct(\"cuisine\")\n",
    "len(type_cuisine)"
   ]
  },
  {
   "cell_type": "code",
   "execution_count": 50,
   "metadata": {
    "collapsed": false
   },
   "outputs": [
    {
     "data": {
      "text/plain": [
       "['Bakery',\n",
       " 'Hamburgers',\n",
       " 'Irish',\n",
       " 'American',\n",
       " 'Jewish/Kosher',\n",
       " 'Delicatessen',\n",
       " 'Ice Cream, Gelato, Yogurt, Ices',\n",
       " 'Chinese',\n",
       " 'Chicken',\n",
       " 'Turkish']"
      ]
     },
     "execution_count": 50,
     "metadata": {},
     "output_type": "execute_result"
    }
   ],
   "source": [
    "type_cuisine[:10]"
   ]
  },
  {
   "cell_type": "markdown",
   "metadata": {
    "deletable": true,
    "editable": true
   },
   "source": [
    "### 4. Lister les noms des restaurants, ainsi que leur quartier, ne proposant que des soupes (*cuisine* égale à *Soups*).\n",
    "\n",
    "C'est la fonction `find()` qui nous permet de récupérer ces informations (4 restaurants)."
   ]
  },
  {
   "cell_type": "code",
   "execution_count": 6,
   "metadata": {
    "collapsed": false,
    "deletable": true,
    "editable": true
   },
   "outputs": [
    {
     "name": "stdout",
     "output_type": "stream",
     "text": [
      "{'borough': 'Manhattan', 'name': 'Wichcraft Express'}\n",
      "{'borough': 'Staten Island', 'name': 'Original Soupman Of Staten Island'}\n",
      "{'borough': 'Manhattan', 'name': 'The Original Soupman'}\n",
      "{'borough': 'Manhattan', 'name': 'Peasant Stock'}\n"
     ]
    }
   ],
   "source": [
    "res = db.find({ \"cuisine\": \"Soups\" }, { \"_id\": 0, \"name\": 1, \"borough\": 1})\n",
    "affiche(res)"
   ]
  },
  {
   "cell_type": "markdown",
   "metadata": {
    "deletable": true,
    "editable": true
   },
   "source": [
    "### 5. Donner le nombre de restaurants ayant eu au moins une fois le *grade* (dans *grades*) `Z`.\n",
    "\n",
    "Pour cela, nous pouvons déjà nous retreindre aux restaurants ayant eu le *grade* `Z`, puis nous comptons la taille du résultat avec `count()`."
   ]
  },
  {
   "cell_type": "code",
   "execution_count": 7,
   "metadata": {
    "collapsed": false,
    "deletable": true,
    "editable": true
   },
   "outputs": [
    {
     "data": {
      "text/plain": [
       "1337"
      ]
     },
     "execution_count": 7,
     "metadata": {},
     "output_type": "execute_result"
    }
   ],
   "source": [
    "db.find({ \"grades.grade\": \"Z\"}).count()"
   ]
  },
  {
   "cell_type": "markdown",
   "metadata": {
    "deletable": true,
    "editable": true
   },
   "source": [
    "### 6. Calculer le nombre de restaurants pour chaque quartier\n",
    "\n",
    "Ici, un aggrégat basique est à faire, avec `aggregate()`. La plupart sont dans *Manhattan*, mais on remarque aussi qu'on a 51 restaurants sans quartier connu."
   ]
  },
  {
   "cell_type": "code",
   "execution_count": 8,
   "metadata": {
    "collapsed": false,
    "deletable": true,
    "editable": true
   },
   "outputs": [
    {
     "name": "stdout",
     "output_type": "stream",
     "text": [
      "{'_id': 'Missing', 'nb': 51}\n",
      "{'_id': 'Staten Island', 'nb': 969}\n",
      "{'_id': 'Brooklyn', 'nb': 6086}\n",
      "{'_id': 'Bronx', 'nb': 2338}\n",
      "{'_id': 'Queens', 'nb': 5656}\n",
      "{'_id': 'Manhattan', 'nb': 10259}\n"
     ]
    }
   ],
   "source": [
    "res = db.aggregate([ { \"$group\": { \"_id\": \"$borough\", \"nb\": { \"$sum\": 1 } } } ])\n",
    "affiche(res)"
   ]
  },
  {
   "cell_type": "markdown",
   "metadata": {
    "deletable": true,
    "editable": true
   },
   "source": [
    "### 7. Donner les cinq types de cuisine les plus présentes dans New-York (avec le plus de restaurants donc)\n",
    "\n",
    "En plus d'un calcul d'aggrégat avec `$group`, on tri le résultat par ordre décroissant sur le nombre et on se limite aux 5 premières valeurs avec `$limit`."
   ]
  },
  {
   "cell_type": "code",
   "execution_count": 51,
   "metadata": {
    "collapsed": false,
    "deletable": true,
    "editable": true
   },
   "outputs": [
    {
     "name": "stdout",
     "output_type": "stream",
     "text": [
      "{'_id': 'American', 'nb': 6183}\n",
      "{'_id': 'Chinese', 'nb': 2418}\n",
      "{'_id': 'Café/Coffee/Tea', 'nb': 1214}\n",
      "{'_id': 'Pizza', 'nb': 1163}\n",
      "{'_id': 'Italian', 'nb': 1069}\n"
     ]
    }
   ],
   "source": [
    "res = db.aggregate([ \n",
    "    { \"$group\": { \"_id\": \"$cuisine\" , \"nb\" : { \"$sum\" : 1 } } },\n",
    "    { \"$sort\" : { \"nb\": -1 } },\n",
    "    { \"$limit\" : 5 }\n",
    "])\n",
    "affiche(res)"
   ]
  },
  {
   "cell_type": "markdown",
   "metadata": {
    "deletable": true,
    "editable": true
   },
   "source": [
    "### 8. Pour chaque *grade* possible, donner le *score* moyen, minimum et maximum.\n",
    "\n",
    "Il faut d'abord dégrouper les évaluations pour chaque restaurant grâce à `$unwind`. Ensuite, c'est un calcul assez simple à réaliser."
   ]
  },
  {
   "cell_type": "code",
   "execution_count": 10,
   "metadata": {
    "collapsed": false,
    "deletable": true,
    "editable": true
   },
   "outputs": [
    {
     "name": "stdout",
     "output_type": "stream",
     "text": [
      "{'_id': 'P', 'max': 43, 'min': 0, 'moy': 5.506265664160401, 'nb': 1197}\n",
      "{'_id': 'A', 'max': 27, 'min': 0, 'moy': 9.021954029147022, 'nb': 74656}\n",
      "{'_id': 'Not Yet Graded', 'max': 75, 'min': 0, 'moy': 15.853515625, 'nb': 525}\n",
      "{'_id': 'B', 'max': 57, 'min': -1, 'moy': 20.002459731809886, 'nb': 12603}\n",
      "{'_id': 'Z', 'max': 71, 'min': -1, 'moy': 23.702318623784592, 'nb': 1337}\n",
      "{'_id': 'C', 'max': 131, 'min': -1, 'moy': 30.70079491255962, 'nb': 3145}\n"
     ]
    }
   ],
   "source": [
    "res = db.aggregate([\n",
    "    { \"$unwind\" : \"$grades\"},\n",
    "    { \"$group\" : { \n",
    "        \"_id\": \"$grades.grade\", \n",
    "        \"nb\" : { \"$sum\" : 1 },\n",
    "        \"moy\" : { \"$avg\" : \"$grades.score\" },\n",
    "        \"min\" : { \"$min\" : \"$grades.score\" },\n",
    "        \"max\" : { \"$max\" : \"$grades.score\" }\n",
    "    } }\n",
    "])\n",
    "affiche(res)"
   ]
  },
  {
   "cell_type": "code",
   "execution_count": 55,
   "metadata": {
    "collapsed": false,
    "deletable": true,
    "editable": true
   },
   "outputs": [
    {
     "name": "stdout",
     "output_type": "stream",
     "text": [
      "{'_id': 'P', 'moyr': 'Math.round(\"$moy\")'}\n",
      "{'_id': 'A', 'moyr': 'Math.round(\"$moy\")'}\n",
      "{'_id': 'Not Yet Graded', 'moyr': 'Math.round(\"$moy\")'}\n",
      "{'_id': 'B', 'moyr': 'Math.round(\"$moy\")'}\n",
      "{'_id': 'Z', 'moyr': 'Math.round(\"$moy\")'}\n",
      "{'_id': 'C', 'moyr': 'Math.round(\"$moy\")'}\n"
     ]
    }
   ],
   "source": [
    "res = db.aggregate([\n",
    "    { \"$unwind\" : \"$grades\"},\n",
    "    { \"$group\" : { \n",
    "        \"_id\": \"$grades.grade\", \n",
    "        \"nb\" : { \"$sum\" : 1 },\n",
    "        \"moy\" : { \"$avg\" : \"$grades.score\" },\n",
    "        \"min\" : { \"$min\" : \"$grades.score\" },\n",
    "        \"max\" : { \"$max\" : \"$grades.score\" }\n",
    "    } },\n",
    "    { \"$project\" : {\n",
    "        \"moyr\" : 'Math.round(\"$moy\")'\n",
    "    }}\n",
    "])\n",
    "affiche(res)"
   ]
  },
  {
   "cell_type": "markdown",
   "metadata": {
    "deletable": true,
    "editable": true
   },
   "source": [
    "### 9. Créer un `DataFrame` contenant les restaurants en ligne et en colonne le score moyen obtenu pour chaque *grade* possible. Si un restaurant n'a pas eu d'évaluation d'un *grade*, nous aurons une valeur absente.\n",
    "\n",
    "Si nous regardons le nombre de restaurants par nom de ceux-ci, nous remarquons qu'il y a des restaurants avec le même nom (des chaînes comme *Starbucks* ou *Subway* par exemple)."
   ]
  },
  {
   "cell_type": "code",
   "execution_count": 11,
   "metadata": {
    "collapsed": false,
    "deletable": true,
    "editable": true
   },
   "outputs": [
    {
     "name": "stdout",
     "output_type": "stream",
     "text": [
      "{'_id': 'Subway', 'nb': 421}\n",
      "{'_id': 'Starbucks Coffee', 'nb': 223}\n",
      "{'_id': \"Mcdonald'S\", 'nb': 208}\n",
      "{'_id': \"Dunkin' Donuts\", 'nb': 206}\n",
      "{'_id': 'Dunkin Donuts', 'nb': 200}\n",
      "{'_id': '', 'nb': 151}\n",
      "{'_id': 'Kennedy Fried Chicken', 'nb': 88}\n",
      "{'_id': 'Crown Fried Chicken', 'nb': 81}\n",
      "{'_id': 'Burger King', 'nb': 80}\n",
      "{'_id': \"Domino'S Pizza\", 'nb': 67}\n"
     ]
    }
   ],
   "source": [
    "res = db.aggregate([\n",
    "    { \"$group\": { \"_id\": \"$name\", \"nb\": { \"$sum\": 1 } } },\n",
    "    { \"$sort\": { \"nb\": -1 } },\n",
    "    { \"$limit\": 10 }\n",
    "])\n",
    "affiche(res)"
   ]
  },
  {
   "cell_type": "markdown",
   "metadata": {},
   "source": [
    "Nous allons donc faire un regroupement par identifiant de restaurant (`restaurant_id`) et par `grade`, pour calculer le score moyen. Nous voyons ici les premiers résultats de l'aggrégation."
   ]
  },
  {
   "cell_type": "code",
   "execution_count": 52,
   "metadata": {
    "collapsed": false,
    "deletable": true,
    "editable": true
   },
   "outputs": [
    {
     "data": {
      "text/plain": [
       "[{'_id': {'grade': 'Not Yet Graded', 'restaurant_id': '50018661'}, 'moy': 2.0},\n",
       " {'_id': {'grade': 'Not Yet Graded', 'restaurant_id': '50018622'},\n",
       "  'moy': 19.0},\n",
       " {'_id': {'grade': 'A', 'restaurant_id': '50018608'}, 'moy': 12.0},\n",
       " {'_id': {'grade': 'Not Yet Graded', 'restaurant_id': '50018587'}, 'moy': 2.0},\n",
       " {'_id': {'grade': 'Not Yet Graded', 'restaurant_id': '50018565'}, 'moy': 0.0},\n",
       " {'_id': {'grade': 'Not Yet Graded', 'restaurant_id': '50018547'},\n",
       "  'moy': 29.0},\n",
       " {'_id': {'grade': 'Not Yet Graded', 'restaurant_id': '50018535'},\n",
       "  'moy': 47.0},\n",
       " {'_id': {'grade': 'Not Yet Graded', 'restaurant_id': '50018514'}, 'moy': 9.0},\n",
       " {'_id': {'grade': 'Not Yet Graded', 'restaurant_id': '50018480'},\n",
       "  'moy': 43.0},\n",
       " {'_id': {'grade': 'Not Yet Graded', 'restaurant_id': '50018450'}, 'moy': 0.0}]"
      ]
     },
     "execution_count": 52,
     "metadata": {},
     "output_type": "execute_result"
    }
   ],
   "source": [
    "res = db.aggregate([\n",
    "    { \"$unwind\" : \"$grades\"},\n",
    "    { \"$group\" : { \n",
    "        \"_id\": { \"restaurant_id\": \"$restaurant_id\", \"grade\": \"$grades.grade\" }, \n",
    "        \"moy\" : { \"$avg\" : \"$grades.score\" }\n",
    "    } }\n",
    "])\n",
    "l = list(res)\n",
    "l[:10]"
   ]
  },
  {
   "cell_type": "markdown",
   "metadata": {},
   "source": [
    "Ensuite, on créé un `DataFrame` *à la main*, en récupérant la liste des identifiants, la liste des grades et la liste des scores moyens. Ce qui nous donne à la fin le `DataFrame` suivant."
   ]
  },
  {
   "cell_type": "code",
   "execution_count": 32,
   "metadata": {
    "collapsed": false,
    "deletable": true,
    "editable": true
   },
   "outputs": [
    {
     "data": {
      "text/html": [
       "<div>\n",
       "<table border=\"1\" class=\"dataframe\">\n",
       "  <thead>\n",
       "    <tr style=\"text-align: right;\">\n",
       "      <th></th>\n",
       "      <th>grade</th>\n",
       "      <th>restaurant_id</th>\n",
       "      <th>score</th>\n",
       "    </tr>\n",
       "  </thead>\n",
       "  <tbody>\n",
       "    <tr>\n",
       "      <th>0</th>\n",
       "      <td>Not Yet Graded</td>\n",
       "      <td>50018661</td>\n",
       "      <td>2.0</td>\n",
       "    </tr>\n",
       "    <tr>\n",
       "      <th>1</th>\n",
       "      <td>Not Yet Graded</td>\n",
       "      <td>50018622</td>\n",
       "      <td>19.0</td>\n",
       "    </tr>\n",
       "    <tr>\n",
       "      <th>2</th>\n",
       "      <td>A</td>\n",
       "      <td>50018608</td>\n",
       "      <td>12.0</td>\n",
       "    </tr>\n",
       "    <tr>\n",
       "      <th>3</th>\n",
       "      <td>Not Yet Graded</td>\n",
       "      <td>50018587</td>\n",
       "      <td>2.0</td>\n",
       "    </tr>\n",
       "    <tr>\n",
       "      <th>4</th>\n",
       "      <td>Not Yet Graded</td>\n",
       "      <td>50018565</td>\n",
       "      <td>0.0</td>\n",
       "    </tr>\n",
       "  </tbody>\n",
       "</table>\n",
       "</div>"
      ],
      "text/plain": [
       "            grade restaurant_id  score\n",
       "0  Not Yet Graded      50018661    2.0\n",
       "1  Not Yet Graded      50018622   19.0\n",
       "2               A      50018608   12.0\n",
       "3  Not Yet Graded      50018587    2.0\n",
       "4  Not Yet Graded      50018565    0.0"
      ]
     },
     "execution_count": 32,
     "metadata": {},
     "output_type": "execute_result"
    }
   ],
   "source": [
    "df = pandas.DataFrame({\n",
    "    \"restaurant_id\"  : [r[\"_id\"][\"restaurant_id\"] for r in l],\n",
    "    \"grade\": [r[\"_id\"][\"grade\"] for r in l],\n",
    "    \"score\": [r[\"moy\"] for r in l]\n",
    "})\n",
    "df.head()"
   ]
  },
  {
   "cell_type": "markdown",
   "metadata": {},
   "source": [
    "Il faut maintenant transformer ce `DataFrame` en faisant l'*inverse* de la fonction `melt()`. Pour cela, nous disposons de la fonction `pivot()` à partir du `DataFrame`. Cette fonction prend trois paramètre :\n",
    "\n",
    "- `index` : identifiant de chaque ligne (ici, l'identifiant des restaurants)\n",
    "- `columns` : noms des colonnes (ici, chaque grade) \n",
    "- `value` : valeurs des cellules (ici, score moyen pour un restaurant pour un grade)"
   ]
  },
  {
   "cell_type": "code",
   "execution_count": 33,
   "metadata": {
    "collapsed": false,
    "deletable": true,
    "editable": true
   },
   "outputs": [
    {
     "data": {
      "text/html": [
       "<div>\n",
       "<table border=\"1\" class=\"dataframe\">\n",
       "  <thead>\n",
       "    <tr style=\"text-align: right;\">\n",
       "      <th>grade</th>\n",
       "      <th>A</th>\n",
       "      <th>B</th>\n",
       "      <th>C</th>\n",
       "      <th>Not Yet Graded</th>\n",
       "      <th>P</th>\n",
       "      <th>Z</th>\n",
       "    </tr>\n",
       "    <tr>\n",
       "      <th>restaurant_id</th>\n",
       "      <th></th>\n",
       "      <th></th>\n",
       "      <th></th>\n",
       "      <th></th>\n",
       "      <th></th>\n",
       "      <th></th>\n",
       "    </tr>\n",
       "  </thead>\n",
       "  <tbody>\n",
       "    <tr>\n",
       "      <th>30075445</th>\n",
       "      <td>6.750000</td>\n",
       "      <td>14.0</td>\n",
       "      <td>NaN</td>\n",
       "      <td>NaN</td>\n",
       "      <td>NaN</td>\n",
       "      <td>NaN</td>\n",
       "    </tr>\n",
       "    <tr>\n",
       "      <th>30112340</th>\n",
       "      <td>10.666667</td>\n",
       "      <td>23.0</td>\n",
       "      <td>NaN</td>\n",
       "      <td>NaN</td>\n",
       "      <td>NaN</td>\n",
       "      <td>NaN</td>\n",
       "    </tr>\n",
       "    <tr>\n",
       "      <th>30191841</th>\n",
       "      <td>9.250000</td>\n",
       "      <td>NaN</td>\n",
       "      <td>NaN</td>\n",
       "      <td>NaN</td>\n",
       "      <td>NaN</td>\n",
       "      <td>NaN</td>\n",
       "    </tr>\n",
       "    <tr>\n",
       "      <th>40356018</th>\n",
       "      <td>9.000000</td>\n",
       "      <td>NaN</td>\n",
       "      <td>NaN</td>\n",
       "      <td>NaN</td>\n",
       "      <td>NaN</td>\n",
       "      <td>NaN</td>\n",
       "    </tr>\n",
       "    <tr>\n",
       "      <th>40356068</th>\n",
       "      <td>13.000000</td>\n",
       "      <td>25.0</td>\n",
       "      <td>NaN</td>\n",
       "      <td>NaN</td>\n",
       "      <td>NaN</td>\n",
       "      <td>20.0</td>\n",
       "    </tr>\n",
       "  </tbody>\n",
       "</table>\n",
       "</div>"
      ],
      "text/plain": [
       "grade                  A     B   C  Not Yet Graded   P     Z\n",
       "restaurant_id                                               \n",
       "30075445        6.750000  14.0 NaN             NaN NaN   NaN\n",
       "30112340       10.666667  23.0 NaN             NaN NaN   NaN\n",
       "30191841        9.250000   NaN NaN             NaN NaN   NaN\n",
       "40356018        9.000000   NaN NaN             NaN NaN   NaN\n",
       "40356068       13.000000  25.0 NaN             NaN NaN  20.0"
      ]
     },
     "execution_count": 33,
     "metadata": {},
     "output_type": "execute_result"
    }
   ],
   "source": [
    "dfbis = df.pivot(index = \"restaurant_id\", columns = \"grade\", values = \"score\")\n",
    "dfbis.head()"
   ]
  },
  {
   "cell_type": "markdown",
   "metadata": {},
   "source": [
    "Au final, nous regardons les informations de notre `DataFrame` ainsi créé. Nous remarquons que la plupart ont eu un grade `A`, et plusieurs n'ont pas encore été évalué."
   ]
  },
  {
   "cell_type": "code",
   "execution_count": 34,
   "metadata": {
    "collapsed": false,
    "deletable": true,
    "editable": true
   },
   "outputs": [
    {
     "data": {
      "text/plain": [
       "(24621, 6)"
      ]
     },
     "execution_count": 34,
     "metadata": {},
     "output_type": "execute_result"
    }
   ],
   "source": [
    "dfbis.shape"
   ]
  },
  {
   "cell_type": "code",
   "execution_count": 35,
   "metadata": {
    "collapsed": false,
    "deletable": true,
    "editable": true
   },
   "outputs": [
    {
     "data": {
      "text/plain": [
       "grade\n",
       "A                 23440\n",
       "B                  8280\n",
       "C                  2708\n",
       "Not Yet Graded      512\n",
       "P                  1154\n",
       "Z                  1337\n",
       "dtype: int64"
      ]
     },
     "execution_count": 35,
     "metadata": {},
     "output_type": "execute_result"
    }
   ],
   "source": [
    "dfbis.count()"
   ]
  },
  {
   "cell_type": "markdown",
   "metadata": {},
   "source": [
    "Nous récupérons ici les informations des restaurants (nom - `name` - et quartier - `borough`) pour les ajouter à notre table précédente. Ici, nous récupérons juste les informations que l'on souhaite."
   ]
  },
  {
   "cell_type": "code",
   "execution_count": 41,
   "metadata": {
    "collapsed": false,
    "deletable": true,
    "editable": true
   },
   "outputs": [
    {
     "data": {
      "text/html": [
       "<div>\n",
       "<table border=\"1\" class=\"dataframe\">\n",
       "  <thead>\n",
       "    <tr style=\"text-align: right;\">\n",
       "      <th></th>\n",
       "      <th>borough</th>\n",
       "      <th>name</th>\n",
       "      <th>restaurant_id</th>\n",
       "    </tr>\n",
       "  </thead>\n",
       "  <tbody>\n",
       "    <tr>\n",
       "      <th>0</th>\n",
       "      <td>Bronx</td>\n",
       "      <td>Morris Park Bake Shop</td>\n",
       "      <td>30075445</td>\n",
       "    </tr>\n",
       "    <tr>\n",
       "      <th>1</th>\n",
       "      <td>Brooklyn</td>\n",
       "      <td>Wendy'S</td>\n",
       "      <td>30112340</td>\n",
       "    </tr>\n",
       "    <tr>\n",
       "      <th>2</th>\n",
       "      <td>Manhattan</td>\n",
       "      <td>Dj Reynolds Pub And Restaurant</td>\n",
       "      <td>30191841</td>\n",
       "    </tr>\n",
       "    <tr>\n",
       "      <th>3</th>\n",
       "      <td>Brooklyn</td>\n",
       "      <td>Riviera Caterer</td>\n",
       "      <td>40356018</td>\n",
       "    </tr>\n",
       "    <tr>\n",
       "      <th>4</th>\n",
       "      <td>Queens</td>\n",
       "      <td>Tov Kosher Kitchen</td>\n",
       "      <td>40356068</td>\n",
       "    </tr>\n",
       "  </tbody>\n",
       "</table>\n",
       "</div>"
      ],
      "text/plain": [
       "     borough                            name restaurant_id\n",
       "0      Bronx           Morris Park Bake Shop      30075445\n",
       "1   Brooklyn                         Wendy'S      30112340\n",
       "2  Manhattan  Dj Reynolds Pub And Restaurant      30191841\n",
       "3   Brooklyn                 Riviera Caterer      40356018\n",
       "4     Queens              Tov Kosher Kitchen      40356068"
      ]
     },
     "execution_count": 41,
     "metadata": {},
     "output_type": "execute_result"
    }
   ],
   "source": [
    "infos = db.find({}, { \"_id\": 0, \"restaurant_id\": 1, \"name\": 1, \"borough\": 1 })\n",
    "infos_df = pandas.DataFrame(list(infos))\n",
    "infos_df.head()"
   ]
  },
  {
   "cell_type": "markdown",
   "metadata": {},
   "source": [
    "Pour réaliser une jointure, nous avons la fonction `join()` qui réalise une jointure sur les `index` des lignes par défaut. La fonction `set_index()` permet de définir cet `index` de lignes pour les informations des restaurants, avant de faire la jointure."
   ]
  },
  {
   "cell_type": "code",
   "execution_count": 43,
   "metadata": {
    "collapsed": false
   },
   "outputs": [
    {
     "data": {
      "text/html": [
       "<div>\n",
       "<table border=\"1\" class=\"dataframe\">\n",
       "  <thead>\n",
       "    <tr style=\"text-align: right;\">\n",
       "      <th></th>\n",
       "      <th>A</th>\n",
       "      <th>B</th>\n",
       "      <th>C</th>\n",
       "      <th>Not Yet Graded</th>\n",
       "      <th>P</th>\n",
       "      <th>Z</th>\n",
       "      <th>borough</th>\n",
       "      <th>name</th>\n",
       "    </tr>\n",
       "    <tr>\n",
       "      <th>restaurant_id</th>\n",
       "      <th></th>\n",
       "      <th></th>\n",
       "      <th></th>\n",
       "      <th></th>\n",
       "      <th></th>\n",
       "      <th></th>\n",
       "      <th></th>\n",
       "      <th></th>\n",
       "    </tr>\n",
       "  </thead>\n",
       "  <tbody>\n",
       "    <tr>\n",
       "      <th>30075445</th>\n",
       "      <td>6.750000</td>\n",
       "      <td>14.0</td>\n",
       "      <td>NaN</td>\n",
       "      <td>NaN</td>\n",
       "      <td>NaN</td>\n",
       "      <td>NaN</td>\n",
       "      <td>Bronx</td>\n",
       "      <td>Morris Park Bake Shop</td>\n",
       "    </tr>\n",
       "    <tr>\n",
       "      <th>30112340</th>\n",
       "      <td>10.666667</td>\n",
       "      <td>23.0</td>\n",
       "      <td>NaN</td>\n",
       "      <td>NaN</td>\n",
       "      <td>NaN</td>\n",
       "      <td>NaN</td>\n",
       "      <td>Brooklyn</td>\n",
       "      <td>Wendy'S</td>\n",
       "    </tr>\n",
       "    <tr>\n",
       "      <th>30191841</th>\n",
       "      <td>9.250000</td>\n",
       "      <td>NaN</td>\n",
       "      <td>NaN</td>\n",
       "      <td>NaN</td>\n",
       "      <td>NaN</td>\n",
       "      <td>NaN</td>\n",
       "      <td>Manhattan</td>\n",
       "      <td>Dj Reynolds Pub And Restaurant</td>\n",
       "    </tr>\n",
       "    <tr>\n",
       "      <th>40356018</th>\n",
       "      <td>9.000000</td>\n",
       "      <td>NaN</td>\n",
       "      <td>NaN</td>\n",
       "      <td>NaN</td>\n",
       "      <td>NaN</td>\n",
       "      <td>NaN</td>\n",
       "      <td>Brooklyn</td>\n",
       "      <td>Riviera Caterer</td>\n",
       "    </tr>\n",
       "    <tr>\n",
       "      <th>40356068</th>\n",
       "      <td>13.000000</td>\n",
       "      <td>25.0</td>\n",
       "      <td>NaN</td>\n",
       "      <td>NaN</td>\n",
       "      <td>NaN</td>\n",
       "      <td>20.0</td>\n",
       "      <td>Queens</td>\n",
       "      <td>Tov Kosher Kitchen</td>\n",
       "    </tr>\n",
       "  </tbody>\n",
       "</table>\n",
       "</div>"
      ],
      "text/plain": [
       "                       A     B   C  Not Yet Graded   P     Z    borough  \\\n",
       "restaurant_id                                                             \n",
       "30075445        6.750000  14.0 NaN             NaN NaN   NaN      Bronx   \n",
       "30112340       10.666667  23.0 NaN             NaN NaN   NaN   Brooklyn   \n",
       "30191841        9.250000   NaN NaN             NaN NaN   NaN  Manhattan   \n",
       "40356018        9.000000   NaN NaN             NaN NaN   NaN   Brooklyn   \n",
       "40356068       13.000000  25.0 NaN             NaN NaN  20.0     Queens   \n",
       "\n",
       "                                         name  \n",
       "restaurant_id                                  \n",
       "30075445                Morris Park Bake Shop  \n",
       "30112340                              Wendy'S  \n",
       "30191841       Dj Reynolds Pub And Restaurant  \n",
       "40356018                      Riviera Caterer  \n",
       "40356068                   Tov Kosher Kitchen  "
      ]
     },
     "execution_count": 43,
     "metadata": {},
     "output_type": "execute_result"
    }
   ],
   "source": [
    "final = dfbis.join(infos_df.set_index(\"restaurant_id\"))\n",
    "final.head()"
   ]
  },
  {
   "cell_type": "markdown",
   "metadata": {},
   "source": [
    "Avec un `DataFrame` ainsi créé, il est maintenant possible, par exemple, de calculer les scores moyens de chaque grade, pour chaque quartier (ici, dans `python`)."
   ]
  },
  {
   "cell_type": "code",
   "execution_count": 45,
   "metadata": {
    "collapsed": false
   },
   "outputs": [
    {
     "data": {
      "text/html": [
       "<div>\n",
       "<table border=\"1\" class=\"dataframe\">\n",
       "  <thead>\n",
       "    <tr style=\"text-align: right;\">\n",
       "      <th></th>\n",
       "      <th>A</th>\n",
       "      <th>B</th>\n",
       "      <th>C</th>\n",
       "      <th>Not Yet Graded</th>\n",
       "      <th>P</th>\n",
       "      <th>Z</th>\n",
       "    </tr>\n",
       "    <tr>\n",
       "      <th>borough</th>\n",
       "      <th></th>\n",
       "      <th></th>\n",
       "      <th></th>\n",
       "      <th></th>\n",
       "      <th></th>\n",
       "      <th></th>\n",
       "    </tr>\n",
       "  </thead>\n",
       "  <tbody>\n",
       "    <tr>\n",
       "      <th>Bronx</th>\n",
       "      <td>8.837432</td>\n",
       "      <td>19.789996</td>\n",
       "      <td>28.903614</td>\n",
       "      <td>14.046512</td>\n",
       "      <td>5.669065</td>\n",
       "      <td>22.376238</td>\n",
       "    </tr>\n",
       "    <tr>\n",
       "      <th>Brooklyn</th>\n",
       "      <td>8.941166</td>\n",
       "      <td>19.869812</td>\n",
       "      <td>28.732290</td>\n",
       "      <td>16.412587</td>\n",
       "      <td>5.353474</td>\n",
       "      <td>23.449123</td>\n",
       "    </tr>\n",
       "    <tr>\n",
       "      <th>Manhattan</th>\n",
       "      <td>8.935430</td>\n",
       "      <td>19.848022</td>\n",
       "      <td>31.182162</td>\n",
       "      <td>17.836478</td>\n",
       "      <td>5.680101</td>\n",
       "      <td>24.492228</td>\n",
       "    </tr>\n",
       "    <tr>\n",
       "      <th>Missing</th>\n",
       "      <td>8.410000</td>\n",
       "      <td>22.000000</td>\n",
       "      <td>43.500000</td>\n",
       "      <td>NaN</td>\n",
       "      <td>NaN</td>\n",
       "      <td>NaN</td>\n",
       "    </tr>\n",
       "    <tr>\n",
       "      <th>Queens</th>\n",
       "      <td>9.117012</td>\n",
       "      <td>19.879747</td>\n",
       "      <td>31.122008</td>\n",
       "      <td>14.223881</td>\n",
       "      <td>5.283582</td>\n",
       "      <td>23.509259</td>\n",
       "    </tr>\n",
       "    <tr>\n",
       "      <th>Staten Island</th>\n",
       "      <td>9.331491</td>\n",
       "      <td>19.365970</td>\n",
       "      <td>32.820000</td>\n",
       "      <td>12.848485</td>\n",
       "      <td>6.684211</td>\n",
       "      <td>19.770833</td>\n",
       "    </tr>\n",
       "  </tbody>\n",
       "</table>\n",
       "</div>"
      ],
      "text/plain": [
       "                      A          B          C  Not Yet Graded         P  \\\n",
       "borough                                                                   \n",
       "Bronx          8.837432  19.789996  28.903614       14.046512  5.669065   \n",
       "Brooklyn       8.941166  19.869812  28.732290       16.412587  5.353474   \n",
       "Manhattan      8.935430  19.848022  31.182162       17.836478  5.680101   \n",
       "Missing        8.410000  22.000000  43.500000             NaN       NaN   \n",
       "Queens         9.117012  19.879747  31.122008       14.223881  5.283582   \n",
       "Staten Island  9.331491  19.365970  32.820000       12.848485  6.684211   \n",
       "\n",
       "                       Z  \n",
       "borough                   \n",
       "Bronx          22.376238  \n",
       "Brooklyn       23.449123  \n",
       "Manhattan      24.492228  \n",
       "Missing              NaN  \n",
       "Queens         23.509259  \n",
       "Staten Island  19.770833  "
      ]
     },
     "execution_count": 45,
     "metadata": {},
     "output_type": "execute_result"
    }
   ],
   "source": [
    "final.groupby(\"borough\").mean()"
   ]
  }
 ],
 "metadata": {
  "kernelspec": {
   "display_name": "Python 3",
   "language": "python",
   "name": "python3"
  },
  "language_info": {
   "codemirror_mode": {
    "name": "ipython",
    "version": 3
   },
   "file_extension": ".py",
   "mimetype": "text/x-python",
   "name": "python",
   "nbconvert_exporter": "python",
   "pygments_lexer": "ipython3",
   "version": "3.6.0"
  }
 },
 "nbformat": 4,
 "nbformat_minor": 2
}
