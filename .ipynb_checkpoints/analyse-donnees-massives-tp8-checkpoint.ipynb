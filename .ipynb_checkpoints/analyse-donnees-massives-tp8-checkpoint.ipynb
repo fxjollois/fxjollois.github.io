{
 "cells": [
  {
   "cell_type": "code",
   "execution_count": 2,
   "metadata": {
    "collapsed": true,
    "deletable": true,
    "editable": true
   },
   "outputs": [],
   "source": [
    "import pymongo"
   ]
  },
  {
   "cell_type": "code",
   "execution_count": 3,
   "metadata": {
    "collapsed": false,
    "deletable": true,
    "editable": true
   },
   "outputs": [],
   "source": [
    "con = pymongo.MongoClient(\"mongodb://193.51.82.104:2343/\")"
   ]
  },
  {
   "cell_type": "code",
   "execution_count": 4,
   "metadata": {
    "collapsed": false,
    "deletable": true,
    "editable": true
   },
   "outputs": [
    {
     "data": {
      "text/plain": [
       "['admin', 'gym', 'horodateurs', 'local', 'test', 'vlsstat', 'world']"
      ]
     },
     "execution_count": 4,
     "metadata": {},
     "output_type": "execute_result"
    }
   ],
   "source": [
    "con.database_names()"
   ]
  },
  {
   "cell_type": "code",
   "execution_count": 5,
   "metadata": {
    "collapsed": true,
    "deletable": true,
    "editable": true
   },
   "outputs": [],
   "source": [
    "db = con.gym"
   ]
  },
  {
   "cell_type": "code",
   "execution_count": 6,
   "metadata": {
    "collapsed": false,
    "deletable": true,
    "editable": true
   },
   "outputs": [
    {
     "data": {
      "text/plain": [
       "['Sportifs', 'Gymnases']"
      ]
     },
     "execution_count": 6,
     "metadata": {},
     "output_type": "execute_result"
    }
   ],
   "source": [
    "db.collection_names()"
   ]
  },
  {
   "cell_type": "code",
   "execution_count": 7,
   "metadata": {
    "collapsed": false,
    "deletable": true,
    "editable": true
   },
   "outputs": [
    {
     "data": {
      "text/plain": [
       "150"
      ]
     },
     "execution_count": 7,
     "metadata": {},
     "output_type": "execute_result"
    }
   ],
   "source": [
    "db.Sportifs.count()"
   ]
  },
  {
   "cell_type": "code",
   "execution_count": 8,
   "metadata": {
    "collapsed": false,
    "deletable": true,
    "editable": true
   },
   "outputs": [
    {
     "data": {
      "text/plain": [
       "28"
      ]
     },
     "execution_count": 8,
     "metadata": {},
     "output_type": "execute_result"
    }
   ],
   "source": [
    "db.Gymnases.count()"
   ]
  },
  {
   "cell_type": "code",
   "execution_count": 9,
   "metadata": {
    "collapsed": false,
    "deletable": true,
    "editable": true
   },
   "outputs": [
    {
     "data": {
      "text/plain": [
       "{'Age': 30,\n",
       " 'IdSportif': 1,\n",
       " 'Nom': 'BOUTAHAR',\n",
       " 'Prenom': 'Abderahim',\n",
       " 'Sexe': 'm',\n",
       " 'Sports': {'Arbitrer': ['Basket ball', 'Volley ball', 'Hockey'],\n",
       "  'Entrainer': ['Basket ball',\n",
       "   'Volley ball',\n",
       "   'Hand ball',\n",
       "   'Hockey',\n",
       "   'Badmington'],\n",
       "  'Jouer': ['Volley ball', 'Tennis', 'Football']},\n",
       " '_id': '566eec5f662b388eba464203'}"
      ]
     },
     "execution_count": 9,
     "metadata": {},
     "output_type": "execute_result"
    }
   ],
   "source": [
    "db.Sportifs.find_one()"
   ]
  },
  {
   "cell_type": "code",
   "execution_count": 30,
   "metadata": {
    "collapsed": false,
    "deletable": true,
    "editable": true
   },
   "outputs": [
    {
     "data": {
      "text/plain": [
       "{'Adresse': '2 rue des pépines',\n",
       " 'IdGymnase': 1,\n",
       " 'NomGymnase': 'PAUL ELUARD',\n",
       " 'Seances': [{'Duree': 60,\n",
       "   'Horaire': 9.0,\n",
       "   'IdSportifEntraineur': 149,\n",
       "   'Jour': 'Samedi',\n",
       "   'Libelle': 'Basket ball'},\n",
       "  {'Duree': 60,\n",
       "   'Horaire': 9.0,\n",
       "   'IdSportifEntraineur': 1,\n",
       "   'Jour': 'Lundi',\n",
       "   'Libelle': 'Hand ball'},\n",
       "  {'Duree': 60,\n",
       "   'Horaire': 10.0,\n",
       "   'IdSportifEntraineur': 1,\n",
       "   'Jour': 'Lundi',\n",
       "   'Libelle': 'Hand ball'},\n",
       "  {'Duree': 60,\n",
       "   'Horaire': 11.3,\n",
       "   'IdSportifEntraineur': 1,\n",
       "   'Jour': 'Lundi',\n",
       "   'Libelle': 'Hand ball'},\n",
       "  {'Duree': 90,\n",
       "   'Horaire': 14.0,\n",
       "   'IdSportifEntraineur': 1,\n",
       "   'Jour': 'Lundi',\n",
       "   'Libelle': 'Hand ball'},\n",
       "  {'Duree': 120,\n",
       "   'Horaire': 17.3,\n",
       "   'IdSportifEntraineur': 1,\n",
       "   'Jour': 'lundi',\n",
       "   'Libelle': 'Hand ball'},\n",
       "  {'Duree': 120,\n",
       "   'Horaire': 19.3,\n",
       "   'IdSportifEntraineur': 1,\n",
       "   'Jour': 'Lundi',\n",
       "   'Libelle': 'Hand ball'},\n",
       "  {'Duree': 120,\n",
       "   'Horaire': 17.3,\n",
       "   'IdSportifEntraineur': 2,\n",
       "   'Jour': 'Dimanche',\n",
       "   'Libelle': 'Hand ball'},\n",
       "  {'Duree': 120,\n",
       "   'Horaire': 19.3,\n",
       "   'IdSportifEntraineur': 2,\n",
       "   'Jour': 'Dimanche',\n",
       "   'Libelle': 'Hand ball'},\n",
       "  {'Duree': 120,\n",
       "   'Horaire': 17.3,\n",
       "   'IdSportifEntraineur': 2,\n",
       "   'Jour': 'mardi',\n",
       "   'Libelle': 'Hand ball'},\n",
       "  {'Duree': 120,\n",
       "   'Horaire': 17.3,\n",
       "   'IdSportifEntraineur': 2,\n",
       "   'Jour': 'mercredi',\n",
       "   'Libelle': 'Hand ball'},\n",
       "  {'Duree': 60,\n",
       "   'Horaire': 15.3,\n",
       "   'IdSportifEntraineur': 2,\n",
       "   'Jour': 'Samedi',\n",
       "   'Libelle': 'Hand ball'},\n",
       "  {'Duree': 60,\n",
       "   'Horaire': 16.3,\n",
       "   'IdSportifEntraineur': 2,\n",
       "   'Jour': 'Samedi',\n",
       "   'Libelle': 'Hand ball'},\n",
       "  {'Duree': 120,\n",
       "   'Horaire': 17.3,\n",
       "   'IdSportifEntraineur': 2,\n",
       "   'Jour': 'Samedi',\n",
       "   'Libelle': 'Hand ball'},\n",
       "  {'Duree': 30,\n",
       "   'Horaire': 20.0,\n",
       "   'IdSportifEntraineur': 3,\n",
       "   'Jour': 'jeudi',\n",
       "   'Libelle': 'Hand ball'},\n",
       "  {'Duree': 60,\n",
       "   'Horaire': 14.0,\n",
       "   'IdSportifEntraineur': 3,\n",
       "   'Jour': 'lundi',\n",
       "   'Libelle': 'Hand ball'},\n",
       "  {'Duree': 30,\n",
       "   'Horaire': 18.0,\n",
       "   'IdSportifEntraineur': 3,\n",
       "   'Jour': 'lundi',\n",
       "   'Libelle': 'Hand ball'},\n",
       "  {'Duree': 30,\n",
       "   'Horaire': 19.0,\n",
       "   'IdSportifEntraineur': 3,\n",
       "   'Jour': 'lundi',\n",
       "   'Libelle': 'Hand ball'},\n",
       "  {'Duree': 30,\n",
       "   'Horaire': 20.0,\n",
       "   'IdSportifEntraineur': 3,\n",
       "   'Jour': 'lundi',\n",
       "   'Libelle': 'Hand ball'},\n",
       "  {'Duree': 90,\n",
       "   'Horaire': 17.0,\n",
       "   'IdSportifEntraineur': 7,\n",
       "   'Jour': 'mercredi',\n",
       "   'Libelle': 'Hockey'}],\n",
       " 'Surface': 200,\n",
       " 'Ville': 'STAINS',\n",
       " '_id': '566eec69662b388eba464299'}"
      ]
     },
     "execution_count": 30,
     "metadata": {},
     "output_type": "execute_result"
    }
   ],
   "source": [
    "db.Gymnases.find_one()"
   ]
  },
  {
   "cell_type": "code",
   "execution_count": 20,
   "metadata": {
    "collapsed": false,
    "deletable": true,
    "editable": true
   },
   "outputs": [
    {
     "data": {
      "text/plain": [
       "['m', 'M', 'F']"
      ]
     },
     "execution_count": 20,
     "metadata": {},
     "output_type": "execute_result"
    }
   ],
   "source": [
    "sp.distinct(\"Sexe\")"
   ]
  },
  {
   "cell_type": "code",
   "execution_count": 21,
   "metadata": {
    "collapsed": false,
    "deletable": true,
    "editable": true
   },
   "outputs": [
    {
     "data": {
      "text/plain": [
       "['Football',\n",
       " 'Tennis',\n",
       " 'Volley ball',\n",
       " 'Basket ball',\n",
       " 'Ping pong',\n",
       " 'Badmington',\n",
       " 'Hand ball']"
      ]
     },
     "execution_count": 21,
     "metadata": {},
     "output_type": "execute_result"
    }
   ],
   "source": [
    "sp.distinct(\"Sports.Jouer\")"
   ]
  },
  {
   "cell_type": "code",
   "execution_count": 24,
   "metadata": {
    "collapsed": false,
    "deletable": true,
    "editable": true
   },
   "outputs": [
    {
     "data": {
      "text/plain": [
       "['STAINS',\n",
       " 'MONTMORENCY',\n",
       " 'PIERREFITTE',\n",
       " 'SARCELLES',\n",
       " 'SAINT DENIS',\n",
       " 'VILLETANEUSE',\n",
       " 'GARGES']"
      ]
     },
     "execution_count": 24,
     "metadata": {},
     "output_type": "execute_result"
    }
   ],
   "source": [
    "db.Gymnases.distinct(\"Ville\")"
   ]
  },
  {
   "cell_type": "code",
   "execution_count": 25,
   "metadata": {
    "collapsed": false,
    "deletable": true,
    "editable": true
   },
   "outputs": [
    {
     "data": {
      "text/plain": [
       "[200, 450, 400, 500, 620, 360, 420, 300, 480, 600, 520, 350]"
      ]
     },
     "execution_count": 25,
     "metadata": {},
     "output_type": "execute_result"
    }
   ],
   "source": [
    "db.Gymnases.distinct(\"Surface\")"
   ]
  },
  {
   "cell_type": "code",
   "execution_count": 26,
   "metadata": {
    "collapsed": false,
    "deletable": true,
    "editable": true
   },
   "outputs": [
    {
     "data": {
      "text/plain": [
       "['Basket ball', 'Hand ball', 'Hockey', 'Volley ball']"
      ]
     },
     "execution_count": 26,
     "metadata": {},
     "output_type": "execute_result"
    }
   ],
   "source": [
    "db.Gymnases.distinct(\"Seances.Libelle\")"
   ]
  },
  {
   "cell_type": "code",
   "execution_count": 27,
   "metadata": {
    "collapsed": false,
    "deletable": true,
    "editable": true
   },
   "outputs": [
    {
     "data": {
      "text/plain": [
       "['Dimanche',\n",
       " 'Lundi',\n",
       " 'Samedi',\n",
       " 'jeudi',\n",
       " 'lundi',\n",
       " 'mardi',\n",
       " 'mercredi',\n",
       " 'dimanche',\n",
       " 'Mercredi',\n",
       " 'Vendredi',\n",
       " 'vendredi',\n",
       " 'samedi',\n",
       " 'Mardi',\n",
       " 'Jeudi']"
      ]
     },
     "execution_count": 27,
     "metadata": {},
     "output_type": "execute_result"
    }
   ],
   "source": [
    "db.Gymnases.distinct(\"Seances.Jour\")"
   ]
  },
  {
   "cell_type": "code",
   "execution_count": 33,
   "metadata": {
    "collapsed": false,
    "deletable": true,
    "editable": true
   },
   "outputs": [
    {
     "name": "stdout",
     "output_type": "stream",
     "text": [
      "{'Age': 30,\n",
      " 'IdSportif': 1,\n",
      " 'Nom': 'BOUTAHAR',\n",
      " 'Prenom': 'Abderahim',\n",
      " 'Sexe': 'm',\n",
      " 'Sports': {'Arbitrer': ['Basket ball', 'Volley ball', 'Hockey'],\n",
      "            'Entrainer': ['Basket ball',\n",
      "                          'Volley ball',\n",
      "                          'Hand ball',\n",
      "                          'Hockey',\n",
      "                          'Badmington'],\n",
      "            'Jouer': ['Volley ball', 'Tennis', 'Football']},\n",
      " '_id': '566eec5f662b388eba464203'}\n"
     ]
    }
   ],
   "source": [
    "import pprint\n",
    "pprint.pprint(db.Sportifs.find_one())"
   ]
  },
  {
   "cell_type": "code",
   "execution_count": 44,
   "metadata": {
    "collapsed": false,
    "deletable": true,
    "editable": true
   },
   "outputs": [
    {
     "name": "stdout",
     "output_type": "stream",
     "text": [
      "<pymongo.cursor.Cursor object at 0x103b60320>\n"
     ]
    }
   ],
   "source": [
    "res = db.Sportifs.find({ \"Nom\": \"KERVADEC\" })\n",
    "print(res)"
   ]
  },
  {
   "cell_type": "code",
   "execution_count": 45,
   "metadata": {
    "collapsed": false,
    "deletable": true,
    "editable": true
   },
   "outputs": [
    {
     "name": "stdout",
     "output_type": "stream",
     "text": [
      "1\n"
     ]
    }
   ],
   "source": [
    "print(res.count())"
   ]
  },
  {
   "cell_type": "code",
   "execution_count": 46,
   "metadata": {
    "collapsed": false,
    "deletable": true,
    "editable": true
   },
   "outputs": [
    {
     "name": "stdout",
     "output_type": "stream",
     "text": [
      "{'Age': 28,\n",
      " 'IdSportif': 2,\n",
      " 'IdSportifConseiller': 1,\n",
      " 'Nom': 'KERVADEC',\n",
      " 'Prenom': 'Yann',\n",
      " 'Sexe': 'M',\n",
      " 'Sports': {'Arbitrer': ['Hockey', 'Football'],\n",
      "            'Entrainer': ['Basket ball',\n",
      "                          'Volley ball',\n",
      "                          'Hand ball',\n",
      "                          'Tennis',\n",
      "                          'Hockey',\n",
      "                          'Badmington',\n",
      "                          'Ping pong',\n",
      "                          'Boxe'],\n",
      "            'Jouer': ['Basket ball', 'Volley ball', 'Ping pong', 'Football']},\n",
      " '_id': '566eec5f662b388eba464204'}\n"
     ]
    }
   ],
   "source": [
    "for r in res:\n",
    "    pprint.pprint(r)"
   ]
  },
  {
   "cell_type": "code",
   "execution_count": 53,
   "metadata": {
    "collapsed": false,
    "deletable": true,
    "editable": true
   },
   "outputs": [
    {
     "name": "stdout",
     "output_type": "stream",
     "text": [
      "[{'Age': 28,\n",
      "  'IdSportif': 2,\n",
      "  'IdSportifConseiller': 1,\n",
      "  'Nom': 'KERVADEC',\n",
      "  'Prenom': 'Yann',\n",
      "  'Sexe': 'M',\n",
      "  'Sports': {'Arbitrer': ['Hockey', 'Football'],\n",
      "             'Entrainer': ['Basket ball',\n",
      "                           'Volley ball',\n",
      "                           'Hand ball',\n",
      "                           'Tennis',\n",
      "                           'Hockey',\n",
      "                           'Badmington',\n",
      "                           'Ping pong',\n",
      "                           'Boxe'],\n",
      "             'Jouer': ['Basket ball', 'Volley ball', 'Ping pong', 'Football']},\n",
      "  '_id': '566eec5f662b388eba464204'}]\n"
     ]
    }
   ],
   "source": [
    "res = db.Sportifs.find({ \"Nom\": \"KERVADEC\" })\n",
    "pprint.pprint(list(res))"
   ]
  },
  {
   "cell_type": "code",
   "execution_count": 77,
   "metadata": {
    "collapsed": true,
    "deletable": true,
    "editable": true
   },
   "outputs": [],
   "source": [
    "def affiche(res):\n",
    "    pprint.pprint(list(res))"
   ]
  },
  {
   "cell_type": "code",
   "execution_count": 78,
   "metadata": {
    "collapsed": false,
    "deletable": true,
    "editable": true
   },
   "outputs": [
    {
     "name": "stdout",
     "output_type": "stream",
     "text": [
      "[{'Nom': 'KERVADEC'}]\n"
     ]
    }
   ],
   "source": [
    "res = db.Sportifs.find({ \"Nom\": \"KERVADEC\" }, { \"_id\": 0, \"Nom\": 1 })\n",
    "affiche(res)"
   ]
  },
  {
   "cell_type": "code",
   "execution_count": 80,
   "metadata": {
    "collapsed": false,
    "deletable": true,
    "editable": true
   },
   "outputs": [
    {
     "name": "stdout",
     "output_type": "stream",
     "text": [
      "[{'Age': 32, 'Nom': 'DORLEANS'},\n",
      " {'Age': 40, 'Nom': 'RABAHI'},\n",
      " {'Age': 32, 'Nom': 'TIZEGHAT'},\n",
      " {'Age': 32, 'Nom': 'BAZOUD'},\n",
      " {'Age': 39, 'Nom': 'SARRAZIN'},\n",
      " {'Age': 40, 'Nom': 'HOUEL'},\n",
      " {'Age': 36, 'Nom': 'LEROUX'},\n",
      " {'Age': 32, 'Nom': 'BONE'}]\n"
     ]
    }
   ],
   "source": [
    "res = db.Sportifs.find({ \"Age\": { \"$gte\": 32 } }, { \"_id\": 0, \"Nom\": 1, \"Age\": 1 })\n",
    "affiche(res)"
   ]
  },
  {
   "cell_type": "code",
   "execution_count": 81,
   "metadata": {
    "collapsed": false,
    "deletable": true,
    "editable": true
   },
   "outputs": [
    {
     "name": "stdout",
     "output_type": "stream",
     "text": [
      "[{'Nom': 'COMES',\n",
      "  'Sexe': 'F',\n",
      "  'Sports': {'Jouer': ['Basket ball',\n",
      "                       'Volley ball',\n",
      "                       'Badmington',\n",
      "                       'Ping pong']}},\n",
      " {'Nom': 'RETALDI',\n",
      "  'Sexe': 'F',\n",
      "  'Sports': {'Jouer': ['Basket ball',\n",
      "                       'Volley ball',\n",
      "                       'Hand ball',\n",
      "                       'Ping pong']}},\n",
      " {'Nom': 'CAILLIOT',\n",
      "  'Sexe': 'F',\n",
      "  'Sports': {'Jouer': ['Basket ball', 'Volley ball', 'Ping pong']}},\n",
      " {'Nom': 'LEJEUNE',\n",
      "  'Sexe': 'F',\n",
      "  'Sports': {'Jouer': ['Basket ball',\n",
      "                       'Volley ball',\n",
      "                       'Badmington',\n",
      "                       'Ping pong']}},\n",
      " {'Nom': 'HEDDI',\n",
      "  'Sexe': 'F',\n",
      "  'Sports': {'Jouer': ['Basket ball', 'Badmington', 'Ping pong']}},\n",
      " {'Nom': 'JOUVE',\n",
      "  'Sexe': 'F',\n",
      "  'Sports': {'Jouer': ['Basket ball', 'Ping pong']}},\n",
      " {'Nom': 'GUERRAOUI',\n",
      "  'Sexe': 'F',\n",
      "  'Sports': {'Jouer': ['Basket ball', 'Ping pong']}},\n",
      " {'Nom': 'CLERICE',\n",
      "  'Sexe': 'F',\n",
      "  'Sports': {'Jouer': ['Basket ball', 'Badmington', 'Ping pong']}},\n",
      " {'Nom': 'MARIE',\n",
      "  'Sexe': 'F',\n",
      "  'Sports': {'Jouer': ['Basket ball', 'Hand ball', 'Ping pong']}},\n",
      " {'Nom': 'BELZ', 'Sexe': 'F', 'Sports': {'Jouer': 'Basket ball'}}]\n"
     ]
    }
   ],
   "source": [
    "criteres = { \"Sports.Jouer\" : \"Basket ball\", \"Sexe\" : \"F\" }\n",
    "sortie = { \"_id\": 0, \"Nom\": 1, \"Sexe\": 1, \"Sports.Jouer\": 1}\n",
    "res = db.Sportifs.find(criteres, sortie)\n",
    "affiche(res)"
   ]
  },
  {
   "cell_type": "code",
   "execution_count": 86,
   "metadata": {
    "collapsed": false,
    "deletable": true,
    "editable": true
   },
   "outputs": [
    {
     "name": "stdout",
     "output_type": "stream",
     "text": [
      "[{'Age': 40, 'Nom': 'HOUEL'},\n",
      " {'Age': 40, 'Nom': 'RABAHI'},\n",
      " {'Age': 39, 'Nom': 'SARRAZIN'},\n",
      " {'Age': 36, 'Nom': 'LEROUX'},\n",
      " {'Age': 32, 'Nom': 'BAZOUD'},\n",
      " {'Age': 32, 'Nom': 'BONE'},\n",
      " {'Age': 32, 'Nom': 'DORLEANS'},\n",
      " {'Age': 32, 'Nom': 'TIZEGHAT'}]\n"
     ]
    }
   ],
   "source": [
    "res = db.Sportifs.find({ \"Age\": { \"$gte\": 32} }, { \"_id\": 0, \"Nom\": 1, \"Age\": 1 })\n",
    "\n",
    "res = res.sort([ (\"Age\", pymongo.DESCENDING), (\"Nom\", pymongo.ASCENDING) ])\n",
    "\n",
    "affiche(res)"
   ]
  },
  {
   "cell_type": "code",
   "execution_count": 92,
   "metadata": {
    "collapsed": false,
    "deletable": true,
    "editable": true
   },
   "outputs": [
    {
     "name": "stdout",
     "output_type": "stream",
     "text": [
      "[{'_id': 'Total', 'nb': 28, 'surfmoy': 444.2857142857143}]\n"
     ]
    }
   ],
   "source": [
    "res = db.Gymnases.aggregate([ \n",
    "    { \"$group\": { \"_id\": \"Total\", \"nb\": { \"$sum\": 1 }, \"surfmoy\": { \"$avg\": \"$Surface\" }}}\n",
    "])\n",
    "affiche(res)"
   ]
  },
  {
   "cell_type": "code",
   "execution_count": 93,
   "metadata": {
    "collapsed": false,
    "deletable": true,
    "editable": true
   },
   "outputs": [
    {
     "name": "stdout",
     "output_type": "stream",
     "text": [
      "[{'_id': 'SAINT DENIS',\n",
      "  'nb': 3,\n",
      "  'surfaceMaximum': 520,\n",
      "  'surfaceMinimum': 450,\n",
      "  'surfaceMoyenne': 490.0,\n",
      "  'surfaceTotale': 1470},\n",
      " {'_id': 'STAINS',\n",
      "  'nb': 6,\n",
      "  'surfaceMaximum': 400,\n",
      "  'surfaceMinimum': 200,\n",
      "  'surfaceMoyenne': 333.3333333333333,\n",
      "  'surfaceTotale': 2000},\n",
      " {'_id': 'MONTMORENCY',\n",
      "  'nb': 5,\n",
      "  'surfaceMaximum': 500,\n",
      "  'surfaceMinimum': 420,\n",
      "  'surfaceMoyenne': 470.0,\n",
      "  'surfaceTotale': 2350},\n",
      " {'_id': 'GARGES',\n",
      "  'nb': 1,\n",
      "  'surfaceMaximum': 400,\n",
      "  'surfaceMinimum': 400,\n",
      "  'surfaceMoyenne': 400.0,\n",
      "  'surfaceTotale': 400},\n",
      " {'_id': 'VILLETANEUSE',\n",
      "  'nb': 3,\n",
      "  'surfaceMaximum': 620,\n",
      "  'surfaceMinimum': 350,\n",
      "  'surfaceMoyenne': 523.3333333333334,\n",
      "  'surfaceTotale': 1570},\n",
      " {'_id': 'PIERREFITTE',\n",
      "  'nb': 5,\n",
      "  'surfaceMaximum': 450,\n",
      "  'surfaceMinimum': 300,\n",
      "  'surfaceMoyenne': 382.0,\n",
      "  'surfaceTotale': 1910},\n",
      " {'_id': 'SARCELLES',\n",
      "  'nb': 5,\n",
      "  'surfaceMaximum': 620,\n",
      "  'surfaceMinimum': 400,\n",
      "  'surfaceMoyenne': 548.0,\n",
      "  'surfaceTotale': 2740}]\n"
     ]
    }
   ],
   "source": [
    "res = db.Gymnases.aggregate([ \n",
    "    { \"$group\": { \n",
    "        \"_id\": \"$Ville\", \n",
    "        \"nb\": { \"$sum\": 1 }, \n",
    "        \"surfaceTotale\": { \"$sum\": \"$Surface\" },\n",
    "        \"surfaceMoyenne\": { \"$avg\": \"$Surface\" },\n",
    "        \"surfaceMinimum\": { \"$min\": \"$Surface\" },\n",
    "        \"surfaceMaximum\": { \"$max\": \"$Surface\" }\n",
    "    }}\n",
    "])\n",
    "affiche(res)"
   ]
  },
  {
   "cell_type": "code",
   "execution_count": 95,
   "metadata": {
    "collapsed": false,
    "deletable": true,
    "editable": true
   },
   "outputs": [
    {
     "name": "stdout",
     "output_type": "stream",
     "text": [
      "[{'_id': 'lundi', 'nb': 23},\n",
      " {'_id': 'dimanche', 'nb': 17},\n",
      " {'_id': 'mercredi', 'nb': 13},\n",
      " {'_id': 'samedi', 'nb': 9},\n",
      " {'_id': 'mardi', 'nb': 8},\n",
      " {'_id': 'vendredi', 'nb': 6},\n",
      " {'_id': 'jeudi', 'nb': 6}]\n"
     ]
    }
   ],
   "source": [
    "res = db.Gymnases.aggregate([\n",
    "    { \"$unwind\": \"$Seances\" }, \n",
    "    { \"$project\": { \"Jour\": { \"$toLower\": \"$Seances.Jour\" } }},\n",
    "    { \"$group\": { \"_id\": \"$Jour\", \"nb\": { \"$sum\": 1 }} },\n",
    "    { \"$sort\": { \"nb\": -1 }}\n",
    "])\n",
    "affiche(res)"
   ]
  },
  {
   "cell_type": "code",
   "execution_count": 96,
   "metadata": {
    "collapsed": true,
    "deletable": true,
    "editable": true
   },
   "outputs": [],
   "source": [
    "import pandas\n",
    "\n",
    "res = db.Sportifs.find()\n",
    "df = pandas.DataFrame(list(res))"
   ]
  },
  {
   "cell_type": "code",
   "execution_count": 97,
   "metadata": {
    "collapsed": false,
    "deletable": true,
    "editable": true
   },
   "outputs": [
    {
     "data": {
      "text/html": [
       "<div>\n",
       "<table border=\"1\" class=\"dataframe\">\n",
       "  <thead>\n",
       "    <tr style=\"text-align: right;\">\n",
       "      <th></th>\n",
       "      <th>Age</th>\n",
       "      <th>IdSportif</th>\n",
       "      <th>IdSportifConseiller</th>\n",
       "      <th>Nom</th>\n",
       "      <th>Prenom</th>\n",
       "      <th>Sexe</th>\n",
       "      <th>Sports</th>\n",
       "      <th>_id</th>\n",
       "    </tr>\n",
       "  </thead>\n",
       "  <tbody>\n",
       "    <tr>\n",
       "      <th>0</th>\n",
       "      <td>30</td>\n",
       "      <td>1</td>\n",
       "      <td>NaN</td>\n",
       "      <td>BOUTAHAR</td>\n",
       "      <td>Abderahim</td>\n",
       "      <td>m</td>\n",
       "      <td>{'Jouer': ['Volley ball', 'Tennis', 'Football'...</td>\n",
       "      <td>566eec5f662b388eba464203</td>\n",
       "    </tr>\n",
       "    <tr>\n",
       "      <th>1</th>\n",
       "      <td>28</td>\n",
       "      <td>2</td>\n",
       "      <td>1.0</td>\n",
       "      <td>KERVADEC</td>\n",
       "      <td>Yann</td>\n",
       "      <td>M</td>\n",
       "      <td>{'Jouer': ['Basket ball', 'Volley ball', 'Ping...</td>\n",
       "      <td>566eec5f662b388eba464204</td>\n",
       "    </tr>\n",
       "    <tr>\n",
       "      <th>2</th>\n",
       "      <td>25</td>\n",
       "      <td>3</td>\n",
       "      <td>1.0</td>\n",
       "      <td>HUE</td>\n",
       "      <td>Pascale</td>\n",
       "      <td>F</td>\n",
       "      <td>{'Jouer': ['Volley ball', 'Ping pong'], 'Arbit...</td>\n",
       "      <td>566eec5f662b388eba464205</td>\n",
       "    </tr>\n",
       "    <tr>\n",
       "      <th>3</th>\n",
       "      <td>32</td>\n",
       "      <td>4</td>\n",
       "      <td>1.0</td>\n",
       "      <td>DORLEANS</td>\n",
       "      <td>Jean-michel</td>\n",
       "      <td>M</td>\n",
       "      <td>{'Jouer': ['Volley ball', 'Football'], 'Arbitr...</td>\n",
       "      <td>566eec5f662b388eba464206</td>\n",
       "    </tr>\n",
       "    <tr>\n",
       "      <th>4</th>\n",
       "      <td>22</td>\n",
       "      <td>5</td>\n",
       "      <td>1.0</td>\n",
       "      <td>COMES</td>\n",
       "      <td>Sylvie</td>\n",
       "      <td>F</td>\n",
       "      <td>{'Jouer': ['Basket ball', 'Volley ball', 'Badm...</td>\n",
       "      <td>566eec5f662b388eba464207</td>\n",
       "    </tr>\n",
       "  </tbody>\n",
       "</table>\n",
       "</div>"
      ],
      "text/plain": [
       "   Age  IdSportif  IdSportifConseiller       Nom       Prenom Sexe  \\\n",
       "0   30          1                  NaN  BOUTAHAR    Abderahim    m   \n",
       "1   28          2                  1.0  KERVADEC         Yann    M   \n",
       "2   25          3                  1.0       HUE      Pascale    F   \n",
       "3   32          4                  1.0  DORLEANS  Jean-michel    M   \n",
       "4   22          5                  1.0     COMES       Sylvie    F   \n",
       "\n",
       "                                              Sports                       _id  \n",
       "0  {'Jouer': ['Volley ball', 'Tennis', 'Football'...  566eec5f662b388eba464203  \n",
       "1  {'Jouer': ['Basket ball', 'Volley ball', 'Ping...  566eec5f662b388eba464204  \n",
       "2  {'Jouer': ['Volley ball', 'Ping pong'], 'Arbit...  566eec5f662b388eba464205  \n",
       "3  {'Jouer': ['Volley ball', 'Football'], 'Arbitr...  566eec5f662b388eba464206  \n",
       "4  {'Jouer': ['Basket ball', 'Volley ball', 'Badm...  566eec5f662b388eba464207  "
      ]
     },
     "execution_count": 97,
     "metadata": {},
     "output_type": "execute_result"
    }
   ],
   "source": [
    "df.head()"
   ]
  },
  {
   "cell_type": "code",
   "execution_count": 103,
   "metadata": {
    "collapsed": false,
    "deletable": true,
    "editable": true
   },
   "outputs": [],
   "source": [
    "df0 = df.loc[0,:]"
   ]
  },
  {
   "cell_type": "code",
   "execution_count": 110,
   "metadata": {
    "collapsed": false,
    "deletable": true,
    "editable": true
   },
   "outputs": [
    {
     "data": {
      "text/plain": [
       "pandas.core.series.Series"
      ]
     },
     "execution_count": 110,
     "metadata": {},
     "output_type": "execute_result"
    }
   ],
   "source": [
    "type(df0)"
   ]
  },
  {
   "cell_type": "code",
   "execution_count": 105,
   "metadata": {
    "collapsed": false,
    "deletable": true,
    "editable": true
   },
   "outputs": [
    {
     "data": {
      "text/plain": [
       "{'Arbitrer': ['Basket ball', 'Volley ball', 'Hockey'],\n",
       " 'Entrainer': ['Basket ball',\n",
       "  'Volley ball',\n",
       "  'Hand ball',\n",
       "  'Hockey',\n",
       "  'Badmington'],\n",
       " 'Jouer': ['Volley ball', 'Tennis', 'Football']}"
      ]
     },
     "execution_count": 105,
     "metadata": {},
     "output_type": "execute_result"
    }
   ],
   "source": [
    "df0.Sports"
   ]
  },
  {
   "cell_type": "code",
   "execution_count": 108,
   "metadata": {
    "collapsed": false,
    "deletable": true,
    "editable": true
   },
   "outputs": [
    {
     "data": {
      "text/plain": [
       "['Volley ball', 'Tennis', 'Football']"
      ]
     },
     "execution_count": 108,
     "metadata": {},
     "output_type": "execute_result"
    }
   ],
   "source": [
    "df0.Sports[\"Jouer\"]"
   ]
  },
  {
   "cell_type": "code",
   "execution_count": 109,
   "metadata": {
    "collapsed": false,
    "deletable": true,
    "editable": true
   },
   "outputs": [
    {
     "data": {
      "text/plain": [
       "dict"
      ]
     },
     "execution_count": 109,
     "metadata": {},
     "output_type": "execute_result"
    }
   ],
   "source": [
    "type(df0.Sports)"
   ]
  },
  {
   "cell_type": "code",
   "execution_count": 120,
   "metadata": {
    "collapsed": false,
    "deletable": true,
    "editable": true
   },
   "outputs": [
    {
     "data": {
      "text/plain": [
       "['admin', 'gym', 'horodateurs', 'local', 'test', 'vlsstat', 'world']"
      ]
     },
     "execution_count": 120,
     "metadata": {},
     "output_type": "execute_result"
    }
   ],
   "source": [
    "con.database_names()"
   ]
  },
  {
   "cell_type": "code",
   "execution_count": 122,
   "metadata": {
    "collapsed": false,
    "deletable": true,
    "editable": true
   },
   "outputs": [
    {
     "data": {
      "text/plain": [
       "['transactions_small', 'transactions', 'mobiliers']"
      ]
     },
     "execution_count": 122,
     "metadata": {},
     "output_type": "execute_result"
    }
   ],
   "source": [
    "horo = con.horodateurs\n",
    "horo.collection_names()"
   ]
  },
  {
   "cell_type": "code",
   "execution_count": 123,
   "metadata": {
    "collapsed": false,
    "deletable": true,
    "editable": true
   },
   "outputs": [
    {
     "data": {
      "text/plain": [
       "24448030"
      ]
     },
     "execution_count": 123,
     "metadata": {},
     "output_type": "execute_result"
    }
   ],
   "source": [
    "horo.transactions.count()"
   ]
  },
  {
   "cell_type": "code",
   "execution_count": 124,
   "metadata": {
    "collapsed": false,
    "deletable": true,
    "editable": true
   },
   "outputs": [
    {
     "data": {
      "text/plain": [
       "7810"
      ]
     },
     "execution_count": 124,
     "metadata": {},
     "output_type": "execute_result"
    }
   ],
   "source": [
    "horo.mobiliers.count()"
   ]
  },
  {
   "cell_type": "code",
   "execution_count": 125,
   "metadata": {
    "collapsed": false,
    "deletable": true,
    "editable": true
   },
   "outputs": [
    {
     "data": {
      "text/plain": [
       "244480"
      ]
     },
     "execution_count": 125,
     "metadata": {},
     "output_type": "execute_result"
    }
   ],
   "source": [
    "horo.transactions_small.count()"
   ]
  },
  {
   "cell_type": "code",
   "execution_count": 126,
   "metadata": {
    "collapsed": true,
    "deletable": true,
    "editable": true
   },
   "outputs": [],
   "source": [
    "trans = pandas.DataFrame(list(horo.transactions_small.find()))"
   ]
  },
  {
   "cell_type": "code",
   "execution_count": 127,
   "metadata": {
    "collapsed": false,
    "deletable": true,
    "editable": true
   },
   "outputs": [
    {
     "data": {
      "text/plain": [
       "52178471"
      ]
     },
     "execution_count": 127,
     "metadata": {},
     "output_type": "execute_result"
    }
   ],
   "source": [
    "import sys\n",
    "sys.getsizeof(trans)"
   ]
  },
  {
   "cell_type": "code",
   "execution_count": 131,
   "metadata": {
    "collapsed": false,
    "deletable": true,
    "editable": true
   },
   "outputs": [
    {
     "data": {
      "text/plain": [
       "16.787109375"
      ]
     },
     "execution_count": 131,
     "metadata": {},
     "output_type": "execute_result"
    }
   ],
   "source": [
    "trans.values.nbytes / (1024 * 1024) # En Mo"
   ]
  },
  {
   "cell_type": "code",
   "execution_count": 132,
   "metadata": {
    "collapsed": false,
    "deletable": true,
    "editable": true,
    "scrolled": true
   },
   "outputs": [
    {
     "data": {
      "text/plain": [
       "1678.7129974365234"
      ]
     },
     "execution_count": 132,
     "metadata": {},
     "output_type": "execute_result"
    }
   ],
   "source": [
    "# Estimation pour la totalité\n",
    "trans.values.nbytes / (1024 * 1024) * (horo.transactions.count() / horo.transactions_small.count())"
   ]
  },
  {
   "cell_type": "code",
   "execution_count": null,
   "metadata": {
    "collapsed": true,
    "deletable": true,
    "editable": true
   },
   "outputs": [],
   "source": []
  }
 ],
 "metadata": {
  "kernelspec": {
   "display_name": "Python 3",
   "language": "python",
   "name": "python3"
  },
  "language_info": {
   "codemirror_mode": {
    "name": "ipython",
    "version": 3
   },
   "file_extension": ".py",
   "mimetype": "text/x-python",
   "name": "python",
   "nbconvert_exporter": "python",
   "pygments_lexer": "ipython3",
   "version": "3.6.0"
  }
 },
 "nbformat": 4,
 "nbformat_minor": 2
}
