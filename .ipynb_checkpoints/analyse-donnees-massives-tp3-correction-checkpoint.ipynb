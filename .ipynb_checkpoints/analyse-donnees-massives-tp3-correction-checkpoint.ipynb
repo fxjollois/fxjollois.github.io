{
 "cells": [
  {
   "cell_type": "code",
   "execution_count": 1,
   "metadata": {
    "collapsed": false,
    "deletable": true,
    "editable": true
   },
   "outputs": [
    {
     "data": {
      "text/plain": [
       "[\"'Sepal.Length';'Sepal.Width';'Petal.Length';'Petal.Width';'Species'\\n\",\n",
       " \"5.1;3.5;1.4;0.2;'setosa'\\n\",\n",
       " \"4.9;3;1.4;0.2;'setosa'\\n\",\n",
       " \"4.7;3.2;1.3;0.2;'setosa'\\n\",\n",
       " \"4.6;3.1;1.5;0.2;'setosa'\\n\",\n",
       " \"5;3.6;1.4;0.2;'setosa'\\n\",\n",
       " \"5.4;3.9;1.7;0.4;'setosa'\\n\",\n",
       " \"4.6;3.4;1.4;0.3;'setosa'\\n\",\n",
       " \"5;3.4;1.5;0.2;'setosa'\\n\",\n",
       " \"4.4;2.9;1.4;0.2;'setosa'\\n\",\n",
       " \"4.9;3.1;1.5;0.1;'setosa'\\n\",\n",
       " \"5.4;3.7;1.5;0.2;'setosa'\\n\",\n",
       " \"4.8;3.4;1.6;0.2;'setosa'\\n\",\n",
       " \"4.8;3;1.4;0.1;'setosa'\\n\",\n",
       " \"4.3;3;1.1;0.1;'setosa'\\n\",\n",
       " \"5.8;4;1.2;0.2;'setosa'\\n\",\n",
       " \"5.7;4.4;1.5;0.4;'setosa'\\n\",\n",
       " \"5.4;3.9;1.3;0.4;'setosa'\\n\",\n",
       " \"5.1;3.5;1.4;0.3;'setosa'\\n\",\n",
       " \"5.7;3.8;1.7;0.3;'setosa'\\n\",\n",
       " \"5.1;3.8;1.5;0.3;'setosa'\\n\",\n",
       " \"5.4;3.4;1.7;0.2;'setosa'\\n\",\n",
       " \"5.1;3.7;1.5;0.4;'setosa'\\n\",\n",
       " \"4.6;3.6;1;0.2;'setosa'\\n\",\n",
       " \"5.1;3.3;1.7;0.5;'setosa'\\n\",\n",
       " \"4.8;3.4;1.9;0.2;'setosa'\\n\",\n",
       " \"5;3;1.6;0.2;'setosa'\\n\",\n",
       " \"5;3.4;1.6;0.4;'setosa'\\n\",\n",
       " \"5.2;3.5;1.5;0.2;'setosa'\\n\",\n",
       " \"5.2;3.4;1.4;0.2;'setosa'\\n\",\n",
       " \"4.7;3.2;1.6;0.2;'setosa'\\n\",\n",
       " \"4.8;3.1;1.6;0.2;'setosa'\\n\",\n",
       " \"5.4;3.4;1.5;0.4;'setosa'\\n\",\n",
       " \"5.2;4.1;1.5;0.1;'setosa'\\n\",\n",
       " \"5.5;4.2;1.4;0.2;'setosa'\\n\",\n",
       " \"4.9;3.1;1.5;0.2;'setosa'\\n\",\n",
       " \"5;3.2;1.2;0.2;'setosa'\\n\",\n",
       " \"5.5;3.5;1.3;0.2;'setosa'\\n\",\n",
       " \"4.9;3.6;1.4;0.1;'setosa'\\n\",\n",
       " \"4.4;3;1.3;0.2;'setosa'\\n\",\n",
       " \"5.1;3.4;1.5;0.2;'setosa'\\n\",\n",
       " \"5;3.5;1.3;0.3;'setosa'\\n\",\n",
       " \"4.5;2.3;1.3;0.3;'setosa'\\n\",\n",
       " \"4.4;3.2;1.3;0.2;'setosa'\\n\",\n",
       " \"5;3.5;1.6;0.6;'setosa'\\n\",\n",
       " \"5.1;3.8;1.9;0.4;'setosa'\\n\",\n",
       " \"4.8;3;1.4;0.3;'setosa'\\n\",\n",
       " \"5.1;3.8;1.6;0.2;'setosa'\\n\",\n",
       " \"4.6;3.2;1.4;0.2;'setosa'\\n\",\n",
       " \"5.3;3.7;1.5;0.2;'setosa'\\n\",\n",
       " \"5;3.3;1.4;0.2;'setosa'\\n\",\n",
       " \"7;3.2;4.7;1.4;'versicolor'\\n\",\n",
       " \"6.4;3.2;4.5;1.5;'versicolor'\\n\",\n",
       " \"6.9;3.1;4.9;1.5;'versicolor'\\n\",\n",
       " \"5.5;2.3;4;1.3;'versicolor'\\n\",\n",
       " \"6.5;2.8;4.6;1.5;'versicolor'\\n\",\n",
       " \"5.7;2.8;4.5;1.3;'versicolor'\\n\",\n",
       " \"6.3;3.3;4.7;1.6;'versicolor'\\n\",\n",
       " \"4.9;2.4;3.3;1;'versicolor'\\n\",\n",
       " \"6.6;2.9;4.6;1.3;'versicolor'\\n\",\n",
       " \"5.2;2.7;3.9;1.4;'versicolor'\\n\",\n",
       " \"5;2;3.5;1;'versicolor'\\n\",\n",
       " \"5.9;3;4.2;1.5;'versicolor'\\n\",\n",
       " \"6;2.2;4;1;'versicolor'\\n\",\n",
       " \"6.1;2.9;4.7;1.4;'versicolor'\\n\",\n",
       " \"5.6;2.9;3.6;1.3;'versicolor'\\n\",\n",
       " \"6.7;3.1;4.4;1.4;'versicolor'\\n\",\n",
       " \"5.6;3;4.5;1.5;'versicolor'\\n\",\n",
       " \"5.8;2.7;4.1;1;'versicolor'\\n\",\n",
       " \"6.2;2.2;4.5;1.5;'versicolor'\\n\",\n",
       " \"5.6;2.5;3.9;1.1;'versicolor'\\n\",\n",
       " \"5.9;3.2;4.8;1.8;'versicolor'\\n\",\n",
       " \"6.1;2.8;4;1.3;'versicolor'\\n\",\n",
       " \"6.3;2.5;4.9;1.5;'versicolor'\\n\",\n",
       " \"6.1;2.8;4.7;1.2;'versicolor'\\n\",\n",
       " \"6.4;2.9;4.3;1.3;'versicolor'\\n\",\n",
       " \"6.6;3;4.4;1.4;'versicolor'\\n\",\n",
       " \"6.8;2.8;4.8;1.4;'versicolor'\\n\",\n",
       " \"6.7;3;5;1.7;'versicolor'\\n\",\n",
       " \"6;2.9;4.5;1.5;'versicolor'\\n\",\n",
       " \"5.7;2.6;3.5;1;'versicolor'\\n\",\n",
       " \"5.5;2.4;3.8;1.1;'versicolor'\\n\",\n",
       " \"5.5;2.4;3.7;1;'versicolor'\\n\",\n",
       " \"5.8;2.7;3.9;1.2;'versicolor'\\n\",\n",
       " \"6;2.7;5.1;1.6;'versicolor'\\n\",\n",
       " \"5.4;3;4.5;1.5;'versicolor'\\n\",\n",
       " \"6;3.4;4.5;1.6;'versicolor'\\n\",\n",
       " \"6.7;3.1;4.7;1.5;'versicolor'\\n\",\n",
       " \"6.3;2.3;4.4;1.3;'versicolor'\\n\",\n",
       " \"5.6;3;4.1;1.3;'versicolor'\\n\",\n",
       " \"5.5;2.5;4;1.3;'versicolor'\\n\",\n",
       " \"5.5;2.6;4.4;1.2;'versicolor'\\n\",\n",
       " \"6.1;3;4.6;1.4;'versicolor'\\n\",\n",
       " \"5.8;2.6;4;1.2;'versicolor'\\n\",\n",
       " \"5;2.3;3.3;1;'versicolor'\\n\",\n",
       " \"5.6;2.7;4.2;1.3;'versicolor'\\n\",\n",
       " \"5.7;3;4.2;1.2;'versicolor'\\n\",\n",
       " \"5.7;2.9;4.2;1.3;'versicolor'\\n\",\n",
       " \"6.2;2.9;4.3;1.3;'versicolor'\\n\",\n",
       " \"5.1;2.5;3;1.1;'versicolor'\\n\",\n",
       " \"5.7;2.8;4.1;1.3;'versicolor'\\n\",\n",
       " \"6.3;3.3;6;2.5;'virginica'\\n\",\n",
       " \"5.8;2.7;5.1;1.9;'virginica'\\n\",\n",
       " \"7.1;3;5.9;2.1;'virginica'\\n\",\n",
       " \"6.3;2.9;5.6;1.8;'virginica'\\n\",\n",
       " \"6.5;3;5.8;2.2;'virginica'\\n\",\n",
       " \"7.6;3;6.6;2.1;'virginica'\\n\",\n",
       " \"4.9;2.5;4.5;1.7;'virginica'\\n\",\n",
       " \"7.3;2.9;6.3;1.8;'virginica'\\n\",\n",
       " \"6.7;2.5;5.8;1.8;'virginica'\\n\",\n",
       " \"7.2;3.6;6.1;2.5;'virginica'\\n\",\n",
       " \"6.5;3.2;5.1;2;'virginica'\\n\",\n",
       " \"6.4;2.7;5.3;1.9;'virginica'\\n\",\n",
       " \"6.8;3;5.5;2.1;'virginica'\\n\",\n",
       " \"5.7;2.5;5;2;'virginica'\\n\",\n",
       " \"5.8;2.8;5.1;2.4;'virginica'\\n\",\n",
       " \"6.4;3.2;5.3;2.3;'virginica'\\n\",\n",
       " \"6.5;3;5.5;1.8;'virginica'\\n\",\n",
       " \"7.7;3.8;6.7;2.2;'virginica'\\n\",\n",
       " \"7.7;2.6;6.9;2.3;'virginica'\\n\",\n",
       " \"6;2.2;5;1.5;'virginica'\\n\",\n",
       " \"6.9;3.2;5.7;2.3;'virginica'\\n\",\n",
       " \"5.6;2.8;4.9;2;'virginica'\\n\",\n",
       " \"7.7;2.8;6.7;2;'virginica'\\n\",\n",
       " \"6.3;2.7;4.9;1.8;'virginica'\\n\",\n",
       " \"6.7;3.3;5.7;2.1;'virginica'\\n\",\n",
       " \"7.2;3.2;6;1.8;'virginica'\\n\",\n",
       " \"6.2;2.8;4.8;1.8;'virginica'\\n\",\n",
       " \"6.1;3;4.9;1.8;'virginica'\\n\",\n",
       " \"6.4;2.8;5.6;2.1;'virginica'\\n\",\n",
       " \"7.2;3;5.8;1.6;'virginica'\\n\",\n",
       " \"7.4;2.8;6.1;1.9;'virginica'\\n\",\n",
       " \"7.9;3.8;6.4;2;'virginica'\\n\",\n",
       " \"6.4;2.8;5.6;2.2;'virginica'\\n\",\n",
       " \"6.3;2.8;5.1;1.5;'virginica'\\n\",\n",
       " \"6.1;2.6;5.6;1.4;'virginica'\\n\",\n",
       " \"7.7;3;6.1;2.3;'virginica'\\n\",\n",
       " \"6.3;3.4;5.6;2.4;'virginica'\\n\",\n",
       " \"6.4;3.1;5.5;1.8;'virginica'\\n\",\n",
       " \"6;3;4.8;1.8;'virginica'\\n\",\n",
       " \"6.9;3.1;5.4;2.1;'virginica'\\n\",\n",
       " \"6.7;3.1;5.6;2.4;'virginica'\\n\",\n",
       " \"6.9;3.1;5.1;2.3;'virginica'\\n\",\n",
       " \"5.8;2.7;5.1;1.9;'virginica'\\n\",\n",
       " \"6.8;3.2;5.9;2.3;'virginica'\\n\",\n",
       " \"6.7;3.3;5.7;2.5;'virginica'\\n\",\n",
       " \"6.7;3;5.2;2.3;'virginica'\\n\",\n",
       " \"6.3;2.5;5;1.9;'virginica'\\n\",\n",
       " \"6.5;3;5.2;2;'virginica'\\n\",\n",
       " \"6.2;3.4;5.4;2.3;'virginica'\\n\",\n",
       " \"5.9;3;5.1;1.8;'virginica'\\n\"]"
      ]
     },
     "execution_count": 1,
     "metadata": {},
     "output_type": "execute_result"
    }
   ],
   "source": [
    "fichier = open(\"donnees/Iris.txt\")\n",
    "lignesBrutes = fichier.readlines()\n",
    "fichier.close()\n",
    "lignesBrutes"
   ]
  },
  {
   "cell_type": "code",
   "execution_count": 2,
   "metadata": {
    "collapsed": false,
    "deletable": true,
    "editable": true
   },
   "outputs": [
    {
     "data": {
      "text/plain": [
       "[['Sepal.Length', 'Sepal.Width', 'Petal.Length', 'Petal.Width', 'Species'],\n",
       " ['5.1', '3.5', '1.4', '0.2', 'setosa'],\n",
       " ['4.9', '3', '1.4', '0.2', 'setosa'],\n",
       " ['4.7', '3.2', '1.3', '0.2', 'setosa'],\n",
       " ['4.6', '3.1', '1.5', '0.2', 'setosa'],\n",
       " ['5', '3.6', '1.4', '0.2', 'setosa'],\n",
       " ['5.4', '3.9', '1.7', '0.4', 'setosa'],\n",
       " ['4.6', '3.4', '1.4', '0.3', 'setosa'],\n",
       " ['5', '3.4', '1.5', '0.2', 'setosa'],\n",
       " ['4.4', '2.9', '1.4', '0.2', 'setosa']]"
      ]
     },
     "execution_count": 2,
     "metadata": {},
     "output_type": "execute_result"
    }
   ],
   "source": [
    "lignes = [l.replace(\"'\", \"\").replace(\"\\n\", \"\").split(\";\") for l in lignesBrutes]\n",
    "lignes[:10]"
   ]
  },
  {
   "cell_type": "code",
   "execution_count": 4,
   "metadata": {
    "collapsed": false
   },
   "outputs": [
    {
     "name": "stdout",
     "output_type": "stream",
     "text": [
      "1.234\n",
      "setosa\n"
     ]
    }
   ],
   "source": [
    "def enReel(v):\n",
    "    try:\n",
    "        res = float(v)\n",
    "    except:\n",
    "        res = v\n",
    "    finally:\n",
    "        return res\n",
    "print(enReel(\"1.234\"))\n",
    "print(enReel(\"setosa\"))"
   ]
  },
  {
   "cell_type": "code",
   "execution_count": null,
   "metadata": {
    "collapsed": true
   },
   "outputs": [],
   "source": []
  }
 ],
 "metadata": {
  "kernelspec": {
   "display_name": "Python 3",
   "language": "python",
   "name": "python3"
  },
  "language_info": {
   "codemirror_mode": {
    "name": "ipython",
    "version": 3
   },
   "file_extension": ".py",
   "mimetype": "text/x-python",
   "name": "python",
   "nbconvert_exporter": "python",
   "pygments_lexer": "ipython3",
   "version": "3.6.0"
  }
 },
 "nbformat": 4,
 "nbformat_minor": 2
}
