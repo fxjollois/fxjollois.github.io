{
 "cells": [
  {
   "cell_type": "markdown",
   "metadata": {
    "deletable": true,
    "editable": true
   },
   "source": [
    "# TP7 - Connexion à MongoDB sous `Python`\n",
    "\n",
    "#### Analyse de Données Massives - Master 1ère année\n"
   ]
  },
  {
   "cell_type": "code",
   "execution_count": 83,
   "metadata": {
    "collapsed": true
   },
   "outputs": [],
   "source": [
    "import pymongo\n",
    "import pandas\n",
    "import pprint\n",
    "\n",
    "con = pymongo.MongoClient()\n",
    "\n",
    "def affiche(res):\n",
    "    for r in res:\n",
    "        pprint.pprint(r)"
   ]
  },
  {
   "cell_type": "markdown",
   "metadata": {},
   "source": [
    "## Exercices\n",
    "\n",
    "Nous allons utiliser la base de données `test`, dans laquelle se trouve la collection `restaurants`. Celle-ci est composée de plus de 25000 retaurants new-yorkais, avec des évaluations de ceux-ci.\n",
    "\n",
    "### 1. Créer une connexion vers cette collection\n"
   ]
  },
  {
   "cell_type": "code",
   "execution_count": 84,
   "metadata": {
    "collapsed": true
   },
   "outputs": [],
   "source": [
    "db = con.test.restaurants"
   ]
  },
  {
   "cell_type": "markdown",
   "metadata": {},
   "source": [
    "### 2. Déterminer le nombre exact de restaurants."
   ]
  },
  {
   "cell_type": "code",
   "execution_count": 85,
   "metadata": {
    "collapsed": false
   },
   "outputs": [
    {
     "data": {
      "text/plain": [
       "25359"
      ]
     },
     "execution_count": 85,
     "metadata": {},
     "output_type": "execute_result"
    }
   ],
   "source": [
    "db.count()"
   ]
  },
  {
   "cell_type": "markdown",
   "metadata": {},
   "source": [
    "### 3. Lister les différents quartiers représentés (*borough*) ainsi que les différents types de  cuisine (*cuisine*)."
   ]
  },
  {
   "cell_type": "code",
   "execution_count": 86,
   "metadata": {
    "collapsed": false
   },
   "outputs": [
    {
     "data": {
      "text/plain": [
       "['Bronx', 'Brooklyn', 'Manhattan', 'Queens', 'Staten Island', 'Missing']"
      ]
     },
     "execution_count": 86,
     "metadata": {},
     "output_type": "execute_result"
    }
   ],
   "source": [
    "db.distinct(\"borough\")"
   ]
  },
  {
   "cell_type": "code",
   "execution_count": 87,
   "metadata": {
    "collapsed": false
   },
   "outputs": [
    {
     "data": {
      "text/plain": [
       "['Bakery',\n",
       " 'Hamburgers',\n",
       " 'American ',\n",
       " 'Irish',\n",
       " 'Jewish/Kosher',\n",
       " 'Delicatessen',\n",
       " 'Ice Cream, Gelato, Yogurt, Ices',\n",
       " 'Chinese',\n",
       " 'Chicken',\n",
       " 'Caribbean',\n",
       " 'Turkish',\n",
       " 'Donuts',\n",
       " 'Sandwiches/Salads/Mixed Buffet',\n",
       " 'Bagels/Pretzels',\n",
       " 'Continental',\n",
       " 'Pizza',\n",
       " 'Italian',\n",
       " 'Steak',\n",
       " 'Polish',\n",
       " 'Latin (Cuban, Dominican, Puerto Rican, South & Central American)',\n",
       " 'German',\n",
       " 'French',\n",
       " 'Pizza/Italian',\n",
       " 'Mexican',\n",
       " 'Spanish',\n",
       " 'Café/Coffee/Tea',\n",
       " 'Tex-Mex',\n",
       " 'Pancakes/Waffles',\n",
       " 'Soul Food',\n",
       " 'Seafood',\n",
       " 'Hotdogs',\n",
       " 'Greek',\n",
       " 'Not Listed/Not Applicable',\n",
       " 'African',\n",
       " 'Japanese',\n",
       " 'Indian',\n",
       " 'Armenian',\n",
       " 'Thai',\n",
       " 'Chinese/Cuban',\n",
       " 'Mediterranean',\n",
       " 'Korean',\n",
       " 'Bottled beverages, including water, sodas, juices, etc.',\n",
       " 'Russian',\n",
       " 'Eastern European',\n",
       " 'Middle Eastern',\n",
       " 'Asian',\n",
       " 'Ethiopian',\n",
       " 'Vegetarian',\n",
       " 'Barbecue',\n",
       " 'Egyptian',\n",
       " 'English',\n",
       " 'Other',\n",
       " 'Sandwiches',\n",
       " 'Portuguese',\n",
       " 'Indonesian',\n",
       " 'Chinese/Japanese',\n",
       " 'Filipino',\n",
       " 'Juice, Smoothies, Fruit Salads',\n",
       " 'Brazilian',\n",
       " 'Afghan',\n",
       " 'Vietnamese/Cambodian/Malaysia',\n",
       " 'CafÃ©/Coffee/Tea',\n",
       " 'Soups & Sandwiches',\n",
       " 'Tapas',\n",
       " 'Moroccan',\n",
       " 'Pakistani',\n",
       " 'Peruvian',\n",
       " 'Bangladeshi',\n",
       " 'Czech',\n",
       " 'Salads',\n",
       " 'Creole',\n",
       " 'Fruits/Vegetables',\n",
       " 'Iranian',\n",
       " 'Cajun',\n",
       " 'Scandinavian',\n",
       " 'Polynesian',\n",
       " 'Soups',\n",
       " 'Australian',\n",
       " 'Hotdogs/Pretzels',\n",
       " 'Southwestern',\n",
       " 'Nuts/Confectionary',\n",
       " 'Hawaiian',\n",
       " 'Creole/Cajun',\n",
       " 'Californian',\n",
       " 'Chilean']"
      ]
     },
     "execution_count": 87,
     "metadata": {},
     "output_type": "execute_result"
    }
   ],
   "source": [
    "db.distinct(\"cuisine\")"
   ]
  },
  {
   "cell_type": "markdown",
   "metadata": {},
   "source": [
    "### 4. Lister les noms des restaurants, ainsi que leur quartier, ne proposant que des soupes (*cuisine* égale à *soups*)."
   ]
  },
  {
   "cell_type": "code",
   "execution_count": 88,
   "metadata": {
    "collapsed": false
   },
   "outputs": [
    {
     "name": "stdout",
     "output_type": "stream",
     "text": [
      "{'borough': 'Manhattan', 'name': 'Wichcraft Express'}\n",
      "{'borough': 'Staten Island', 'name': 'Original Soupman Of Staten Island'}\n",
      "{'borough': 'Manhattan', 'name': 'The Original Soupman'}\n",
      "{'borough': 'Manhattan', 'name': 'Peasant Stock'}\n"
     ]
    }
   ],
   "source": [
    "res = db.find({ \"cuisine\": \"Soups\" }, { \"_id\": 0, \"name\": 1, \"borough\": 1})\n",
    "affiche(res)"
   ]
  },
  {
   "cell_type": "markdown",
   "metadata": {},
   "source": [
    "### 5. Donner les nombre de restaurants ayant eu au moins une fois le *grade* (dans *grades*) `Z`."
   ]
  },
  {
   "cell_type": "code",
   "execution_count": 89,
   "metadata": {
    "collapsed": false
   },
   "outputs": [
    {
     "data": {
      "text/plain": [
       "1337"
      ]
     },
     "execution_count": 89,
     "metadata": {},
     "output_type": "execute_result"
    }
   ],
   "source": [
    "db.find({ \"grades.grade\": \"Z\"}).count()"
   ]
  },
  {
   "cell_type": "markdown",
   "metadata": {},
   "source": [
    "### 6. Calculer le nombre de restaurants pour chaque quartier"
   ]
  },
  {
   "cell_type": "code",
   "execution_count": 90,
   "metadata": {
    "collapsed": false
   },
   "outputs": [
    {
     "name": "stdout",
     "output_type": "stream",
     "text": [
      "{'_id': 'Missing', 'nb': 51}\n",
      "{'_id': 'Staten Island', 'nb': 969}\n",
      "{'_id': 'Manhattan', 'nb': 10259}\n",
      "{'_id': 'Bronx', 'nb': 2338}\n",
      "{'_id': 'Queens', 'nb': 5656}\n",
      "{'_id': 'Brooklyn', 'nb': 6086}\n"
     ]
    }
   ],
   "source": [
    "res = db.aggregate([ { \"$group\": { \"_id\": \"$borough\", \"nb\": { \"$sum\": 1 } } } ])\n",
    "affiche(res)"
   ]
  },
  {
   "cell_type": "markdown",
   "metadata": {},
   "source": [
    "### 7. Donner les cinq types de cuisine les plus présentes dans New-York (avec le plus de restaurants donc)"
   ]
  },
  {
   "cell_type": "code",
   "execution_count": 91,
   "metadata": {
    "collapsed": false
   },
   "outputs": [
    {
     "name": "stdout",
     "output_type": "stream",
     "text": [
      "{'_id': 'American ', 'nb': 6183}\n",
      "{'_id': 'Chinese', 'nb': 2418}\n",
      "{'_id': 'Café/Coffee/Tea', 'nb': 1214}\n",
      "{'_id': 'Pizza', 'nb': 1163}\n",
      "{'_id': 'Italian', 'nb': 1069}\n"
     ]
    }
   ],
   "source": [
    "res = db.aggregate([ \n",
    "    { \"$group\": { \"_id\": \"$cuisine\" , \"nb\" : { \"$sum\" : 1 } } },\n",
    "    { \"$sort\" : { \"nb\": - 1 } },\n",
    "    { \"$limit\" : 5 }\n",
    "])\n",
    "affiche(res)"
   ]
  },
  {
   "cell_type": "markdown",
   "metadata": {},
   "source": [
    "### 8. Pour chaque *grade* possible, donner le *score* moyen, minimum et maximum."
   ]
  },
  {
   "cell_type": "code",
   "execution_count": 92,
   "metadata": {
    "collapsed": false
   },
   "outputs": [
    {
     "name": "stdout",
     "output_type": "stream",
     "text": [
      "{'_id': 'P', 'max': 43, 'min': 0, 'moy': 5.506265664160401, 'nb': 1197}\n",
      "{'_id': 'C', 'max': 131, 'min': -1, 'moy': 30.70079491255962, 'nb': 3145}\n",
      "{'_id': 'Z', 'max': 71, 'min': -1, 'moy': 23.702318623784592, 'nb': 1337}\n",
      "{'_id': 'Not Yet Graded', 'max': 75, 'min': 0, 'moy': 15.853515625, 'nb': 525}\n",
      "{'_id': 'B', 'max': 57, 'min': -1, 'moy': 20.002459731809886, 'nb': 12603}\n",
      "{'_id': 'A', 'max': 27, 'min': 0, 'moy': 9.021954029147022, 'nb': 74656}\n"
     ]
    }
   ],
   "source": [
    "res = db.aggregate([\n",
    "    { \"$unwind\" : \"$grades\"},\n",
    "    { \"$group\" : { \n",
    "        \"_id\": \"$grades.grade\", \n",
    "        \"nb\" : { \"$sum\" : 1 },\n",
    "        \"moy\" : { \"$avg\" : \"$grades.score\" },\n",
    "        \"min\" : { \"$min\" : \"$grades.score\" },\n",
    "        \"max\" : { \"$max\" : \"$grades.score\" }\n",
    "    } }\n",
    "])\n",
    "affiche(res)"
   ]
  },
  {
   "cell_type": "markdown",
   "metadata": {
    "deletable": true,
    "editable": true
   },
   "source": [
    "### 9. Créer un `DataFrame` contenant les restaurants en ligne et en colonne le score moyen obtenu pour chaque *grade* possible. Si un restaurant n'a pas eu d'évaluation d'un *grade*, nous aurons une valeur absente."
   ]
  },
  {
   "cell_type": "code",
   "execution_count": 93,
   "metadata": {
    "collapsed": false
   },
   "outputs": [
    {
     "name": "stdout",
     "output_type": "stream",
     "text": [
      "{'_id': 'Subway', 'nb': 421}\n",
      "{'_id': 'Starbucks Coffee', 'nb': 223}\n",
      "{'_id': \"Mcdonald'S\", 'nb': 208}\n",
      "{'_id': \"Dunkin' Donuts\", 'nb': 206}\n",
      "{'_id': 'Dunkin Donuts', 'nb': 200}\n",
      "{'_id': '', 'nb': 151}\n",
      "{'_id': 'Kennedy Fried Chicken', 'nb': 88}\n",
      "{'_id': 'Crown Fried Chicken', 'nb': 81}\n",
      "{'_id': 'Burger King', 'nb': 80}\n",
      "{'_id': \"Domino'S Pizza\", 'nb': 67}\n"
     ]
    }
   ],
   "source": [
    "res = db.aggregate([\n",
    "    { \"$group\": { \"_id\": \"$name\", \"nb\": { \"$sum\": 1 } } },\n",
    "    { \"$sort\": { \"nb\": -1 } },\n",
    "    { \"$limit\": 10 }\n",
    "])\n",
    "affiche(res)"
   ]
  },
  {
   "cell_type": "code",
   "execution_count": 94,
   "metadata": {
    "collapsed": false
   },
   "outputs": [
    {
     "data": {
      "text/plain": [
       "[{'_id': {'grade': 'Not Yet Graded', 'num': '50018736'}, 'moy': 31.0},\n",
       " {'_id': {'grade': 'A', 'num': '50018705'}, 'moy': 2.0},\n",
       " {'_id': {'grade': 'Not Yet Graded', 'num': '50018704'}, 'moy': 34.0},\n",
       " {'_id': {'grade': 'Not Yet Graded', 'num': '50018661'}, 'moy': 2.0},\n",
       " {'_id': {'grade': 'Not Yet Graded', 'num': '50018547'}, 'moy': 29.0}]"
      ]
     },
     "execution_count": 94,
     "metadata": {},
     "output_type": "execute_result"
    }
   ],
   "source": [
    "res = db.aggregate([\n",
    "    { \"$unwind\" : \"$grades\"},\n",
    "    { \"$group\" : { \n",
    "        \"_id\": { \"num\": \"$restaurant_id\", \"grade\": \"$grades.grade\" }, \n",
    "        \"moy\" : { \"$avg\" : \"$grades.score\" }\n",
    "    } }\n",
    "])\n",
    "l = list(res)\n",
    "l[:5]"
   ]
  },
  {
   "cell_type": "code",
   "execution_count": 95,
   "metadata": {
    "collapsed": false
   },
   "outputs": [
    {
     "data": {
      "text/html": [
       "<div>\n",
       "<table border=\"1\" class=\"dataframe\">\n",
       "  <thead>\n",
       "    <tr style=\"text-align: right;\">\n",
       "      <th></th>\n",
       "      <th>grade</th>\n",
       "      <th>num</th>\n",
       "      <th>score</th>\n",
       "    </tr>\n",
       "  </thead>\n",
       "  <tbody>\n",
       "    <tr>\n",
       "      <th>0</th>\n",
       "      <td>Not Yet Graded</td>\n",
       "      <td>50018736</td>\n",
       "      <td>31.0</td>\n",
       "    </tr>\n",
       "    <tr>\n",
       "      <th>1</th>\n",
       "      <td>A</td>\n",
       "      <td>50018705</td>\n",
       "      <td>2.0</td>\n",
       "    </tr>\n",
       "    <tr>\n",
       "      <th>2</th>\n",
       "      <td>Not Yet Graded</td>\n",
       "      <td>50018704</td>\n",
       "      <td>34.0</td>\n",
       "    </tr>\n",
       "    <tr>\n",
       "      <th>3</th>\n",
       "      <td>Not Yet Graded</td>\n",
       "      <td>50018661</td>\n",
       "      <td>2.0</td>\n",
       "    </tr>\n",
       "    <tr>\n",
       "      <th>4</th>\n",
       "      <td>Not Yet Graded</td>\n",
       "      <td>50018547</td>\n",
       "      <td>29.0</td>\n",
       "    </tr>\n",
       "  </tbody>\n",
       "</table>\n",
       "</div>"
      ],
      "text/plain": [
       "            grade       num  score\n",
       "0  Not Yet Graded  50018736   31.0\n",
       "1               A  50018705    2.0\n",
       "2  Not Yet Graded  50018704   34.0\n",
       "3  Not Yet Graded  50018661    2.0\n",
       "4  Not Yet Graded  50018547   29.0"
      ]
     },
     "execution_count": 95,
     "metadata": {},
     "output_type": "execute_result"
    }
   ],
   "source": [
    "df = pandas.DataFrame({\n",
    "    \"num\"  : [r[\"_id\"][\"num\"] for r in l],\n",
    "    \"grade\": [r[\"_id\"][\"grade\"] for r in l],\n",
    "    \"score\": [r[\"moy\"] for r in l]\n",
    "})\n",
    "df.head()"
   ]
  },
  {
   "cell_type": "code",
   "execution_count": 96,
   "metadata": {
    "collapsed": false
   },
   "outputs": [
    {
     "data": {
      "text/html": [
       "<div>\n",
       "<table border=\"1\" class=\"dataframe\">\n",
       "  <thead>\n",
       "    <tr style=\"text-align: right;\">\n",
       "      <th>grade</th>\n",
       "      <th>A</th>\n",
       "      <th>B</th>\n",
       "      <th>C</th>\n",
       "      <th>Not Yet Graded</th>\n",
       "      <th>P</th>\n",
       "      <th>Z</th>\n",
       "    </tr>\n",
       "    <tr>\n",
       "      <th>num</th>\n",
       "      <th></th>\n",
       "      <th></th>\n",
       "      <th></th>\n",
       "      <th></th>\n",
       "      <th></th>\n",
       "      <th></th>\n",
       "    </tr>\n",
       "  </thead>\n",
       "  <tbody>\n",
       "    <tr>\n",
       "      <th>30075445</th>\n",
       "      <td>6.750000</td>\n",
       "      <td>14.0</td>\n",
       "      <td>NaN</td>\n",
       "      <td>NaN</td>\n",
       "      <td>NaN</td>\n",
       "      <td>NaN</td>\n",
       "    </tr>\n",
       "    <tr>\n",
       "      <th>30112340</th>\n",
       "      <td>10.666667</td>\n",
       "      <td>23.0</td>\n",
       "      <td>NaN</td>\n",
       "      <td>NaN</td>\n",
       "      <td>NaN</td>\n",
       "      <td>NaN</td>\n",
       "    </tr>\n",
       "    <tr>\n",
       "      <th>30191841</th>\n",
       "      <td>9.250000</td>\n",
       "      <td>NaN</td>\n",
       "      <td>NaN</td>\n",
       "      <td>NaN</td>\n",
       "      <td>NaN</td>\n",
       "      <td>NaN</td>\n",
       "    </tr>\n",
       "    <tr>\n",
       "      <th>40356018</th>\n",
       "      <td>9.000000</td>\n",
       "      <td>NaN</td>\n",
       "      <td>NaN</td>\n",
       "      <td>NaN</td>\n",
       "      <td>NaN</td>\n",
       "      <td>NaN</td>\n",
       "    </tr>\n",
       "    <tr>\n",
       "      <th>40356068</th>\n",
       "      <td>13.000000</td>\n",
       "      <td>25.0</td>\n",
       "      <td>NaN</td>\n",
       "      <td>NaN</td>\n",
       "      <td>NaN</td>\n",
       "      <td>20.0</td>\n",
       "    </tr>\n",
       "  </tbody>\n",
       "</table>\n",
       "</div>"
      ],
      "text/plain": [
       "grade             A     B   C  Not Yet Graded   P     Z\n",
       "num                                                    \n",
       "30075445   6.750000  14.0 NaN             NaN NaN   NaN\n",
       "30112340  10.666667  23.0 NaN             NaN NaN   NaN\n",
       "30191841   9.250000   NaN NaN             NaN NaN   NaN\n",
       "40356018   9.000000   NaN NaN             NaN NaN   NaN\n",
       "40356068  13.000000  25.0 NaN             NaN NaN  20.0"
      ]
     },
     "execution_count": 96,
     "metadata": {},
     "output_type": "execute_result"
    }
   ],
   "source": [
    "dfbis = df.pivot(index = \"num\", columns = \"grade\", values = \"score\")\n",
    "dfbis.head()"
   ]
  },
  {
   "cell_type": "code",
   "execution_count": 97,
   "metadata": {
    "collapsed": false
   },
   "outputs": [
    {
     "data": {
      "text/plain": [
       "(24621, 6)"
      ]
     },
     "execution_count": 97,
     "metadata": {},
     "output_type": "execute_result"
    }
   ],
   "source": [
    "dfbis.shape"
   ]
  },
  {
   "cell_type": "code",
   "execution_count": 98,
   "metadata": {
    "collapsed": false
   },
   "outputs": [
    {
     "data": {
      "text/plain": [
       "grade\n",
       "A                 23440\n",
       "B                  8280\n",
       "C                  2708\n",
       "Not Yet Graded      512\n",
       "P                  1154\n",
       "Z                  1337\n",
       "dtype: int64"
      ]
     },
     "execution_count": 98,
     "metadata": {},
     "output_type": "execute_result"
    }
   ],
   "source": [
    "dfbis.count()"
   ]
  },
  {
   "cell_type": "code",
   "execution_count": null,
   "metadata": {
    "collapsed": true
   },
   "outputs": [],
   "source": []
  }
 ],
 "metadata": {
  "kernelspec": {
   "display_name": "Python 3",
   "language": "python",
   "name": "python3"
  },
  "language_info": {
   "codemirror_mode": {
    "name": "ipython",
    "version": 3
   },
   "file_extension": ".py",
   "mimetype": "text/x-python",
   "name": "python",
   "nbconvert_exporter": "python",
   "pygments_lexer": "ipython3",
   "version": "3.6.0"
  }
 },
 "nbformat": 4,
 "nbformat_minor": 2
}
