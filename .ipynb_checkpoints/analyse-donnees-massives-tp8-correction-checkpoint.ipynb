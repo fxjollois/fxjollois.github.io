{
 "cells": [
  {
   "cell_type": "markdown",
   "metadata": {
    "deletable": true,
    "editable": true
   },
   "source": [
    "# TP8 - Données du projet - *correction*\n",
    "\n",
    "#### Analyse de Données Massives - Master 1ère année\n"
   ]
  },
  {
   "cell_type": "code",
   "execution_count": 1,
   "metadata": {
    "collapsed": true,
    "deletable": true,
    "editable": true
   },
   "outputs": [],
   "source": [
    "import pymongo\n",
    "import pandas\n",
    "from pprint import pprint\n",
    "import seaborn\n",
    "%matplotlib inline"
   ]
  },
  {
   "cell_type": "code",
   "execution_count": 2,
   "metadata": {
    "collapsed": false,
    "deletable": true,
    "editable": true
   },
   "outputs": [],
   "source": [
    "con = pymongo.MongoClient(\"mongodb://193.51.82.104:2343/\")\n",
    "horo = con.horodateurs"
   ]
  },
  {
   "cell_type": "markdown",
   "metadata": {
    "deletable": true,
    "editable": true
   },
   "source": [
    "## Mobiliers\n",
    "\n",
    "### 1. Donner les différents types d'alimentation possible (`alim`) et le nombre d'horodateurs pour chaque. "
   ]
  },
  {
   "cell_type": "code",
   "execution_count": 3,
   "metadata": {
    "collapsed": false,
    "deletable": true,
    "editable": true
   },
   "outputs": [
    {
     "name": "stdout",
     "output_type": "stream",
     "text": [
      "[{'_id': None, 'nb': 8},\n",
      " {'_id': 'PILE', 'nb': 2994},\n",
      " {'_id': 'SOLAIRE', 'nb': 4808}]\n"
     ]
    }
   ],
   "source": [
    "res = list(horo.mobiliers.aggregate([\n",
    "    { \"$group\" : { \"_id\" : \"$fields.alim\", \"nb\" : { \"$sum\" : 1}}}\n",
    "]))\n",
    "pprint(res)"
   ]
  },
  {
   "cell_type": "code",
   "execution_count": 4,
   "metadata": {
    "collapsed": false,
    "deletable": true,
    "editable": true
   },
   "outputs": [
    {
     "data": {
      "text/html": [
       "<div>\n",
       "<table border=\"1\" class=\"dataframe\">\n",
       "  <thead>\n",
       "    <tr style=\"text-align: right;\">\n",
       "      <th></th>\n",
       "      <th>Alimentation</th>\n",
       "      <th>Effectif</th>\n",
       "    </tr>\n",
       "  </thead>\n",
       "  <tbody>\n",
       "    <tr>\n",
       "      <th>0</th>\n",
       "      <td>None</td>\n",
       "      <td>8</td>\n",
       "    </tr>\n",
       "    <tr>\n",
       "      <th>1</th>\n",
       "      <td>PILE</td>\n",
       "      <td>2994</td>\n",
       "    </tr>\n",
       "    <tr>\n",
       "      <th>2</th>\n",
       "      <td>SOLAIRE</td>\n",
       "      <td>4808</td>\n",
       "    </tr>\n",
       "  </tbody>\n",
       "</table>\n",
       "</div>"
      ],
      "text/plain": [
       "  Alimentation  Effectif\n",
       "0         None         8\n",
       "1         PILE      2994\n",
       "2      SOLAIRE      4808"
      ]
     },
     "execution_count": 4,
     "metadata": {},
     "output_type": "execute_result"
    }
   ],
   "source": [
    "df = pandas.DataFrame(res) \n",
    "df.columns = [\"Alimentation\", \"Effectif\"]\n",
    "df"
   ]
  },
  {
   "cell_type": "code",
   "execution_count": 5,
   "metadata": {
    "collapsed": false,
    "deletable": true,
    "editable": true
   },
   "outputs": [
    {
     "data": {
      "text/plain": [
       "<seaborn.axisgrid.FacetGrid at 0x100769588>"
      ]
     },
     "execution_count": 5,
     "metadata": {},
     "output_type": "execute_result"
    },
    {
     "data": {
      "image/png": "[encoded data removed]",
      "text/plain": [
       "<matplotlib.figure.Figure at 0x108df7470>"
      ]
     },
     "metadata": {},
     "output_type": "display_data"
    }
   ],
   "source": [
    "seaborn.factorplot(x = \"Alimentation\", y = \"Effectif\", data = df, kind = \"bar\")"
   ]
  },
  {
   "cell_type": "markdown",
   "metadata": {
    "deletable": true,
    "editable": true
   },
   "source": [
    "### 2. Donner le nombre de mobiliers pour chaque arrondissement (`arrondt`)"
   ]
  },
  {
   "cell_type": "code",
   "execution_count": 6,
   "metadata": {
    "collapsed": true,
    "deletable": true,
    "editable": true
   },
   "outputs": [],
   "source": [
    "res = list(horo.mobiliers.aggregate([\n",
    "    { \"$group\" : { \"_id\" : \"$fields.arrondt\", \"nb\" : { \"$sum\" : 1}}},\n",
    "    { \"$sort\" : { \"_id\": 1}}\n",
    "]))"
   ]
  },
  {
   "cell_type": "code",
   "execution_count": 7,
   "metadata": {
    "collapsed": true,
    "deletable": true,
    "editable": true
   },
   "outputs": [],
   "source": [
    "df = pandas.DataFrame(res) \n",
    "df.columns = [\"Arrondissement\", \"Effectif\"]"
   ]
  },
  {
   "cell_type": "code",
   "execution_count": 8,
   "metadata": {
    "collapsed": false,
    "deletable": true,
    "editable": true
   },
   "outputs": [
    {
     "data": {
      "text/plain": [
       "<seaborn.axisgrid.FacetGrid at 0x108ec2198>"
      ]
     },
     "execution_count": 8,
     "metadata": {},
     "output_type": "execute_result"
    },
    {
     "data": {
      "image/png": "[encoded data removed]",
      "text/plain": [
       "<matplotlib.figure.Figure at 0x108e5fa58>"
      ]
     },
     "metadata": {},
     "output_type": "display_data"
    }
   ],
   "source": [
    "seaborn.factorplot(x = \"Arrondissement\", y = \"Effectif\", color = \"orange\",\n",
    "                   data = df, kind = \"bar\", size = 3, aspect = 4)"
   ]
  },
  {
   "cell_type": "markdown",
   "metadata": {
    "deletable": true,
    "editable": true
   },
   "source": [
    "### 3. Lister l'ensemble des modèles existants (`modele`)"
   ]
  },
  {
   "cell_type": "code",
   "execution_count": 9,
   "metadata": {
    "collapsed": false,
    "deletable": true,
    "editable": true
   },
   "outputs": [
    {
     "data": {
      "text/plain": [
       "['SAB3', 'SMB2', 'MUI']"
      ]
     },
     "execution_count": 9,
     "metadata": {},
     "output_type": "execute_result"
    }
   ],
   "source": [
    "horo.mobiliers.distinct(\"fields.modele\")"
   ]
  },
  {
   "cell_type": "code",
   "execution_count": 10,
   "metadata": {
    "collapsed": true,
    "deletable": true,
    "editable": true
   },
   "outputs": [],
   "source": [
    "res = list(horo.mobiliers.aggregate([\n",
    "    { \"$group\" : { \"_id\" : \"$fields.modele\", \"nb\" : { \"$sum\" : 1}}},\n",
    "    { \"$sort\" : { \"nb\": -1}}\n",
    "]))"
   ]
  },
  {
   "cell_type": "code",
   "execution_count": 11,
   "metadata": {
    "collapsed": true,
    "deletable": true,
    "editable": true
   },
   "outputs": [],
   "source": [
    "df = pandas.DataFrame(res) \n",
    "df.columns = [\"Modèle\", \"Effectif\"]"
   ]
  },
  {
   "cell_type": "code",
   "execution_count": 12,
   "metadata": {
    "collapsed": false,
    "deletable": true,
    "editable": true
   },
   "outputs": [
    {
     "data": {
      "text/plain": [
       "<seaborn.axisgrid.FacetGrid at 0x108e7a6a0>"
      ]
     },
     "execution_count": 12,
     "metadata": {},
     "output_type": "execute_result"
    },
    {
     "data": {
      "image/png": "[encoded data removed]",
      "text/plain": [
       "<matplotlib.figure.Figure at 0x108d7dda0>"
      ]
     },
     "metadata": {},
     "output_type": "display_data"
    }
   ],
   "source": [
    "seaborn.factorplot(y = \"Modèle\", x = \"Effectif\", color = \"seagreen\",\n",
    "                   data = df, kind = \"bar\", size = 3, aspect = 4)"
   ]
  },
  {
   "cell_type": "markdown",
   "metadata": {
    "deletable": true,
    "editable": true
   },
   "source": [
    "### 4. Croiser le régime (`regime`) et les arrondissements pour voir s'il y a des différences notables"
   ]
  },
  {
   "cell_type": "code",
   "execution_count": 13,
   "metadata": {
    "collapsed": false,
    "deletable": true,
    "editable": true,
    "scrolled": true
   },
   "outputs": [
    {
     "data": {
      "text/html": [
       "<div>\n",
       "<table border=\"1\" class=\"dataframe\">\n",
       "  <thead>\n",
       "    <tr style=\"text-align: right;\">\n",
       "      <th></th>\n",
       "      <th>arrondissement</th>\n",
       "      <th>effectif</th>\n",
       "      <th>regime</th>\n",
       "    </tr>\n",
       "  </thead>\n",
       "  <tbody>\n",
       "    <tr>\n",
       "      <th>0</th>\n",
       "      <td>1</td>\n",
       "      <td>24</td>\n",
       "      <td>ROT</td>\n",
       "    </tr>\n",
       "    <tr>\n",
       "      <th>1</th>\n",
       "      <td>1</td>\n",
       "      <td>63</td>\n",
       "      <td>MIX</td>\n",
       "    </tr>\n",
       "    <tr>\n",
       "      <th>2</th>\n",
       "      <td>2</td>\n",
       "      <td>18</td>\n",
       "      <td>ROT</td>\n",
       "    </tr>\n",
       "    <tr>\n",
       "      <th>3</th>\n",
       "      <td>2</td>\n",
       "      <td>49</td>\n",
       "      <td>MIX</td>\n",
       "    </tr>\n",
       "    <tr>\n",
       "      <th>4</th>\n",
       "      <td>3</td>\n",
       "      <td>82</td>\n",
       "      <td>MIX</td>\n",
       "    </tr>\n",
       "  </tbody>\n",
       "</table>\n",
       "</div>"
      ],
      "text/plain": [
       "   arrondissement  effectif regime\n",
       "0               1        24    ROT\n",
       "1               1        63    MIX\n",
       "2               2        18    ROT\n",
       "3               2        49    MIX\n",
       "4               3        82    MIX"
      ]
     },
     "execution_count": 13,
     "metadata": {},
     "output_type": "execute_result"
    }
   ],
   "source": [
    "res = list(horo.mobiliers.aggregate([\n",
    "    { \"$group\" : { \"_id\" : { \"reg\" : \"$fields.regime\", \"arr\" : \"$fields.arrondt\"}, \"nb\" : { \"$sum\" : 1}}},\n",
    "    { \"$project\": { \"regime\" : \"$_id.reg\", \"arrondissement\" : \"$_id.arr\", \"effectif\" : \"$nb\" }},\n",
    "    { \"$sort\" : { \"arrondissement\" : 1}}\n",
    "]))\n",
    "df = pandas.DataFrame(res).drop(\"_id\", 1)\n",
    "df.head()"
   ]
  },
  {
   "cell_type": "code",
   "execution_count": 14,
   "metadata": {
    "collapsed": false,
    "deletable": true,
    "editable": true
   },
   "outputs": [
    {
     "data": {
      "text/plain": [
       "<seaborn.axisgrid.FacetGrid at 0x10938b240>"
      ]
     },
     "execution_count": 14,
     "metadata": {},
     "output_type": "execute_result"
    },
    {
     "data": {
      "image/png": "[encoded data removed]",
      "text/plain": [
       "<matplotlib.figure.Figure at 0x10938beb8>"
      ]
     },
     "metadata": {},
     "output_type": "display_data"
    }
   ],
   "source": [
    "seaborn.factorplot(x = \"regime\", y = \"effectif\",\n",
    "                   col = \"arrondissement\", col_wrap = 10,\n",
    "                   data = df, kind = \"bar\", size = 6)"
   ]
  },
  {
   "cell_type": "code",
   "execution_count": 15,
   "metadata": {
    "collapsed": false,
    "deletable": true,
    "editable": true
   },
   "outputs": [
    {
     "data": {
      "text/plain": [
       "<seaborn.axisgrid.FacetGrid at 0x10ad91c18>"
      ]
     },
     "execution_count": 15,
     "metadata": {},
     "output_type": "execute_result"
    },
    {
     "data": {
      "image/png": "[encoded data removed]",
      "text/plain": [
       "<matplotlib.figure.Figure at 0x10ad91978>"
      ]
     },
     "metadata": {},
     "output_type": "display_data"
    }
   ],
   "source": [
    "t = pandas.crosstab(df.regime, df.arrondissement, df.effectif, normalize = \"columns\", aggfunc = sum)\n",
    "t = t.assign(regime = t.index)\n",
    "tm = pandas.melt(t, id_vars = \"regime\")\n",
    "tm = tm.assign(value = 100 * tm.value)\n",
    "\n",
    "seaborn.factorplot(x = \"regime\", y = \"value\", \n",
    "                   col = \"arrondissement\", col_wrap = 5, \n",
    "                   data = tm, kind = \"bar\", size = 3)"
   ]
  },
  {
   "cell_type": "markdown",
   "metadata": {
    "deletable": true,
    "editable": true
   },
   "source": [
    "### 5. Idem avec le tarif horaire (`tarifhor`)"
   ]
  },
  {
   "cell_type": "code",
   "execution_count": 16,
   "metadata": {
    "collapsed": false,
    "deletable": true,
    "editable": true,
    "scrolled": true
   },
   "outputs": [
    {
     "data": {
      "text/html": [
       "<div>\n",
       "<table border=\"1\" class=\"dataframe\">\n",
       "  <thead>\n",
       "    <tr style=\"text-align: right;\">\n",
       "      <th></th>\n",
       "      <th>arrondissement</th>\n",
       "      <th>effectif</th>\n",
       "      <th>tarif</th>\n",
       "    </tr>\n",
       "  </thead>\n",
       "  <tbody>\n",
       "    <tr>\n",
       "      <th>0</th>\n",
       "      <td>1</td>\n",
       "      <td>87</td>\n",
       "      <td>4.0</td>\n",
       "    </tr>\n",
       "    <tr>\n",
       "      <th>1</th>\n",
       "      <td>2</td>\n",
       "      <td>67</td>\n",
       "      <td>4.0</td>\n",
       "    </tr>\n",
       "    <tr>\n",
       "      <th>2</th>\n",
       "      <td>3</td>\n",
       "      <td>133</td>\n",
       "      <td>4.0</td>\n",
       "    </tr>\n",
       "    <tr>\n",
       "      <th>3</th>\n",
       "      <td>4</td>\n",
       "      <td>135</td>\n",
       "      <td>4.0</td>\n",
       "    </tr>\n",
       "    <tr>\n",
       "      <th>4</th>\n",
       "      <td>5</td>\n",
       "      <td>267</td>\n",
       "      <td>4.0</td>\n",
       "    </tr>\n",
       "  </tbody>\n",
       "</table>\n",
       "</div>"
      ],
      "text/plain": [
       "   arrondissement  effectif  tarif\n",
       "0               1        87    4.0\n",
       "1               2        67    4.0\n",
       "2               3       133    4.0\n",
       "3               4       135    4.0\n",
       "4               5       267    4.0"
      ]
     },
     "execution_count": 16,
     "metadata": {},
     "output_type": "execute_result"
    }
   ],
   "source": [
    "res = list(horo.mobiliers.aggregate([\n",
    "    { \"$group\" : { \"_id\" : { \"tar\" : \"$fields.tarifhor\", \"arr\" : \"$fields.arrondt\"}, \"nb\" : { \"$sum\" : 1}}},\n",
    "    { \"$project\": { \"tarif\" : \"$_id.tar\", \"arrondissement\" : \"$_id.arr\", \"effectif\" : \"$nb\" }},\n",
    "    { \"$sort\" : { \"arrondissement\" : 1}}\n",
    "]))\n",
    "df = pandas.DataFrame(res).drop(\"_id\", 1)\n",
    "df.head()"
   ]
  },
  {
   "cell_type": "code",
   "execution_count": 17,
   "metadata": {
    "collapsed": false,
    "deletable": true,
    "editable": true
   },
   "outputs": [
    {
     "data": {
      "text/plain": [
       "<seaborn.axisgrid.FacetGrid at 0x109292198>"
      ]
     },
     "execution_count": 17,
     "metadata": {},
     "output_type": "execute_result"
    },
    {
     "data": {
      "image/png": "[encoded data removed]",
      "text/plain": [
       "<matplotlib.figure.Figure at 0x10922db38>"
      ]
     },
     "metadata": {},
     "output_type": "display_data"
    }
   ],
   "source": [
    "seaborn.factorplot(x = \"tarif\", y = \"effectif\",\n",
    "                   col = \"arrondissement\", col_wrap = 10,\n",
    "                   data = df, kind = \"bar\", size = 6)"
   ]
  },
  {
   "cell_type": "markdown",
   "metadata": {
    "deletable": true,
    "editable": true
   },
   "source": [
    "## Transactions\n",
    "\n",
    "### 1. Donner la distribution des montants payés (`montant carte`) et des durées payées (`durée payée (h)`)"
   ]
  },
  {
   "cell_type": "code",
   "execution_count": 18,
   "metadata": {
    "collapsed": true,
    "deletable": true,
    "editable": true
   },
   "outputs": [],
   "source": [
    "res = list(horo.transactions_small.find({}, {\"_id\": 0, \"montant carte\" : 1}))"
   ]
  },
  {
   "cell_type": "code",
   "execution_count": 19,
   "metadata": {
    "collapsed": false,
    "deletable": true,
    "editable": true
   },
   "outputs": [],
   "source": [
    "df = pandas.DataFrame(res)"
   ]
  },
  {
   "cell_type": "code",
   "execution_count": 20,
   "metadata": {
    "collapsed": false,
    "deletable": true,
    "editable": true
   },
   "outputs": [
    {
     "data": {
      "text/plain": [
       "<matplotlib.axes._subplots.AxesSubplot at 0x10cc27240>"
      ]
     },
     "execution_count": 20,
     "metadata": {},
     "output_type": "execute_result"
    },
    {
     "data": {
      "image/png": "[encoded data removed]",
      "text/plain": [
       "<matplotlib.figure.Figure at 0x10cc27da0>"
      ]
     },
     "metadata": {},
     "output_type": "display_data"
    }
   ],
   "source": [
    "seaborn.distplot(df[\"montant carte\"])"
   ]
  },
  {
   "cell_type": "code",
   "execution_count": 21,
   "metadata": {
    "collapsed": false,
    "deletable": true,
    "editable": true
   },
   "outputs": [
    {
     "data": {
      "text/plain": [
       "<matplotlib.axes._subplots.AxesSubplot at 0x1121c82e8>"
      ]
     },
     "execution_count": 21,
     "metadata": {},
     "output_type": "execute_result"
    },
    {
     "data": {
      "image/png": "[encoded data removed]",
      "text/plain": [
       "<matplotlib.figure.Figure at 0x10eab3748>"
      ]
     },
     "metadata": {},
     "output_type": "display_data"
    }
   ],
   "source": [
    "seaborn.boxplot(x = \"montant carte\", data = df)"
   ]
  },
  {
   "cell_type": "code",
   "execution_count": 22,
   "metadata": {
    "collapsed": false,
    "deletable": true,
    "editable": true
   },
   "outputs": [
    {
     "data": {
      "text/plain": [
       "<matplotlib.axes._subplots.AxesSubplot at 0x112123748>"
      ]
     },
     "execution_count": 22,
     "metadata": {},
     "output_type": "execute_result"
    },
    {
     "data": {
      "image/png": "[encoded data removed]",
      "text/plain": [
       "<matplotlib.figure.Figure at 0x1126bbba8>"
      ]
     },
     "metadata": {},
     "output_type": "display_data"
    }
   ],
   "source": [
    "seaborn.violinplot(x = \"montant carte\", data = df)"
   ]
  },
  {
   "cell_type": "markdown",
   "metadata": {
    "deletable": true,
    "editable": true
   },
   "source": [
    "### 2. Lister les différents moyens de paiements utilisés (`moyen de paiement`) et le type d'usager (`usager`), en ordonnant chaque table résultat par ordre décroissant du nombre de paiements"
   ]
  },
  {
   "cell_type": "code",
   "execution_count": 31,
   "metadata": {
    "collapsed": false,
    "deletable": true,
    "editable": true
   },
   "outputs": [
    {
     "name": "stdout",
     "output_type": "stream",
     "text": [
      "           _id        nb\n",
      "0  Paris Carte  13181015\n",
      "1           CB  11267015\n"
     ]
    }
   ],
   "source": [
    "res = list(horo.transactions.aggregate([\n",
    "    { \"$group\" : { \"_id\" : \"$moyen de paiement\", \"nb\" : { \"$sum\" : 1}}},\n",
    "    { \"$sort\" : { \"nb\" : -1 }}\n",
    "]))\n",
    "pprint(pandas.DataFrame(res))"
   ]
  },
  {
   "cell_type": "code",
   "execution_count": 32,
   "metadata": {
    "collapsed": false,
    "deletable": true,
    "editable": true
   },
   "outputs": [
    {
     "name": "stdout",
     "output_type": "stream",
     "text": [
      "        _id        nb\n",
      "0   Rotatif  19033897\n",
      "1  Résident   5414133\n"
     ]
    }
   ],
   "source": [
    "res = list(horo.transactions.aggregate([\n",
    "    { \"$group\" : { \"_id\" : \"$usager\", \"nb\" : { \"$sum\" : 1}}},\n",
    "    { \"$sort\" : { \"nb\" : -1 }}\n",
    "]))\n",
    "pprint(pandas.DataFrame(res))"
   ]
  },
  {
   "cell_type": "markdown",
   "metadata": {
    "deletable": true,
    "editable": true
   },
   "source": [
    "### 3. Déterminer s'il existe un lien entre le moyen de paiement, et le montant d'une part et la durée d'autre part"
   ]
  },
  {
   "cell_type": "code",
   "execution_count": 33,
   "metadata": {
    "collapsed": false,
    "deletable": true,
    "editable": true
   },
   "outputs": [
    {
     "name": "stdout",
     "output_type": "stream",
     "text": [
      "           _id   montant\n",
      "0           CB  3.007229\n",
      "1  Paris Carte  2.161537\n"
     ]
    }
   ],
   "source": [
    "res = list(horo.transactions_small.aggregate([\n",
    "    { \"$group\" : { \"_id\" : \"$moyen de paiement\", \"montant\" : { \"$avg\" : \"$montant carte\"}}},\n",
    "    { \"$sort\" : { \"nb\" : -1 }}\n",
    "]))\n",
    "pprint(pandas.DataFrame(res))"
   ]
  },
  {
   "cell_type": "code",
   "execution_count": 34,
   "metadata": {
    "collapsed": false,
    "deletable": true,
    "editable": true
   },
   "outputs": [
    {
     "name": "stdout",
     "output_type": "stream",
     "text": [
      "           _id     durée\n",
      "0           CB  8.254365\n",
      "1  Paris Carte  8.261151\n"
     ]
    }
   ],
   "source": [
    "res = list(horo.transactions_small.aggregate([\n",
    "    { \"$group\" : { \"_id\" : \"$moyen de paiement\", \"durée\" : { \"$avg\" : \"$durée payée (h)\"}}},\n",
    "    { \"$sort\" : { \"nb\" : -1 }}\n",
    "]))\n",
    "pprint(pandas.DataFrame(res))"
   ]
  },
  {
   "cell_type": "markdown",
   "metadata": {
    "deletable": true,
    "editable": true
   },
   "source": [
    "## Jointures\n",
    "\n",
    "### 1. Calculer le nombre de transactions par arrondissement"
   ]
  },
  {
   "cell_type": "code",
   "execution_count": 136,
   "metadata": {
    "collapsed": false,
    "deletable": true,
    "editable": true
   },
   "outputs": [
    {
     "name": "stdout",
     "output_type": "stream",
     "text": [
      "[{'_id': 1, 'nb': 2539},\n",
      " {'_id': 6, 'nb': 6784},\n",
      " {'_id': 3, 'nb': 4250},\n",
      " {'_id': 11, 'nb': 12309},\n",
      " {'_id': 12, 'nb': 15746},\n",
      " {'_id': 10, 'nb': 5487},\n",
      " {'_id': 14, 'nb': 16671},\n",
      " {'_id': 2, 'nb': 1787},\n",
      " {'_id': 15, 'nb': 24863},\n",
      " {'_id': 17, 'nb': 20413},\n",
      " {'_id': 4, 'nb': 3884},\n",
      " {'_id': 7, 'nb': 12024},\n",
      " {'_id': 19, 'nb': 11146},\n",
      " {'_id': 13, 'nb': 20889},\n",
      " {'_id': 5, 'nb': 9005},\n",
      " {'_id': 8, 'nb': 15113},\n",
      " {'_id': 18, 'nb': 11235},\n",
      " {'_id': 20, 'nb': 12647},\n",
      " {'_id': 9, 'nb': 8021},\n",
      " {'_id': 16, 'nb': 27718}]\n"
     ]
    }
   ],
   "source": [
    "res = list(horo.mobiliers.aggregate([\n",
    "#    { \"$limit\" : 100 },\n",
    "    { \"$lookup\": {\n",
    "        \"from\": \"transactions_small\",\n",
    "        \"localField\": \"fields.numhoro\",\n",
    "        \"foreignField\": \"horodateur\",\n",
    "        \"as\": \"transactions\"\n",
    "    }},\n",
    "    { \"$project\" : { \"Arrondissement\" : \"$fields.arrondt\", \"Nb\" : { \"$size\" : \"$transactions\" }, \"_id\" : 0}},\n",
    "    { \"$group\" : { \"_id\" : \"$Arrondissement\", \"nb\" : { \"$sum\" : \"$Nb\" }}}\n",
    "]))\n",
    "pprint(res)"
   ]
  },
  {
   "cell_type": "code",
   "execution_count": 64,
   "metadata": {
    "collapsed": false,
    "deletable": true,
    "editable": true
   },
   "outputs": [
    {
     "name": "stdout",
     "output_type": "stream",
     "text": [
      "[{'_id': 6, 'nb': 20},\n",
      " {'_id': 3, 'nb': 36},\n",
      " {'_id': 11, 'nb': 168},\n",
      " {'_id': 12, 'nb': 115},\n",
      " {'_id': 10, 'nb': 248},\n",
      " {'_id': 14, 'nb': 141},\n",
      " {'_id': 15, 'nb': 306},\n",
      " {'_id': 17, 'nb': 261},\n",
      " {'_id': 4, 'nb': 43},\n",
      " {'_id': 19, 'nb': 260},\n",
      " {'_id': 13, 'nb': 328},\n",
      " {'_id': 5, 'nb': 164},\n",
      " {'_id': 8, 'nb': 116},\n",
      " {'_id': 18, 'nb': 176},\n",
      " {'_id': 20, 'nb': 211},\n",
      " {'_id': 9, 'nb': 123},\n",
      " {'_id': 16, 'nb': 425}]\n"
     ]
    }
   ],
   "source": [
    "res = list(horo.mobiliers.aggregate([\n",
    "#    { \"$limit\" : 100 },\n",
    "    { \"$lookup\": {\n",
    "        \"from\": \"transactions_small\",\n",
    "        \"localField\": \"fields.numhoro\",\n",
    "        \"foreignField\": \"horodateur\",\n",
    "        \"as\": \"transactions\"\n",
    "    }},\n",
    "    { \"$unwind\" : \"$transactions\" },\n",
    "    { \"$group\" : { \"_id\" : \"$fields.arrondt\", \"nb\" : { \"$sum\" : 1 }}}\n",
    "]))\n",
    "pprint(res)"
   ]
  },
  {
   "cell_type": "code",
   "execution_count": 137,
   "metadata": {
    "collapsed": false
   },
   "outputs": [
    {
     "data": {
      "text/html": [
       "<div>\n",
       "<table border=\"1\" class=\"dataframe\">\n",
       "  <thead>\n",
       "    <tr style=\"text-align: right;\">\n",
       "      <th></th>\n",
       "      <th>index</th>\n",
       "      <th>Arrondissement</th>\n",
       "      <th>NbTransactions</th>\n",
       "    </tr>\n",
       "  </thead>\n",
       "  <tbody>\n",
       "    <tr>\n",
       "      <th>0</th>\n",
       "      <td>0</td>\n",
       "      <td>1</td>\n",
       "      <td>2539</td>\n",
       "    </tr>\n",
       "    <tr>\n",
       "      <th>1</th>\n",
       "      <td>7</td>\n",
       "      <td>2</td>\n",
       "      <td>1787</td>\n",
       "    </tr>\n",
       "    <tr>\n",
       "      <th>2</th>\n",
       "      <td>2</td>\n",
       "      <td>3</td>\n",
       "      <td>4250</td>\n",
       "    </tr>\n",
       "    <tr>\n",
       "      <th>3</th>\n",
       "      <td>10</td>\n",
       "      <td>4</td>\n",
       "      <td>3884</td>\n",
       "    </tr>\n",
       "    <tr>\n",
       "      <th>4</th>\n",
       "      <td>14</td>\n",
       "      <td>5</td>\n",
       "      <td>9005</td>\n",
       "    </tr>\n",
       "    <tr>\n",
       "      <th>5</th>\n",
       "      <td>1</td>\n",
       "      <td>6</td>\n",
       "      <td>6784</td>\n",
       "    </tr>\n",
       "    <tr>\n",
       "      <th>6</th>\n",
       "      <td>11</td>\n",
       "      <td>7</td>\n",
       "      <td>12024</td>\n",
       "    </tr>\n",
       "    <tr>\n",
       "      <th>7</th>\n",
       "      <td>15</td>\n",
       "      <td>8</td>\n",
       "      <td>15113</td>\n",
       "    </tr>\n",
       "    <tr>\n",
       "      <th>8</th>\n",
       "      <td>18</td>\n",
       "      <td>9</td>\n",
       "      <td>8021</td>\n",
       "    </tr>\n",
       "    <tr>\n",
       "      <th>9</th>\n",
       "      <td>5</td>\n",
       "      <td>10</td>\n",
       "      <td>5487</td>\n",
       "    </tr>\n",
       "    <tr>\n",
       "      <th>10</th>\n",
       "      <td>3</td>\n",
       "      <td>11</td>\n",
       "      <td>12309</td>\n",
       "    </tr>\n",
       "    <tr>\n",
       "      <th>11</th>\n",
       "      <td>4</td>\n",
       "      <td>12</td>\n",
       "      <td>15746</td>\n",
       "    </tr>\n",
       "    <tr>\n",
       "      <th>12</th>\n",
       "      <td>13</td>\n",
       "      <td>13</td>\n",
       "      <td>20889</td>\n",
       "    </tr>\n",
       "    <tr>\n",
       "      <th>13</th>\n",
       "      <td>6</td>\n",
       "      <td>14</td>\n",
       "      <td>16671</td>\n",
       "    </tr>\n",
       "    <tr>\n",
       "      <th>14</th>\n",
       "      <td>8</td>\n",
       "      <td>15</td>\n",
       "      <td>24863</td>\n",
       "    </tr>\n",
       "    <tr>\n",
       "      <th>15</th>\n",
       "      <td>19</td>\n",
       "      <td>16</td>\n",
       "      <td>27718</td>\n",
       "    </tr>\n",
       "    <tr>\n",
       "      <th>16</th>\n",
       "      <td>9</td>\n",
       "      <td>17</td>\n",
       "      <td>20413</td>\n",
       "    </tr>\n",
       "    <tr>\n",
       "      <th>17</th>\n",
       "      <td>16</td>\n",
       "      <td>18</td>\n",
       "      <td>11235</td>\n",
       "    </tr>\n",
       "    <tr>\n",
       "      <th>18</th>\n",
       "      <td>12</td>\n",
       "      <td>19</td>\n",
       "      <td>11146</td>\n",
       "    </tr>\n",
       "    <tr>\n",
       "      <th>19</th>\n",
       "      <td>17</td>\n",
       "      <td>20</td>\n",
       "      <td>12647</td>\n",
       "    </tr>\n",
       "  </tbody>\n",
       "</table>\n",
       "</div>"
      ],
      "text/plain": [
       "    index  Arrondissement  NbTransactions\n",
       "0       0               1            2539\n",
       "1       7               2            1787\n",
       "2       2               3            4250\n",
       "3      10               4            3884\n",
       "4      14               5            9005\n",
       "5       1               6            6784\n",
       "6      11               7           12024\n",
       "7      15               8           15113\n",
       "8      18               9            8021\n",
       "9       5              10            5487\n",
       "10      3              11           12309\n",
       "11      4              12           15746\n",
       "12     13              13           20889\n",
       "13      6              14           16671\n",
       "14      8              15           24863\n",
       "15     19              16           27718\n",
       "16      9              17           20413\n",
       "17     16              18           11235\n",
       "18     12              19           11146\n",
       "19     17              20           12647"
      ]
     },
     "execution_count": 137,
     "metadata": {},
     "output_type": "execute_result"
    }
   ],
   "source": [
    "df = pandas.DataFrame(res)\n",
    "df.columns = [ \"Arrondissement\", \"NbTransactions\"]\n",
    "df = df.sort_values(by = \"Arrondissement\").reset_index()\n",
    "df"
   ]
  },
  {
   "cell_type": "code",
   "execution_count": 138,
   "metadata": {
    "collapsed": false
   },
   "outputs": [
    {
     "data": {
      "text/plain": [
       "<seaborn.axisgrid.FacetGrid at 0x116306978>"
      ]
     },
     "execution_count": 138,
     "metadata": {},
     "output_type": "execute_result"
    },
    {
     "data": {
      "image/png": "[encoded data removed]",
      "text/plain": [
       "<matplotlib.figure.Figure at 0x118c22320>"
      ]
     },
     "metadata": {},
     "output_type": "display_data"
    }
   ],
   "source": [
    "seaborn.factorplot(x = \"Arrondissement\", y = \"NbTransactions\",\n",
    "                   data = df, kind = \"bar\", size = 4, aspect = 3)"
   ]
  },
  {
   "cell_type": "markdown",
   "metadata": {
    "deletable": true,
    "editable": true
   },
   "source": [
    "### 2. Calculer la répartition du type d'alimentation par arrondissement"
   ]
  },
  {
   "cell_type": "code",
   "execution_count": 139,
   "metadata": {
    "collapsed": false,
    "deletable": true,
    "editable": true
   },
   "outputs": [
    {
     "name": "stdout",
     "output_type": "stream",
     "text": [
      "[{'_id': {'arrondissement': 20, 'type': 'PILE'}, 'nb': 7},\n",
      " {'_id': {'arrondissement': 9, 'type': 'PILE'}, 'nb': 6},\n",
      " {'_id': {'arrondissement': 7, 'type': 'SOLAIRE'}, 'nb': 1340},\n",
      " {'_id': {'arrondissement': 6, 'type': 'PILE'}, 'nb': 2414},\n",
      " {'_id': {'arrondissement': 5, 'type': 'SOLAIRE'}, 'nb': 1158},\n",
      " {'_id': {'arrondissement': 1, 'type': 'SOLAIRE'}, 'nb': 2518},\n",
      " {'_id': {'arrondissement': 18, 'type': 'SOLAIRE'}, 'nb': 4504},\n",
      " {'_id': {'arrondissement': 6, 'type': 'SOLAIRE'}, 'nb': 4370},\n",
      " {'_id': {'arrondissement': 5, 'type': 'PILE'}, 'nb': 7847},\n",
      " {'_id': {'arrondissement': 4, 'type': 'SOLAIRE'}, 'nb': 3884},\n",
      " {'_id': {'arrondissement': 18, 'type': 'PILE'}, 'nb': 6731},\n",
      " {'_id': {'arrondissement': 19, 'type': 'PILE'}, 'nb': 5962},\n",
      " {'_id': {'arrondissement': 17, 'type': 'PILE'}, 'nb': 33},\n",
      " {'_id': {'arrondissement': 2, 'type': 'SOLAIRE'}, 'nb': 1787},\n",
      " {'_id': {'arrondissement': 16, 'type': 'PILE'}, 'nb': 19477},\n",
      " {'_id': {'arrondissement': 8, 'type': 'SOLAIRE'}, 'nb': 15074},\n",
      " {'_id': {'arrondissement': 20, 'type': 'SOLAIRE'}, 'nb': 12640},\n",
      " {'_id': {'arrondissement': 12, 'type': 'PILE'}, 'nb': 13080},\n",
      " {'_id': {'arrondissement': 13, 'type': 'SOLAIRE'}, 'nb': 20865},\n",
      " {'_id': {'arrondissement': 19, 'type': 'SOLAIRE'}, 'nb': 5184},\n",
      " {'_id': {'arrondissement': 15, 'type': 'PILE'}, 'nb': 13107},\n",
      " {'_id': {'arrondissement': 10, 'type': 'PILE'}, 'nb': 5374},\n",
      " {'_id': {'arrondissement': 9, 'type': 'SOLAIRE'}, 'nb': 8015},\n",
      " {'_id': {'arrondissement': 3, 'type': 'SOLAIRE'}, 'nb': 4250},\n",
      " {'_id': {'arrondissement': 14, 'type': 'SOLAIRE'}, 'nb': 3856},\n",
      " {'_id': {'arrondissement': 15, 'type': 'SOLAIRE'}, 'nb': 11750},\n",
      " {'_id': {'arrondissement': 10, 'type': 'SOLAIRE'}, 'nb': 113},\n",
      " {'_id': {'arrondissement': 17, 'type': 'SOLAIRE'}, 'nb': 20380},\n",
      " {'_id': {'arrondissement': 16, 'type': 'SOLAIRE'}, 'nb': 8241},\n",
      " {'_id': {'arrondissement': 7, 'type': 'PILE'}, 'nb': 10684},\n",
      " {'_id': {'arrondissement': 11, 'type': 'SOLAIRE'}, 'nb': 12293},\n",
      " {'_id': {'arrondissement': 14, 'type': 'PILE'}, 'nb': 12815},\n",
      " {'_id': {'arrondissement': 12, 'type': 'SOLAIRE'}, 'nb': 2666}]\n"
     ]
    }
   ],
   "source": [
    "res = list(horo.mobiliers.aggregate([\n",
    "    { \"$lookup\": {\n",
    "        \"from\": \"transactions_small\",\n",
    "        \"localField\": \"fields.numhoro\",\n",
    "        \"foreignField\": \"horodateur\",\n",
    "        \"as\": \"transactions\"\n",
    "    }},\n",
    "    { \"$unwind\" : \"$transactions\" },\n",
    "#    { \"$limit\" : 10000},\n",
    "    { \"$group\" : { \"_id\" : { \"arrondissement\" : \"$fields.arrondt\", \"type\" : \"$fields.alim\" }, \"nb\" : { \"$sum\" : 1 }}},\n",
    "    { \"$match\" : { \"_id.type\" : {\"$exists\" : True }}}\n",
    "]))\n",
    "pprint(res)"
   ]
  },
  {
   "cell_type": "code",
   "execution_count": 141,
   "metadata": {
    "collapsed": false
   },
   "outputs": [
    {
     "data": {
      "text/html": [
       "<div>\n",
       "<table border=\"1\" class=\"dataframe\">\n",
       "  <thead>\n",
       "    <tr style=\"text-align: right;\">\n",
       "      <th></th>\n",
       "      <th>nb</th>\n",
       "      <th>Alimentation</th>\n",
       "      <th>Arrondissement</th>\n",
       "    </tr>\n",
       "  </thead>\n",
       "  <tbody>\n",
       "    <tr>\n",
       "      <th>0</th>\n",
       "      <td>7</td>\n",
       "      <td>PILE</td>\n",
       "      <td>20</td>\n",
       "    </tr>\n",
       "    <tr>\n",
       "      <th>1</th>\n",
       "      <td>6</td>\n",
       "      <td>PILE</td>\n",
       "      <td>9</td>\n",
       "    </tr>\n",
       "    <tr>\n",
       "      <th>2</th>\n",
       "      <td>1340</td>\n",
       "      <td>SOLAIRE</td>\n",
       "      <td>7</td>\n",
       "    </tr>\n",
       "    <tr>\n",
       "      <th>3</th>\n",
       "      <td>2414</td>\n",
       "      <td>PILE</td>\n",
       "      <td>6</td>\n",
       "    </tr>\n",
       "    <tr>\n",
       "      <th>4</th>\n",
       "      <td>1158</td>\n",
       "      <td>SOLAIRE</td>\n",
       "      <td>5</td>\n",
       "    </tr>\n",
       "    <tr>\n",
       "      <th>5</th>\n",
       "      <td>2518</td>\n",
       "      <td>SOLAIRE</td>\n",
       "      <td>1</td>\n",
       "    </tr>\n",
       "    <tr>\n",
       "      <th>6</th>\n",
       "      <td>4504</td>\n",
       "      <td>SOLAIRE</td>\n",
       "      <td>18</td>\n",
       "    </tr>\n",
       "    <tr>\n",
       "      <th>7</th>\n",
       "      <td>4370</td>\n",
       "      <td>SOLAIRE</td>\n",
       "      <td>6</td>\n",
       "    </tr>\n",
       "    <tr>\n",
       "      <th>8</th>\n",
       "      <td>7847</td>\n",
       "      <td>PILE</td>\n",
       "      <td>5</td>\n",
       "    </tr>\n",
       "    <tr>\n",
       "      <th>9</th>\n",
       "      <td>3884</td>\n",
       "      <td>SOLAIRE</td>\n",
       "      <td>4</td>\n",
       "    </tr>\n",
       "    <tr>\n",
       "      <th>10</th>\n",
       "      <td>6731</td>\n",
       "      <td>PILE</td>\n",
       "      <td>18</td>\n",
       "    </tr>\n",
       "    <tr>\n",
       "      <th>11</th>\n",
       "      <td>5962</td>\n",
       "      <td>PILE</td>\n",
       "      <td>19</td>\n",
       "    </tr>\n",
       "    <tr>\n",
       "      <th>12</th>\n",
       "      <td>33</td>\n",
       "      <td>PILE</td>\n",
       "      <td>17</td>\n",
       "    </tr>\n",
       "    <tr>\n",
       "      <th>13</th>\n",
       "      <td>1787</td>\n",
       "      <td>SOLAIRE</td>\n",
       "      <td>2</td>\n",
       "    </tr>\n",
       "    <tr>\n",
       "      <th>14</th>\n",
       "      <td>19477</td>\n",
       "      <td>PILE</td>\n",
       "      <td>16</td>\n",
       "    </tr>\n",
       "    <tr>\n",
       "      <th>15</th>\n",
       "      <td>15074</td>\n",
       "      <td>SOLAIRE</td>\n",
       "      <td>8</td>\n",
       "    </tr>\n",
       "    <tr>\n",
       "      <th>16</th>\n",
       "      <td>12640</td>\n",
       "      <td>SOLAIRE</td>\n",
       "      <td>20</td>\n",
       "    </tr>\n",
       "    <tr>\n",
       "      <th>17</th>\n",
       "      <td>13080</td>\n",
       "      <td>PILE</td>\n",
       "      <td>12</td>\n",
       "    </tr>\n",
       "    <tr>\n",
       "      <th>18</th>\n",
       "      <td>20865</td>\n",
       "      <td>SOLAIRE</td>\n",
       "      <td>13</td>\n",
       "    </tr>\n",
       "    <tr>\n",
       "      <th>19</th>\n",
       "      <td>5184</td>\n",
       "      <td>SOLAIRE</td>\n",
       "      <td>19</td>\n",
       "    </tr>\n",
       "    <tr>\n",
       "      <th>20</th>\n",
       "      <td>13107</td>\n",
       "      <td>PILE</td>\n",
       "      <td>15</td>\n",
       "    </tr>\n",
       "    <tr>\n",
       "      <th>21</th>\n",
       "      <td>5374</td>\n",
       "      <td>PILE</td>\n",
       "      <td>10</td>\n",
       "    </tr>\n",
       "    <tr>\n",
       "      <th>22</th>\n",
       "      <td>8015</td>\n",
       "      <td>SOLAIRE</td>\n",
       "      <td>9</td>\n",
       "    </tr>\n",
       "    <tr>\n",
       "      <th>23</th>\n",
       "      <td>4250</td>\n",
       "      <td>SOLAIRE</td>\n",
       "      <td>3</td>\n",
       "    </tr>\n",
       "    <tr>\n",
       "      <th>24</th>\n",
       "      <td>3856</td>\n",
       "      <td>SOLAIRE</td>\n",
       "      <td>14</td>\n",
       "    </tr>\n",
       "    <tr>\n",
       "      <th>25</th>\n",
       "      <td>11750</td>\n",
       "      <td>SOLAIRE</td>\n",
       "      <td>15</td>\n",
       "    </tr>\n",
       "    <tr>\n",
       "      <th>26</th>\n",
       "      <td>113</td>\n",
       "      <td>SOLAIRE</td>\n",
       "      <td>10</td>\n",
       "    </tr>\n",
       "    <tr>\n",
       "      <th>27</th>\n",
       "      <td>20380</td>\n",
       "      <td>SOLAIRE</td>\n",
       "      <td>17</td>\n",
       "    </tr>\n",
       "    <tr>\n",
       "      <th>28</th>\n",
       "      <td>8241</td>\n",
       "      <td>SOLAIRE</td>\n",
       "      <td>16</td>\n",
       "    </tr>\n",
       "    <tr>\n",
       "      <th>29</th>\n",
       "      <td>10684</td>\n",
       "      <td>PILE</td>\n",
       "      <td>7</td>\n",
       "    </tr>\n",
       "    <tr>\n",
       "      <th>30</th>\n",
       "      <td>12293</td>\n",
       "      <td>SOLAIRE</td>\n",
       "      <td>11</td>\n",
       "    </tr>\n",
       "    <tr>\n",
       "      <th>31</th>\n",
       "      <td>12815</td>\n",
       "      <td>PILE</td>\n",
       "      <td>14</td>\n",
       "    </tr>\n",
       "    <tr>\n",
       "      <th>32</th>\n",
       "      <td>2666</td>\n",
       "      <td>SOLAIRE</td>\n",
       "      <td>12</td>\n",
       "    </tr>\n",
       "  </tbody>\n",
       "</table>\n",
       "</div>"
      ],
      "text/plain": [
       "       nb Alimentation  Arrondissement\n",
       "0       7         PILE              20\n",
       "1       6         PILE               9\n",
       "2    1340      SOLAIRE               7\n",
       "3    2414         PILE               6\n",
       "4    1158      SOLAIRE               5\n",
       "5    2518      SOLAIRE               1\n",
       "6    4504      SOLAIRE              18\n",
       "7    4370      SOLAIRE               6\n",
       "8    7847         PILE               5\n",
       "9    3884      SOLAIRE               4\n",
       "10   6731         PILE              18\n",
       "11   5962         PILE              19\n",
       "12     33         PILE              17\n",
       "13   1787      SOLAIRE               2\n",
       "14  19477         PILE              16\n",
       "15  15074      SOLAIRE               8\n",
       "16  12640      SOLAIRE              20\n",
       "17  13080         PILE              12\n",
       "18  20865      SOLAIRE              13\n",
       "19   5184      SOLAIRE              19\n",
       "20  13107         PILE              15\n",
       "21   5374         PILE              10\n",
       "22   8015      SOLAIRE               9\n",
       "23   4250      SOLAIRE               3\n",
       "24   3856      SOLAIRE              14\n",
       "25  11750      SOLAIRE              15\n",
       "26    113      SOLAIRE              10\n",
       "27  20380      SOLAIRE              17\n",
       "28   8241      SOLAIRE              16\n",
       "29  10684         PILE               7\n",
       "30  12293      SOLAIRE              11\n",
       "31  12815         PILE              14\n",
       "32   2666      SOLAIRE              12"
      ]
     },
     "execution_count": 141,
     "metadata": {},
     "output_type": "execute_result"
    }
   ],
   "source": [
    "df = pandas.DataFrame(res)\n",
    "df = df.assign(\n",
    "    Arrondissement = [a['arrondissement'] for a in df._id],\n",
    "    Alimentation = [a['type'] for a in df._id]\n",
    ").drop(\"_id\", 1)\n",
    "df"
   ]
  },
  {
   "cell_type": "code",
   "execution_count": 142,
   "metadata": {
    "collapsed": false
   },
   "outputs": [
    {
     "data": {
      "text/plain": [
       "<seaborn.axisgrid.FacetGrid at 0x116c5bc50>"
      ]
     },
     "execution_count": 142,
     "metadata": {},
     "output_type": "execute_result"
    },
    {
     "data": {
      "image/png": "[encoded data removed]",
      "text/plain": [
       "<matplotlib.figure.Figure at 0x119048080>"
      ]
     },
     "metadata": {},
     "output_type": "display_data"
    }
   ],
   "source": [
    "seaborn.factorplot(x = \"Alimentation\", y = \"nb\",\n",
    "                   col = \"Arrondissement\", col_wrap = 10,\n",
    "                   data = df, kind = \"bar\", size = 6)"
   ]
  },
  {
   "cell_type": "code",
   "execution_count": 143,
   "metadata": {
    "collapsed": false
   },
   "outputs": [
    {
     "data": {
      "text/html": [
       "<div>\n",
       "<table border=\"1\" class=\"dataframe\">\n",
       "  <thead>\n",
       "    <tr style=\"text-align: right;\">\n",
       "      <th>Alimentation</th>\n",
       "      <th>PILE</th>\n",
       "      <th>SOLAIRE</th>\n",
       "      <th>Arrondissement</th>\n",
       "    </tr>\n",
       "    <tr>\n",
       "      <th>Arrondissement</th>\n",
       "      <th></th>\n",
       "      <th></th>\n",
       "      <th></th>\n",
       "    </tr>\n",
       "  </thead>\n",
       "  <tbody>\n",
       "    <tr>\n",
       "      <th>1</th>\n",
       "      <td>0.000000</td>\n",
       "      <td>1.000000</td>\n",
       "      <td>1</td>\n",
       "    </tr>\n",
       "    <tr>\n",
       "      <th>2</th>\n",
       "      <td>0.000000</td>\n",
       "      <td>1.000000</td>\n",
       "      <td>2</td>\n",
       "    </tr>\n",
       "    <tr>\n",
       "      <th>3</th>\n",
       "      <td>0.000000</td>\n",
       "      <td>1.000000</td>\n",
       "      <td>3</td>\n",
       "    </tr>\n",
       "    <tr>\n",
       "      <th>4</th>\n",
       "      <td>0.000000</td>\n",
       "      <td>1.000000</td>\n",
       "      <td>4</td>\n",
       "    </tr>\n",
       "    <tr>\n",
       "      <th>5</th>\n",
       "      <td>0.871405</td>\n",
       "      <td>0.128595</td>\n",
       "      <td>5</td>\n",
       "    </tr>\n",
       "    <tr>\n",
       "      <th>6</th>\n",
       "      <td>0.355837</td>\n",
       "      <td>0.644163</td>\n",
       "      <td>6</td>\n",
       "    </tr>\n",
       "    <tr>\n",
       "      <th>7</th>\n",
       "      <td>0.888556</td>\n",
       "      <td>0.111444</td>\n",
       "      <td>7</td>\n",
       "    </tr>\n",
       "    <tr>\n",
       "      <th>8</th>\n",
       "      <td>0.000000</td>\n",
       "      <td>1.000000</td>\n",
       "      <td>8</td>\n",
       "    </tr>\n",
       "    <tr>\n",
       "      <th>9</th>\n",
       "      <td>0.000748</td>\n",
       "      <td>0.999252</td>\n",
       "      <td>9</td>\n",
       "    </tr>\n",
       "    <tr>\n",
       "      <th>10</th>\n",
       "      <td>0.979406</td>\n",
       "      <td>0.020594</td>\n",
       "      <td>10</td>\n",
       "    </tr>\n",
       "    <tr>\n",
       "      <th>11</th>\n",
       "      <td>0.000000</td>\n",
       "      <td>1.000000</td>\n",
       "      <td>11</td>\n",
       "    </tr>\n",
       "    <tr>\n",
       "      <th>12</th>\n",
       "      <td>0.830687</td>\n",
       "      <td>0.169313</td>\n",
       "      <td>12</td>\n",
       "    </tr>\n",
       "    <tr>\n",
       "      <th>13</th>\n",
       "      <td>0.000000</td>\n",
       "      <td>1.000000</td>\n",
       "      <td>13</td>\n",
       "    </tr>\n",
       "    <tr>\n",
       "      <th>14</th>\n",
       "      <td>0.768700</td>\n",
       "      <td>0.231300</td>\n",
       "      <td>14</td>\n",
       "    </tr>\n",
       "    <tr>\n",
       "      <th>15</th>\n",
       "      <td>0.527296</td>\n",
       "      <td>0.472704</td>\n",
       "      <td>15</td>\n",
       "    </tr>\n",
       "    <tr>\n",
       "      <th>16</th>\n",
       "      <td>0.702684</td>\n",
       "      <td>0.297316</td>\n",
       "      <td>16</td>\n",
       "    </tr>\n",
       "    <tr>\n",
       "      <th>17</th>\n",
       "      <td>0.001617</td>\n",
       "      <td>0.998383</td>\n",
       "      <td>17</td>\n",
       "    </tr>\n",
       "    <tr>\n",
       "      <th>18</th>\n",
       "      <td>0.599110</td>\n",
       "      <td>0.400890</td>\n",
       "      <td>18</td>\n",
       "    </tr>\n",
       "    <tr>\n",
       "      <th>19</th>\n",
       "      <td>0.534900</td>\n",
       "      <td>0.465100</td>\n",
       "      <td>19</td>\n",
       "    </tr>\n",
       "    <tr>\n",
       "      <th>20</th>\n",
       "      <td>0.000553</td>\n",
       "      <td>0.999447</td>\n",
       "      <td>20</td>\n",
       "    </tr>\n",
       "  </tbody>\n",
       "</table>\n",
       "</div>"
      ],
      "text/plain": [
       "Alimentation        PILE   SOLAIRE  Arrondissement\n",
       "Arrondissement                                    \n",
       "1               0.000000  1.000000               1\n",
       "2               0.000000  1.000000               2\n",
       "3               0.000000  1.000000               3\n",
       "4               0.000000  1.000000               4\n",
       "5               0.871405  0.128595               5\n",
       "6               0.355837  0.644163               6\n",
       "7               0.888556  0.111444               7\n",
       "8               0.000000  1.000000               8\n",
       "9               0.000748  0.999252               9\n",
       "10              0.979406  0.020594              10\n",
       "11              0.000000  1.000000              11\n",
       "12              0.830687  0.169313              12\n",
       "13              0.000000  1.000000              13\n",
       "14              0.768700  0.231300              14\n",
       "15              0.527296  0.472704              15\n",
       "16              0.702684  0.297316              16\n",
       "17              0.001617  0.998383              17\n",
       "18              0.599110  0.400890              18\n",
       "19              0.534900  0.465100              19\n",
       "20              0.000553  0.999447              20"
      ]
     },
     "execution_count": 143,
     "metadata": {},
     "output_type": "execute_result"
    }
   ],
   "source": [
    "cross = pandas.crosstab(df.Arrondissement, df.Alimentation, values = df.nb, aggfunc = sum, normalize = \"index\")\n",
    "cross = cross.assign(Arrondissement = cross.index)\n",
    "cross"
   ]
  },
  {
   "cell_type": "code",
   "execution_count": 144,
   "metadata": {
    "collapsed": false
   },
   "outputs": [
    {
     "data": {
      "text/html": [
       "<div>\n",
       "<table border=\"1\" class=\"dataframe\">\n",
       "  <thead>\n",
       "    <tr style=\"text-align: right;\">\n",
       "      <th></th>\n",
       "      <th>Arrondissement</th>\n",
       "      <th>Alimentation</th>\n",
       "      <th>value</th>\n",
       "    </tr>\n",
       "  </thead>\n",
       "  <tbody>\n",
       "    <tr>\n",
       "      <th>0</th>\n",
       "      <td>1</td>\n",
       "      <td>PILE</td>\n",
       "      <td>0.000000</td>\n",
       "    </tr>\n",
       "    <tr>\n",
       "      <th>1</th>\n",
       "      <td>2</td>\n",
       "      <td>PILE</td>\n",
       "      <td>0.000000</td>\n",
       "    </tr>\n",
       "    <tr>\n",
       "      <th>2</th>\n",
       "      <td>3</td>\n",
       "      <td>PILE</td>\n",
       "      <td>0.000000</td>\n",
       "    </tr>\n",
       "    <tr>\n",
       "      <th>3</th>\n",
       "      <td>4</td>\n",
       "      <td>PILE</td>\n",
       "      <td>0.000000</td>\n",
       "    </tr>\n",
       "    <tr>\n",
       "      <th>4</th>\n",
       "      <td>5</td>\n",
       "      <td>PILE</td>\n",
       "      <td>87.140478</td>\n",
       "    </tr>\n",
       "    <tr>\n",
       "      <th>5</th>\n",
       "      <td>6</td>\n",
       "      <td>PILE</td>\n",
       "      <td>35.583726</td>\n",
       "    </tr>\n",
       "    <tr>\n",
       "      <th>6</th>\n",
       "      <td>7</td>\n",
       "      <td>PILE</td>\n",
       "      <td>88.855622</td>\n",
       "    </tr>\n",
       "    <tr>\n",
       "      <th>7</th>\n",
       "      <td>8</td>\n",
       "      <td>PILE</td>\n",
       "      <td>0.000000</td>\n",
       "    </tr>\n",
       "    <tr>\n",
       "      <th>8</th>\n",
       "      <td>9</td>\n",
       "      <td>PILE</td>\n",
       "      <td>0.074804</td>\n",
       "    </tr>\n",
       "    <tr>\n",
       "      <th>9</th>\n",
       "      <td>10</td>\n",
       "      <td>PILE</td>\n",
       "      <td>97.940587</td>\n",
       "    </tr>\n",
       "    <tr>\n",
       "      <th>10</th>\n",
       "      <td>11</td>\n",
       "      <td>PILE</td>\n",
       "      <td>0.000000</td>\n",
       "    </tr>\n",
       "    <tr>\n",
       "      <th>11</th>\n",
       "      <td>12</td>\n",
       "      <td>PILE</td>\n",
       "      <td>83.068716</td>\n",
       "    </tr>\n",
       "    <tr>\n",
       "      <th>12</th>\n",
       "      <td>13</td>\n",
       "      <td>PILE</td>\n",
       "      <td>0.000000</td>\n",
       "    </tr>\n",
       "    <tr>\n",
       "      <th>13</th>\n",
       "      <td>14</td>\n",
       "      <td>PILE</td>\n",
       "      <td>76.870014</td>\n",
       "    </tr>\n",
       "    <tr>\n",
       "      <th>14</th>\n",
       "      <td>15</td>\n",
       "      <td>PILE</td>\n",
       "      <td>52.729613</td>\n",
       "    </tr>\n",
       "    <tr>\n",
       "      <th>15</th>\n",
       "      <td>16</td>\n",
       "      <td>PILE</td>\n",
       "      <td>70.268418</td>\n",
       "    </tr>\n",
       "    <tr>\n",
       "      <th>16</th>\n",
       "      <td>17</td>\n",
       "      <td>PILE</td>\n",
       "      <td>0.161662</td>\n",
       "    </tr>\n",
       "    <tr>\n",
       "      <th>17</th>\n",
       "      <td>18</td>\n",
       "      <td>PILE</td>\n",
       "      <td>59.910992</td>\n",
       "    </tr>\n",
       "    <tr>\n",
       "      <th>18</th>\n",
       "      <td>19</td>\n",
       "      <td>PILE</td>\n",
       "      <td>53.490041</td>\n",
       "    </tr>\n",
       "    <tr>\n",
       "      <th>19</th>\n",
       "      <td>20</td>\n",
       "      <td>PILE</td>\n",
       "      <td>0.055349</td>\n",
       "    </tr>\n",
       "    <tr>\n",
       "      <th>20</th>\n",
       "      <td>1</td>\n",
       "      <td>SOLAIRE</td>\n",
       "      <td>100.000000</td>\n",
       "    </tr>\n",
       "    <tr>\n",
       "      <th>21</th>\n",
       "      <td>2</td>\n",
       "      <td>SOLAIRE</td>\n",
       "      <td>100.000000</td>\n",
       "    </tr>\n",
       "    <tr>\n",
       "      <th>22</th>\n",
       "      <td>3</td>\n",
       "      <td>SOLAIRE</td>\n",
       "      <td>100.000000</td>\n",
       "    </tr>\n",
       "    <tr>\n",
       "      <th>23</th>\n",
       "      <td>4</td>\n",
       "      <td>SOLAIRE</td>\n",
       "      <td>100.000000</td>\n",
       "    </tr>\n",
       "    <tr>\n",
       "      <th>24</th>\n",
       "      <td>5</td>\n",
       "      <td>SOLAIRE</td>\n",
       "      <td>12.859522</td>\n",
       "    </tr>\n",
       "    <tr>\n",
       "      <th>25</th>\n",
       "      <td>6</td>\n",
       "      <td>SOLAIRE</td>\n",
       "      <td>64.416274</td>\n",
       "    </tr>\n",
       "    <tr>\n",
       "      <th>26</th>\n",
       "      <td>7</td>\n",
       "      <td>SOLAIRE</td>\n",
       "      <td>11.144378</td>\n",
       "    </tr>\n",
       "    <tr>\n",
       "      <th>27</th>\n",
       "      <td>8</td>\n",
       "      <td>SOLAIRE</td>\n",
       "      <td>100.000000</td>\n",
       "    </tr>\n",
       "    <tr>\n",
       "      <th>28</th>\n",
       "      <td>9</td>\n",
       "      <td>SOLAIRE</td>\n",
       "      <td>99.925196</td>\n",
       "    </tr>\n",
       "    <tr>\n",
       "      <th>29</th>\n",
       "      <td>10</td>\n",
       "      <td>SOLAIRE</td>\n",
       "      <td>2.059413</td>\n",
       "    </tr>\n",
       "    <tr>\n",
       "      <th>30</th>\n",
       "      <td>11</td>\n",
       "      <td>SOLAIRE</td>\n",
       "      <td>100.000000</td>\n",
       "    </tr>\n",
       "    <tr>\n",
       "      <th>31</th>\n",
       "      <td>12</td>\n",
       "      <td>SOLAIRE</td>\n",
       "      <td>16.931284</td>\n",
       "    </tr>\n",
       "    <tr>\n",
       "      <th>32</th>\n",
       "      <td>13</td>\n",
       "      <td>SOLAIRE</td>\n",
       "      <td>100.000000</td>\n",
       "    </tr>\n",
       "    <tr>\n",
       "      <th>33</th>\n",
       "      <td>14</td>\n",
       "      <td>SOLAIRE</td>\n",
       "      <td>23.129986</td>\n",
       "    </tr>\n",
       "    <tr>\n",
       "      <th>34</th>\n",
       "      <td>15</td>\n",
       "      <td>SOLAIRE</td>\n",
       "      <td>47.270387</td>\n",
       "    </tr>\n",
       "    <tr>\n",
       "      <th>35</th>\n",
       "      <td>16</td>\n",
       "      <td>SOLAIRE</td>\n",
       "      <td>29.731582</td>\n",
       "    </tr>\n",
       "    <tr>\n",
       "      <th>36</th>\n",
       "      <td>17</td>\n",
       "      <td>SOLAIRE</td>\n",
       "      <td>99.838338</td>\n",
       "    </tr>\n",
       "    <tr>\n",
       "      <th>37</th>\n",
       "      <td>18</td>\n",
       "      <td>SOLAIRE</td>\n",
       "      <td>40.089008</td>\n",
       "    </tr>\n",
       "    <tr>\n",
       "      <th>38</th>\n",
       "      <td>19</td>\n",
       "      <td>SOLAIRE</td>\n",
       "      <td>46.509959</td>\n",
       "    </tr>\n",
       "    <tr>\n",
       "      <th>39</th>\n",
       "      <td>20</td>\n",
       "      <td>SOLAIRE</td>\n",
       "      <td>99.944651</td>\n",
       "    </tr>\n",
       "  </tbody>\n",
       "</table>\n",
       "</div>"
      ],
      "text/plain": [
       "    Arrondissement Alimentation       value\n",
       "0                1         PILE    0.000000\n",
       "1                2         PILE    0.000000\n",
       "2                3         PILE    0.000000\n",
       "3                4         PILE    0.000000\n",
       "4                5         PILE   87.140478\n",
       "5                6         PILE   35.583726\n",
       "6                7         PILE   88.855622\n",
       "7                8         PILE    0.000000\n",
       "8                9         PILE    0.074804\n",
       "9               10         PILE   97.940587\n",
       "10              11         PILE    0.000000\n",
       "11              12         PILE   83.068716\n",
       "12              13         PILE    0.000000\n",
       "13              14         PILE   76.870014\n",
       "14              15         PILE   52.729613\n",
       "15              16         PILE   70.268418\n",
       "16              17         PILE    0.161662\n",
       "17              18         PILE   59.910992\n",
       "18              19         PILE   53.490041\n",
       "19              20         PILE    0.055349\n",
       "20               1      SOLAIRE  100.000000\n",
       "21               2      SOLAIRE  100.000000\n",
       "22               3      SOLAIRE  100.000000\n",
       "23               4      SOLAIRE  100.000000\n",
       "24               5      SOLAIRE   12.859522\n",
       "25               6      SOLAIRE   64.416274\n",
       "26               7      SOLAIRE   11.144378\n",
       "27               8      SOLAIRE  100.000000\n",
       "28               9      SOLAIRE   99.925196\n",
       "29              10      SOLAIRE    2.059413\n",
       "30              11      SOLAIRE  100.000000\n",
       "31              12      SOLAIRE   16.931284\n",
       "32              13      SOLAIRE  100.000000\n",
       "33              14      SOLAIRE   23.129986\n",
       "34              15      SOLAIRE   47.270387\n",
       "35              16      SOLAIRE   29.731582\n",
       "36              17      SOLAIRE   99.838338\n",
       "37              18      SOLAIRE   40.089008\n",
       "38              19      SOLAIRE   46.509959\n",
       "39              20      SOLAIRE   99.944651"
      ]
     },
     "execution_count": 144,
     "metadata": {},
     "output_type": "execute_result"
    }
   ],
   "source": [
    "crossm = pandas.melt(cross, id_vars = \"Arrondissement\")\n",
    "crossm = crossm.assign(value = 100 * crossm.value)\n",
    "crossm"
   ]
  },
  {
   "cell_type": "code",
   "execution_count": 145,
   "metadata": {
    "collapsed": false
   },
   "outputs": [
    {
     "data": {
      "text/plain": [
       "<seaborn.axisgrid.FacetGrid at 0x11ab69828>"
      ]
     },
     "execution_count": 145,
     "metadata": {},
     "output_type": "execute_result"
    },
    {
     "data": {
      "image/png": "[encoded data removed]",
      "text/plain": [
       "<matplotlib.figure.Figure at 0x11ab2a320>"
      ]
     },
     "metadata": {},
     "output_type": "display_data"
    }
   ],
   "source": [
    "seaborn.factorplot(x = \"Alimentation\", y = \"value\", \n",
    "                   col = \"Arrondissement\", col_wrap = 10,\n",
    "                   data = crossm, kind = \"bar\", size = 6)"
   ]
  }
 ],
 "metadata": {
  "kernelspec": {
   "display_name": "Python 3",
   "language": "python",
   "name": "python3"
  },
  "language_info": {
   "codemirror_mode": {
    "name": "ipython",
    "version": 3
   },
   "file_extension": ".py",
   "mimetype": "text/x-python",
   "name": "python",
   "nbconvert_exporter": "python",
   "pygments_lexer": "ipython3",
   "version": "3.6.0"
  }
 },
 "nbformat": 4,
 "nbformat_minor": 2
}
